{
 "cells": [
  {
   "cell_type": "markdown",
   "metadata": {},
   "source": [
    "# 1. Importing and Cleaning Data"
   ]
  },
  {
   "cell_type": "code",
   "execution_count": null,
   "metadata": {},
   "outputs": [],
   "source": [
    "import pandas as pd\n",
    "import numpy as np\n",
    "import csv\n",
    "import seaborn as sns\n",
    "import matplotlib.pyplot as plt         "
   ]
  },
  {
   "cell_type": "markdown",
   "metadata": {},
   "source": [
    "Loading the files"
   ]
  },
  {
   "cell_type": "code",
   "execution_count": null,
   "metadata": {},
   "outputs": [],
   "source": [
    "# Load the CSV file\n",
    "csv_file_path = '/Users/gregorycrooks/Downloads/pitch_by_pitch_metadata 2.csv'\n",
    "csv_data = pd.read_csv(csv_file_path, encoding='latin-1')\n",
    "\n",
    "# Display the first few rows of the CSV to understand its structure\n",
    "print(csv_data.head())\n",
    "\n",
    "# Load the text file\n",
    "text_file_path = '/Users/gregorycrooks/Downloads/pitches_folder/pitches'\n",
    "with open(text_file_path, 'r') as file:\n",
    "    text_data = file.readlines()"
   ]
  },
  {
   "cell_type": "markdown",
   "metadata": {},
   "source": [
    "### Cleaning up the Data"
   ]
  },
  {
   "cell_type": "code",
   "execution_count": null,
   "metadata": {},
   "outputs": [],
   "source": [
    "import pandas as pd\n",
    "import random\n",
    "\n",
    "# Assuming text_data contains both the header and the values\n",
    "# The first row is the header, and the rest are the data\n",
    "header = text_data[0]\n",
    "data = text_data[1:]  # Exclude the header\n",
    "\n",
    "# Randomly sample 200,000 rows from the data\n",
    "random_sample = random.sample(data, 50000)\n",
    "\n",
    "# Split the header by commas and remove double quotes\n",
    "header = [col.replace('\"', '') for col in header.split(\",\")]\n",
    "\n",
    "# Create an empty list to hold valid rows\n",
    "valid_rows = []\n",
    "\n",
    "# Loop through each sampled row\n",
    "for i in random_sample:\n",
    "    # Split each row by commas and remove double quotes from each value\n",
    "    row = [val.replace('\"', '') for val in i.split(\",\")]\n",
    "    \n",
    "    # Check for different row lengths\n",
    "    if len(row) == 126:\n",
    "        # If the length is 126, find and pop one value\n",
    "        consecutive_empty_count = 0\n",
    "        for index in range(len(row)):\n",
    "            if row[index] == \"\":\n",
    "                consecutive_empty_count += 1\n",
    "                if consecutive_empty_count == 2:\n",
    "                    # Pop one empty value\n",
    "                    row.pop(index)\n",
    "                    break  # Break after removing one value\n",
    "            else:\n",
    "                consecutive_empty_count = 0  # Reset if a non-empty value is found\n",
    "\n",
    "    elif len(row) == 127:\n",
    "        # If the length is 127, find and pop two values\n",
    "        consecutive_empty_count = 0\n",
    "        for index in range(len(row)):\n",
    "            if row[index] == \"\":\n",
    "                consecutive_empty_count += 1\n",
    "                if consecutive_empty_count == 2:\n",
    "                    # Pop two consecutive values\n",
    "                    del row[index-1:index+1]  # Remove two consecutive values starting from index-1\n",
    "                    break  # Break after removing two values\n",
    "            else:\n",
    "                consecutive_empty_count = 0  # Reset if a non-empty value is found\n",
    "\n",
    "    # If the length is 125, do nothing (just append the row)\n",
    "    if len(row) == 125:\n",
    "        valid_rows.append(row)\n",
    "\n",
    "# Create a DataFrame using the valid rows and adjust the header if needed\n",
    "df = pd.DataFrame(valid_rows, columns=header[:len(valid_rows[0])])\n",
    "\n",
    "# Display or further process the DataFrame\n",
    "df\n"
   ]
  },
  {
   "cell_type": "markdown",
   "metadata": {},
   "source": [
    "# 2. EDA"
   ]
  },
  {
   "cell_type": "markdown",
   "metadata": {},
   "source": [
    "Dropping irrelevant columns"
   ]
  },
  {
   "cell_type": "code",
   "execution_count": null,
   "metadata": {},
   "outputs": [],
   "source": [
    "df.columns"
   ]
  },
  {
   "cell_type": "code",
   "execution_count": null,
   "metadata": {},
   "outputs": [],
   "source": [
    "df = df.drop(df.columns[72:125], axis=1)\n"
   ]
  },
  {
   "cell_type": "code",
   "execution_count": null,
   "metadata": {},
   "outputs": [],
   "source": [
    "df.tail(5)"
   ]
  },
  {
   "cell_type": "markdown",
   "metadata": {},
   "source": [
    "Duplicated rows: we find none"
   ]
  },
  {
   "cell_type": "code",
   "execution_count": null,
   "metadata": {},
   "outputs": [],
   "source": [
    "duplicateRowsDF = df[df.duplicated()]\n",
    "duplicateRowsDF"
   ]
  },
  {
   "cell_type": "markdown",
   "metadata": {},
   "source": [
    "Types for columns:"
   ]
  },
  {
   "cell_type": "code",
   "execution_count": null,
   "metadata": {},
   "outputs": [],
   "source": [
    "df.dtypes.value_counts()"
   ]
  },
  {
   "cell_type": "markdown",
   "metadata": {},
   "source": [
    "Null percentage:"
   ]
  },
  {
   "cell_type": "code",
   "execution_count": null,
   "metadata": {},
   "outputs": [],
   "source": [
    "\n",
    "# Replace empty strings with NaN\n",
    "df = df.replace(r'^\\s*$', np.nan, regex=True)\n",
    "\n",
    "# Calculate the percentage of NaN values in each column\n",
    "#n = (df.isnull().sum() / len(df)) * 100\n",
    "\n",
    "# Get columns with 100% NaN values\n",
    "#n"
   ]
  },
  {
   "cell_type": "markdown",
   "metadata": {},
   "source": [
    "Let's remove additional columns:"
   ]
  },
  {
   "cell_type": "code",
   "execution_count": null,
   "metadata": {},
   "outputs": [],
   "source": [
    "df = df.drop(columns=['date','pitch_tfs', 'start_tfs', 'start_tfs_zulu'])"
   ]
  },
  {
   "cell_type": "code",
   "execution_count": null,
   "metadata": {},
   "outputs": [],
   "source": [
    "df.columns"
   ]
  },
  {
   "cell_type": "code",
   "execution_count": null,
   "metadata": {},
   "outputs": [],
   "source": [
    "df.start_speed"
   ]
  },
  {
   "cell_type": "markdown",
   "metadata": {},
   "source": [
    "Detect outliers for start_speed"
   ]
  },
  {
   "cell_type": "code",
   "execution_count": null,
   "metadata": {},
   "outputs": [],
   "source": [
    "sns.boxplot(x=df['start_speed'].astype(float))\n",
    "print(df['start_speed'].astype(float).max())"
   ]
  },
  {
   "cell_type": "markdown",
   "metadata": {},
   "source": [
    "Detect outlier for end speed"
   ]
  },
  {
   "cell_type": "code",
   "execution_count": null,
   "metadata": {},
   "outputs": [],
   "source": [
    "sns.boxplot(x=df['end_speed'].astype(float))\n",
    "print(df['end_speed'].astype(float).max())"
   ]
  },
  {
   "cell_type": "markdown",
   "metadata": {},
   "source": [
    "Outlier for batter_height"
   ]
  },
  {
   "cell_type": "code",
   "execution_count": null,
   "metadata": {},
   "outputs": [],
   "source": [
    "df['b_height'] = df['b_height'].replace('-', '.', regex=True)\n",
    "\n",
    "sns.boxplot(x=df['b_height'].astype(float))"
   ]
  },
  {
   "cell_type": "markdown",
   "metadata": {},
   "source": [
    "Column types"
   ]
  },
  {
   "cell_type": "code",
   "execution_count": null,
   "metadata": {},
   "outputs": [],
   "source": [
    "df.dtypes"
   ]
  },
  {
   "cell_type": "markdown",
   "metadata": {},
   "source": [
    "Convert columns to relevant type "
   ]
  },
  {
   "cell_type": "code",
   "execution_count": null,
   "metadata": {},
   "outputs": [],
   "source": [
    "# List of categorical columns\n",
    "df_cat = ['uid', 'game_pk', 'team_id_b', 'team_id_p', 'pitcher_id', \n",
    "          'batter_id', 'event', 'event2', 'event3', 'event4', 'pitch_type', 'zone', 'pitch_id', 'pitch_des', 'is_final_pitch',\n",
    "          'on_1b', 'on_2b', 'on_3b', 'type', 'at_bat_des','sv_id']\n",
    "# Convert categorical columns to object type\n",
    "df[df_cat] = df[df_cat].astype('object')\n",
    "\n",
    "# Apply numeric conversion to all other columns except the categorical columns\n",
    "for column in df.columns:\n",
    "    if column not in df_cat:\n",
    "        df[column] = pd.to_numeric(df[column], errors='coerce')\n"
   ]
  },
  {
   "cell_type": "markdown",
   "metadata": {},
   "source": [
    "Let's double check numeric columns and identify potential categorical columns added:"
   ]
  },
  {
   "cell_type": "code",
   "execution_count": null,
   "metadata": {},
   "outputs": [],
   "source": [
    "numerics = ['int16', 'int32', 'int64', 'float16', 'float32', 'float64']\n",
    "df.select_dtypes(include=numerics).head()"
   ]
  },
  {
   "cell_type": "markdown",
   "metadata": {},
   "source": [
    "Year is only 2011. It might've been interesting to do a Drift Analysis if there were other years, which is no the case:"
   ]
  },
  {
   "cell_type": "code",
   "execution_count": null,
   "metadata": {},
   "outputs": [],
   "source": [
    "df = df.drop(columns=['year'])"
   ]
  },
  {
   "cell_type": "markdown",
   "metadata": {},
   "source": [
    "cc has a very high count of nulls; let's remove that columns"
   ]
  },
  {
   "cell_type": "code",
   "execution_count": null,
   "metadata": {},
   "outputs": [],
   "source": [
    "print(df.cc.isna().sum())\n",
    "df = df.drop(columns=['cc'])"
   ]
  },
  {
   "cell_type": "code",
   "execution_count": null,
   "metadata": {},
   "outputs": [],
   "source": [
    "pd.set_option('display.max_columns', 20)"
   ]
  },
  {
   "cell_type": "markdown",
   "metadata": {},
   "source": [
    "This leaves us with 45 numerical columns and 21 categorical columns:"
   ]
  },
  {
   "cell_type": "code",
   "execution_count": null,
   "metadata": {},
   "outputs": [],
   "source": [
    "num_columns = df.select_dtypes(include=numerics).count()\n",
    "cat_columns = df.select_dtypes(include=object).count()\n",
    "\n",
    "print(len(num_columns), len(cat_columns))"
   ]
  },
  {
   "cell_type": "markdown",
   "metadata": {},
   "source": [
    "Interquartile range"
   ]
  },
  {
   "cell_type": "code",
   "execution_count": null,
   "metadata": {},
   "outputs": [],
   "source": [
    "Q1 = df.quantile(0.25)\n",
    "Q3 = df.quantile(0.75)\n",
    "IQR = Q3 - Q1\n",
    "IQR"
   ]
  },
  {
   "cell_type": "markdown",
   "metadata": {},
   "source": [
    "Remove outliers"
   ]
  },
  {
   "cell_type": "code",
   "execution_count": null,
   "metadata": {},
   "outputs": [],
   "source": [
    "df = df[~((df < (Q1 - 1.5 * IQR)) |(df > (Q3 + 1.5 * IQR))).any(axis=1)]\n",
    "sns.boxplot(x=df['start_speed'].astype(float))\n"
   ]
  },
  {
   "cell_type": "markdown",
   "metadata": {},
   "source": [
    "Pitch Types"
   ]
  },
  {
   "cell_type": "code",
   "execution_count": null,
   "metadata": {},
   "outputs": [],
   "source": [
    "df['pitch_type'].value_counts()"
   ]
  },
  {
   "cell_type": "markdown",
   "metadata": {},
   "source": [
    "Removing bad pitch type"
   ]
  },
  {
   "cell_type": "code",
   "execution_count": null,
   "metadata": {},
   "outputs": [],
   "source": [
    "df = df[~df['pitch_type'].apply(lambda x: isinstance(x, (int, float)))]\n",
    "df = df[pd.to_numeric(df['pitch_type'], errors='coerce').isna()]\n",
    "df = df.reset_index(drop=True)\n",
    "df['pitch_type'].value_counts()\n"
   ]
  },
  {
   "cell_type": "markdown",
   "metadata": {},
   "source": [
    "Rename the pitch types - We find imbalances in the pitch type counts; bias for the model"
   ]
  },
  {
   "cell_type": "code",
   "execution_count": null,
   "metadata": {},
   "outputs": [],
   "source": [
    "# Dictionary mapping pitch types, combining Fastballs and Curveballs\n",
    "pitch_type_combined_mapping = {\n",
    "    'CH': 'Changeup',\n",
    "    'CU': 'Curveball',\n",
    "    'FC': 'Cutter',\n",
    "    'EP': 'Eephus',\n",
    "    'FO': 'Forkball',\n",
    "    'FT': 'Fastball',  # Combine Two-Seam Fastball\n",
    "    'FA': 'Fastball',  # Combine Two-Seam Fastball\n",
    "    'FF': 'Fastball',  # Combine Four-Seam Fastball\n",
    "    'KN': 'Knuckleball',\n",
    "    'KC': 'Curveball',  # Combine Knuckle-Curve into Curveball\n",
    "    'PO': 'Pitcher Only',\n",
    "    'SC': 'Screwball',\n",
    "    'SI': 'Sinker',\n",
    "    'SL': 'Slider',\n",
    "    'SV': 'Slurve',\n",
    "    'FS': 'Splitter',\n",
    "    'ST': 'Sweeper'\n",
    "}\n",
    "\n",
    "# Replace the pitch types in the 'pitch_type' column with combined categories\n",
    "df['pitch_type'] = df['pitch_type'].replace(pitch_type_combined_mapping)\n",
    "\n",
    "# Display the updated value counts to verify the changes\n",
    "print(df['pitch_type'].value_counts())\n"
   ]
  },
  {
   "cell_type": "markdown",
   "metadata": {},
   "source": [
    "Number of observations"
   ]
  },
  {
   "cell_type": "code",
   "execution_count": null,
   "metadata": {},
   "outputs": [],
   "source": [
    "df.shape"
   ]
  },
  {
   "cell_type": "markdown",
   "metadata": {},
   "source": [
    "Remove the ones with little to no observations - find data for the edge cases; or do bayesian model for these pitch types"
   ]
  },
  {
   "cell_type": "code",
   "execution_count": null,
   "metadata": {},
   "outputs": [],
   "source": [
    "df = df[~df['pitch_type'].isin([\"Forkball\", \"IN\", \"Pitcher Only\", \"Screwball\", \"Eephus\", \"UN\", \"AB\"])]\n",
    "df['pitch_type'].value_counts()\n"
   ]
  },
  {
   "cell_type": "markdown",
   "metadata": {},
   "source": [
    "Describe numerical features"
   ]
  },
  {
   "cell_type": "code",
   "execution_count": null,
   "metadata": {},
   "outputs": [],
   "source": [
    "df.describe()"
   ]
  },
  {
   "cell_type": "markdown",
   "metadata": {},
   "source": [
    "Is final pitch a parameter to determine the pitch type? - 24% of the pitches are final pitches"
   ]
  },
  {
   "cell_type": "code",
   "execution_count": null,
   "metadata": {},
   "outputs": [],
   "source": [
    "# In all t\n",
    "df.is_final_pitch.value_counts(normalize=True).mul(100).round(1).astype(str) + '%'"
   ]
  },
  {
   "cell_type": "markdown",
   "metadata": {},
   "source": [
    "Pitch all have a similar proportion of final pitches - little significance in differentiating the pitches "
   ]
  },
  {
   "cell_type": "code",
   "execution_count": null,
   "metadata": {},
   "outputs": [],
   "source": [
    "df.is_final_pitch = df.is_final_pitch.replace({'0': \"No\", '1': \"Yes\"})\n",
    "# Group by 'pitch_type' and 'is_final_pitch', and count the occurrences\n",
    "grouped_data = df.groupby(['pitch_type', 'is_final_pitch']).size().reset_index(name='pitch_count')\n",
    "\n",
    "# Calculate the total count for each 'pitch_type'\n",
    "grouped_data['total_count'] = grouped_data.groupby('pitch_type')['pitch_count'].transform('sum')\n",
    "\n",
    "# Calculate the percentage for each group within the 'pitch_type'\n",
    "grouped_data['percentage'] = (grouped_data['pitch_count'] / grouped_data['total_count']) * 100\n",
    "\n",
    "# Create a Seaborn plot\n",
    "plt.figure(figsize=(20, 6))  # Set the figure size\n",
    "sns.barplot(x='pitch_type', y='percentage', hue='is_final_pitch', data=grouped_data)\n",
    "\n",
    "plt.title('Percentage of Final Pitches by Pitch Type')\n",
    "plt.ylabel('% of Final Pitches')\n",
    "plt.xlabel('Pitch Type')\n",
    "plt.legend(title='Is Final Pitch')\n",
    "plt.show()\n"
   ]
  },
  {
   "cell_type": "markdown",
   "metadata": {},
   "source": [
    "Histogram start_speed - Showing left Skewdness and unimodal distribution; which might have to be transformed in pre-processing steps of our model"
   ]
  },
  {
   "cell_type": "code",
   "execution_count": null,
   "metadata": {},
   "outputs": [],
   "source": [
    "sns.histplot(data=df, x=\"start_speed\", bins=30, kde=True)"
   ]
  },
  {
   "cell_type": "markdown",
   "metadata": {},
   "source": [
    "Histograms for Start_speed for Four-Seam Fastball vs Two-Seam Fastball pitch types - they distribution tends to be more normal than the overall data's start speed, with still a mild left skewdness"
   ]
  },
  {
   "cell_type": "code",
   "execution_count": null,
   "metadata": {},
   "outputs": [],
   "source": [
    "sns.histplot(data=df[df[\"pitch_type\"] == \"Four-Seam Fastball\"], x=\"start_speed\", bins=30, kde=True)"
   ]
  },
  {
   "cell_type": "code",
   "execution_count": null,
   "metadata": {},
   "outputs": [],
   "source": [
    "sns.histplot(data=df[df[\"pitch_type\"] == \"Two-Seam Fastball\"], x=\"start_speed\", bins=30, kde=True)"
   ]
  },
  {
   "cell_type": "markdown",
   "metadata": {},
   "source": [
    "Let's look at the start speed description across data"
   ]
  },
  {
   "cell_type": "code",
   "execution_count": null,
   "metadata": {},
   "outputs": [],
   "source": [
    "df.start_speed.describe()"
   ]
  },
  {
   "cell_type": "markdown",
   "metadata": {},
   "source": [
    "Comparing the start speed numerical descriptions with certain pitch types - Four-Seam Fastball start speed mean and median are higher than the data's, and more clustered around the mean"
   ]
  },
  {
   "cell_type": "code",
   "execution_count": null,
   "metadata": {},
   "outputs": [],
   "source": [
    "df[df[\"pitch_type\"] == \"Four-Seam Fastball\"].start_speed.describe()"
   ]
  },
  {
   "cell_type": "markdown",
   "metadata": {},
   "source": [
    "The curveball pitch types have an average start speed 10 mph slower than the data mean. They are also more clustered around the mean"
   ]
  },
  {
   "cell_type": "code",
   "execution_count": null,
   "metadata": {},
   "outputs": [],
   "source": [
    "df[df[\"pitch_type\"] == \"Curveball\"].start_speed.describe()"
   ]
  },
  {
   "cell_type": "markdown",
   "metadata": {},
   "source": [
    "Let's create boxplots for each speed type, and one for the entire data - overall, the speed type will be good in determining the type of pitch. We see that the start speed strongly varies according to the pitch type. Four Seam Fastball type seems to indicate a vast amount of outliers, especially lower bound."
   ]
  },
  {
   "cell_type": "code",
   "execution_count": null,
   "metadata": {},
   "outputs": [],
   "source": [
    "import plotly.graph_objects as go\n",
    "# get median start_speed \n",
    "median_speed = df.groupby('pitch_type')['start_speed'].median()\n",
    "\n",
    "sorted_pitch_types = median_speed.sort_values(ascending = False).index\n",
    "\n",
    "box_plots = []\n",
    "\n",
    "# ADD BOXPLOT FOR ALL DATA\n",
    "box_plots.append(\n",
    "  go.Box(\n",
    "    y = df['start_speed'],\n",
    "    name = 'All Data',\n",
    "    boxpoints = 'outliers',\n",
    "    marker = dict(color = 'grey'),\n",
    "    opacity = 0.5\n",
    "  )\n",
    ")\n",
    "    \n",
    "for pitch_type in sorted_pitch_types:\n",
    "  box_plots.append(\n",
    "    go.Box(\n",
    "      y = df[df['pitch_type'] == pitch_type]['start_speed'],\n",
    "      name = pitch_type,\n",
    "      boxpoints = 'outliers',\n",
    "      #jitter = 0.3,\n",
    "      #pointpos = -1.8\n",
    "    )\n",
    ")\n",
    " \n",
    "fig = go.Figure(data = box_plots)\n",
    "\n",
    "fig.update_layout(\n",
    "  title = \"Box plots of start speed by pitch type\",\n",
    "  xaxis_title = \"Pitch Type\",\n",
    "  yaxis_title = \"Start Speed\",\n",
    "  xaxis = dict(tickangle = 45),\n",
    "  #boxmode = \"group\"\n",
    ")\n",
    "\n",
    "fig.show()"
   ]
  },
  {
   "cell_type": "markdown",
   "metadata": {},
   "source": [
    "Multimodality - Are there differences on whether it is the final pitch or not? - We find little modality with regards to the final pitch"
   ]
  },
  {
   "cell_type": "code",
   "execution_count": null,
   "metadata": {},
   "outputs": [],
   "source": [
    "plt.figure(figsize=(20, 10))\n",
    "# Create a grouped boxplot comparing start_speed across different pitch types\n",
    "sns.boxplot(x='pitch_type', y='start_speed', hue= df.is_final_pitch,data=df)\n",
    "# Overlay a separate boxplot for the overall data\n",
    "# Add titles and labels\n",
    "plt.title('Start Speed by Pitch Type and Overall')\n",
    "plt.xlabel('Pitch Type / Overall')\n",
    "plt.ylabel('Start Speed (mph)')\n",
    "\n",
    "plt.show()\n",
    "print(\"Count of Forkball is\", df[df['pitch_type'] == \"Forkball\"].count().max())"
   ]
  },
  {
   "cell_type": "markdown",
   "metadata": {},
   "source": [
    "Batter Height and Pitch Type -  Batter's most frequent height is around 6.2 feet"
   ]
  },
  {
   "cell_type": "code",
   "execution_count": null,
   "metadata": {},
   "outputs": [],
   "source": [
    "counts = df.groupby('b_height').size()\n",
    "unique_b_height = df.b_height.nunique()\n",
    "\n",
    "# Step 2: Plot histogram based on the counts\n",
    "plt.figure(figsize=(10, 6))\n",
    "sns.histplot(data=df, x=\"b_height\", bins=unique_b_height)\n",
    "# Add labels and title\n",
    "plt.title('Histogram of Counts by B_Height')\n",
    "plt.xlabel('B_Height')\n",
    "plt.ylabel('Count')\n",
    "\n",
    "# Show the plot\n",
    "plt.show()"
   ]
  },
  {
   "cell_type": "code",
   "execution_count": null,
   "metadata": {},
   "outputs": [],
   "source": [
    "df.pitch_type.unique()"
   ]
  },
  {
   "cell_type": "markdown",
   "metadata": {},
   "source": [
    "We find the same distribution for the Changeup pitch type"
   ]
  },
  {
   "cell_type": "code",
   "execution_count": null,
   "metadata": {},
   "outputs": [],
   "source": [
    "import matplotlib.pyplot as plt\n",
    "import seaborn as sns\n",
    "\n",
    "# Group by 'pitch_type'\n",
    "grouped = df.groupby('pitch_type')\n",
    "\n",
    "# Create a figure with 3 columns and 4 rows to accommodate 10 pitch types\n",
    "fig, axes = plt.subplots(nrows=4, ncols=3, figsize=(18, 24))\n",
    "\n",
    "# Flatten the axes array to easily iterate over it\n",
    "axes = axes.flatten()\n",
    "\n",
    "# Loop through each pitch type and corresponding axis to plot histograms\n",
    "for (pitch_type, group), ax in zip(grouped, axes):\n",
    "    # Count the unique heights for binning purposes\n",
    "    unique_b_height = group['b_height'].nunique()\n",
    "    \n",
    "    # Plot histogram for each pitch type\n",
    "    sns.histplot(data=group, x='b_height', bins=unique_b_height, ax=ax)\n",
    "    \n",
    "    # Add labels and title for each subplot\n",
    "    ax.set_title(f'B_Height for {pitch_type}')\n",
    "    ax.set_xlabel('B_Height')\n",
    "    ax.set_ylabel('Count')\n",
    "\n",
    "# Remove any empty subplots\n",
    "for i in range(len(grouped), len(axes)):\n",
    "    fig.delaxes(axes[i])\n",
    "\n",
    "# Adjust layout and show the plots\n",
    "plt.tight_layout()\n",
    "plt.show()\n"
   ]
  },
  {
   "cell_type": "markdown",
   "metadata": {},
   "source": [
    "Let's see if Curveballs show the same distribution"
   ]
  },
  {
   "cell_type": "code",
   "execution_count": null,
   "metadata": {},
   "outputs": [],
   "source": [
    "changeup_counts = df[df['pitch_type'] == \"Curveball\"].groupby('b_height').size()\n",
    "\n",
    "# Step 2: Plot histogram based on the counts\n",
    "plt.figure(figsize=(8, 6))\n",
    "changeup_counts.plot(kind='bar', color='skyblue')\n",
    "\n",
    "# Add labels and title\n",
    "plt.title('Histogram of Curveball Counts by B_Height')\n",
    "plt.xlabel('B_Height')\n",
    "plt.ylabel('Count')\n",
    "\n",
    "# Show the plot\n",
    "plt.show()"
   ]
  },
  {
   "cell_type": "markdown",
   "metadata": {},
   "source": [
    "Height seems to have little variation between pitch types"
   ]
  },
  {
   "cell_type": "code",
   "execution_count": null,
   "metadata": {},
   "outputs": [],
   "source": [
    "changeup_counts = df[df['pitch_type'] == \"Knuckleball\"].groupby('b_height').size()\n",
    "\n",
    "# Step 2: Plot histogram based on the counts\n",
    "plt.figure(figsize=(8, 6))\n",
    "changeup_counts.plot(kind='bar', color='skyblue')\n",
    "\n",
    "# Add labels and title\n",
    "plt.title('Histogram of Curveball Counts by B_Height')\n",
    "plt.xlabel('B_Height')\n",
    "plt.ylabel('Count')\n",
    "\n",
    "# Show the plot\n",
    "plt.show()"
   ]
  },
  {
   "cell_type": "markdown",
   "metadata": {},
   "source": [
    "Top half of inning and pitch types"
   ]
  },
  {
   "cell_type": "code",
   "execution_count": null,
   "metadata": {},
   "outputs": [],
   "source": [
    "df.top = df.top.replace({0: \"No\", 1: \"Yes\"})\n",
    "df.top.value_counts(normalize=True).mul(100).round(1).astype(str) + '%'"
   ]
  },
  {
   "cell_type": "markdown",
   "metadata": {},
   "source": [
    "Are some pitch types more frequent in the top of bottom half of inning, when comparing to the overall data ? Mild difference with fastballs more frequent in top inning"
   ]
  },
  {
   "cell_type": "code",
   "execution_count": null,
   "metadata": {},
   "outputs": [],
   "source": [
    "df[df[\"pitch_type\"] == \"Sinker\"].top.value_counts(normalize=True).mul(100).round(1).astype(str) + '%'"
   ]
  },
  {
   "cell_type": "code",
   "execution_count": null,
   "metadata": {},
   "outputs": [],
   "source": [
    "df[df[\"pitch_type\"] == \"Two-Seam Fastball\"].top.value_counts(normalize=True).mul(100).round(1).astype(str) + '%'"
   ]
  },
  {
   "cell_type": "code",
   "execution_count": null,
   "metadata": {},
   "outputs": [],
   "source": [
    "df[df[\"pitch_type\"] == \"Four-Seam Fastball\"].top.value_counts(normalize=True).mul(100).round(1).astype(str) + '%'"
   ]
  },
  {
   "cell_type": "markdown",
   "metadata": {},
   "source": [
    "What about the end speed comparison between pitch_types? - The mean end speed is 81mph, with a range of values between 65 to 94mph"
   ]
  },
  {
   "cell_type": "code",
   "execution_count": null,
   "metadata": {},
   "outputs": [],
   "source": [
    "df.end_speed.describe()"
   ]
  },
  {
   "cell_type": "markdown",
   "metadata": {},
   "source": [
    "End speed strongly varies according to pitch types, with the median speed as a good indicator to determine the type. Although the patterns of the boxplots are strongly similar with start_speed."
   ]
  },
  {
   "cell_type": "code",
   "execution_count": null,
   "metadata": {},
   "outputs": [],
   "source": [
    "# get median end_speed \n",
    "median_speed = df.groupby('pitch_type')['end_speed'].median()\n",
    "\n",
    "sorted_pitch_types = median_speed.sort_values(ascending = False).index\n",
    "\n",
    "box_plots = []\n",
    "\n",
    "# ADD BOXPLOT FOR ALL DATA\n",
    "box_plots.append(\n",
    "  go.Box(\n",
    "    y = df['end_speed'],\n",
    "    name = 'All Data',\n",
    "    boxpoints = 'outliers',\n",
    "    marker = dict(color = 'grey'),\n",
    "    opacity = 0.5\n",
    "  )\n",
    ")\n",
    "    \n",
    "for pitch_type in sorted_pitch_types:\n",
    "  box_plots.append(\n",
    "    go.Box(\n",
    "      y = df[df['pitch_type'] == pitch_type]['end_speed'],\n",
    "      name = pitch_type,\n",
    "      boxpoints = 'outliers',\n",
    "      #jitter = 0.3,\n",
    "      #pointpos = -1.8\n",
    "    )\n",
    ")\n",
    " \n",
    "fig = go.Figure(data = box_plots)\n",
    "\n",
    "fig.update_layout(\n",
    "  title = \"Box plots of end speed by pitch type\",\n",
    "  xaxis_title = \"Pitch Type\",\n",
    "  yaxis_title = \"End Speed\",\n",
    "  xaxis = dict(tickangle = 45),\n",
    "  #boxmode = \"group\"\n",
    ")\n",
    "\n",
    "fig.show()"
   ]
  },
  {
   "cell_type": "markdown",
   "metadata": {},
   "source": [
    "Let's see if these two variables are correlated - we find an extremely strong positive correlation which highlights collinearity. This means that we can remove one of these two variables for the model implementation without losing much interpretability"
   ]
  },
  {
   "cell_type": "code",
   "execution_count": null,
   "metadata": {},
   "outputs": [],
   "source": [
    "df_speed = df.loc[:,[\"end_speed\", 'start_speed']]\n",
    "df_speed.corr()"
   ]
  },
  {
   "cell_type": "markdown",
   "metadata": {},
   "source": [
    "Is speed highly correlated with other variables? - vy0 shows an extremely high correlation to both speeds. This also indicates collinearity"
   ]
  },
  {
   "cell_type": "code",
   "execution_count": null,
   "metadata": {},
   "outputs": [],
   "source": [
    "# Sample data loading (assuming 'df' is already loaded)\n",
    "# Calculate the correlation matrix\n",
    "correlation_matrix = df.corr()\n",
    "\n",
    "# Select correlations related to 'sz_bot' and filter for high correlations\n",
    "high_correlations = correlation_matrix['start_speed'][correlation_matrix['start_speed'].abs() > 0.6]\n",
    "\n",
    "# Print the high correlation values\n",
    "print(\"High Correlations with start_speed:\")\n",
    "print(high_correlations)\n",
    "\n",
    "# Create a new DataFrame for the heatmap that only includes features with high correlations\n",
    "high_corr_features = high_correlations.index.tolist()\n",
    "high_corr_matrix = df[high_corr_features].corr()\n",
    "\n",
    "# Visualization using Seaborn\n",
    "plt.figure(figsize=(10, 8))\n",
    "sns.heatmap(high_corr_matrix, annot=True, cmap='coolwarm', fmt=\".2f\", center=0)\n",
    "plt.title('High Correlation Matrix with Heatmap for start_speed')\n",
    "plt.show()"
   ]
  },
  {
   "cell_type": "markdown",
   "metadata": {},
   "source": [
    "Break by pitch type - finding whether there is a circular motion. There are 3 break columns:"
   ]
  },
  {
   "cell_type": "code",
   "execution_count": null,
   "metadata": {},
   "outputs": [],
   "source": [
    "df_break_pitch_type = df.loc[:, [\"break_length\",\"break_angle\", \"pitch_type\"]]\n",
    "df_break_pitch_type"
   ]
  },
  {
   "cell_type": "markdown",
   "metadata": {},
   "source": [
    "Fastballs will be faster with little curvature; shorter break length than other pitch types. A higher curve will indicate a longer break length. This helps indicate the different types of pitches"
   ]
  },
  {
   "cell_type": "code",
   "execution_count": null,
   "metadata": {},
   "outputs": [],
   "source": [
    "df_break_pitch_type.groupby([\"pitch_type\"]).mean()"
   ]
  },
  {
   "cell_type": "markdown",
   "metadata": {},
   "source": [
    "We find little to no relationship between break angle and the break length"
   ]
  },
  {
   "cell_type": "code",
   "execution_count": null,
   "metadata": {},
   "outputs": [],
   "source": [
    "df_break_pitch_type.corr()"
   ]
  },
  {
   "cell_type": "markdown",
   "metadata": {},
   "source": [
    "Comparing break angle: we find more variability in relation to the overall data with the: Knuckelball, Cutter, Slider, Curveball, Knuckle-Curve. The median of the first 5 derive less from the overall data median. This shows that the Break Angle variable will be good for model implementation."
   ]
  },
  {
   "cell_type": "code",
   "execution_count": null,
   "metadata": {},
   "outputs": [],
   "source": [
    "# get median end_speed \n",
    "median_speed = df.groupby('pitch_type')['break_angle'].median()\n",
    "\n",
    "sorted_pitch_types = median_speed.sort_values(ascending = False).index\n",
    "\n",
    "box_plots = []\n",
    "\n",
    "# ADD BOXPLOT FOR ALL DATA\n",
    "box_plots.append(\n",
    "  go.Box(\n",
    "    y = df['break_angle'],\n",
    "    name = 'All Data',\n",
    "    boxpoints = 'outliers',\n",
    "    marker = dict(color = 'grey'),\n",
    "    opacity = 0.5\n",
    "  )\n",
    ")\n",
    "    \n",
    "for pitch_type in sorted_pitch_types:\n",
    "  box_plots.append(\n",
    "    go.Box(\n",
    "      y = df[df['pitch_type'] == pitch_type]['break_angle'],\n",
    "      name = pitch_type,\n",
    "      boxpoints = 'outliers',\n",
    "      #jitter = 0.3,\n",
    "      #pointpos = -1.8\n",
    "    )\n",
    ")\n",
    " \n",
    "fig = go.Figure(data = box_plots)\n",
    "\n",
    "fig.update_layout(\n",
    "  title = \"Box plots of Break Angle by pitch type\",\n",
    "  xaxis_title = \"Pitch Type\",\n",
    "  yaxis_title = \"Break Angle\",\n",
    "  xaxis = dict(tickangle = 45),\n",
    "  #boxmode = \"group\"\n",
    ")\n",
    "\n",
    "fig.show()"
   ]
  },
  {
   "cell_type": "markdown",
   "metadata": {},
   "source": [
    "For break length, we find a higher variability across pitch types in relation to the dataset. This shows to be an even better feature than the Break Angle, since most pitch types vary from each other as well as the overall data."
   ]
  },
  {
   "cell_type": "code",
   "execution_count": null,
   "metadata": {},
   "outputs": [],
   "source": [
    "# get median end_speed \n",
    "median_speed = df.groupby('pitch_type')['break_length'].median()\n",
    "\n",
    "sorted_pitch_types = median_speed.sort_values(ascending = False).index\n",
    "\n",
    "box_plots = []\n",
    "\n",
    "# ADD BOXPLOT FOR ALL DATA\n",
    "box_plots.append(\n",
    "  go.Box(\n",
    "    y = df['break_length'],\n",
    "    name = 'All Data',\n",
    "    boxpoints = 'outliers',\n",
    "    marker = dict(color = 'grey'),\n",
    "    opacity = 0.5\n",
    "  )\n",
    ")\n",
    "    \n",
    "for pitch_type in sorted_pitch_types:\n",
    "  box_plots.append(\n",
    "    go.Box(\n",
    "      y = df[df['pitch_type'] == pitch_type]['break_length'],\n",
    "      name = pitch_type,\n",
    "      boxpoints = 'outliers',\n",
    "      #jitter = 0.3,\n",
    "      #pointpos = -1.8\n",
    "    )\n",
    ")\n",
    " \n",
    "fig = go.Figure(data = box_plots)\n",
    "\n",
    "fig.update_layout(\n",
    "  title = \"Box plots of Break Length by pitch type\",\n",
    "  xaxis_title = \"Pitch Type\",\n",
    "  yaxis_title = \"Break Length\",\n",
    "  xaxis = dict(tickangle = 45),\n",
    "  #boxmode = \"group\"\n",
    ")\n",
    "\n",
    "fig.show()"
   ]
  },
  {
   "cell_type": "markdown",
   "metadata": {},
   "source": [
    "Let's look at geospatial variables"
   ]
  },
  {
   "cell_type": "code",
   "execution_count": null,
   "metadata": {},
   "outputs": [],
   "source": [
    "import plotly.graph_objects as go\n",
    "\n",
    "fig = go.Figure()\n",
    "# Get all unique pitch types\n",
    "pitch_types = df['pitch_type'].unique()\n",
    "\n",
    "# Add overall data as the first trace\n",
    "fig.add_trace(go.Box(y=df['sz_bot'], name='Overall'))\n",
    "\n",
    "# Add traces for each pitch type\n",
    "for pitch in pitch_types:\n",
    "    fig.add_trace(go.Box(y=df[df[\"pitch_type\"] == pitch]['sz_bot'], name=pitch))\n",
    "\n",
    "# Update layout to show legend\n",
    "fig.update_layout(\n",
    "    title=\"sz_bot by Pitch Type\",\n",
    "    yaxis_title=\"sz_bot\",\n",
    "    showlegend=True\n",
    ")\n",
    "\n",
    "# Show the figure\n",
    "fig.show()"
   ]
  },
  {
   "cell_type": "markdown",
   "metadata": {},
   "source": [
    "Find correlation between features and sz_bot:"
   ]
  },
  {
   "cell_type": "code",
   "execution_count": null,
   "metadata": {},
   "outputs": [],
   "source": [
    "# Sample data loading (assuming 'df' is already loaded)\n",
    "# Calculate the correlation matrix\n",
    "correlation_matrix = df.corr()\n",
    "\n",
    "# Select correlations related to 'sz_bot' and filter for high correlations\n",
    "high_correlations = correlation_matrix['sz_bot'][correlation_matrix['sz_bot'].abs() > 0.6]\n",
    "\n",
    "# Print the high correlation values\n",
    "print(\"High Correlations with sz_bot:\")\n",
    "print(high_correlations)\n",
    "\n",
    "# Create a new DataFrame for the heatmap that only includes features with high correlations\n",
    "high_corr_features = high_correlations.index.tolist()\n",
    "high_corr_matrix = df[high_corr_features].corr()\n",
    "\n",
    "# Visualization using Seaborn\n",
    "plt.figure(figsize=(10, 8))\n",
    "sns.heatmap(high_corr_matrix, annot=True, cmap='coolwarm', fmt=\".2f\", center=0)\n",
    "plt.title('High Correlation Matrix with Heatmap for sz_bot')\n",
    "plt.show()"
   ]
  },
  {
   "cell_type": "markdown",
   "metadata": {},
   "source": [
    "Does this also suggest low interpretability for pitch type for sz_top?"
   ]
  },
  {
   "cell_type": "code",
   "execution_count": null,
   "metadata": {},
   "outputs": [],
   "source": [
    "import plotly.graph_objects as go\n",
    "\n",
    "fig = go.Figure()\n",
    "# Get all unique pitch types\n",
    "pitch_types = df['pitch_type'].unique()\n",
    "\n",
    "# Add overall data as the first trace\n",
    "fig.add_trace(go.Box(y=df['sz_top'], name='Overall'))\n",
    "\n",
    "# Add traces for each pitch type\n",
    "for pitch in pitch_types:\n",
    "    fig.add_trace(go.Box(y=df[df[\"pitch_type\"] == pitch]['sz_top'], name=pitch))\n",
    "\n",
    "# Update layout to show legend\n",
    "fig.update_layout(\n",
    "    title=\"sz_top by Pitch Type\",\n",
    "    yaxis_title=\"sz_top\",\n",
    "    showlegend=True\n",
    ")\n",
    "\n",
    "# Show the figure\n",
    "fig.show()"
   ]
  },
  {
   "cell_type": "markdown",
   "metadata": {},
   "source": [
    "# New EDA"
   ]
  },
  {
   "cell_type": "markdown",
   "metadata": {},
   "source": [
    "Group by pitcher id - find; cluster pitcher"
   ]
  },
  {
   "cell_type": "markdown",
   "metadata": {},
   "source": [
    "While these provide good overall information, the speed/curve variables contain information about the target variable which might are misleading - properties of the current pitch. This implicates non independence, likely create bias and multicollinearity when creating the model; breaking the indepedent assumption about X to y relationship"
   ]
  },
  {
   "cell_type": "markdown",
   "metadata": {},
   "source": [
    "Features to average:\n",
    "- Start_speed\n",
    "- Spin rate\n",
    "- Break_angle\n",
    "- Break length"
   ]
  },
  {
   "cell_type": "code",
   "execution_count": 157,
   "metadata": {},
   "outputs": [],
   "source": [
    "average_start_speed_pitcher = df.groupby(\"pitcher_id\")['start_speed'].mean().reset_index()\n",
    "average_break_angle_pitcher = df.groupby(\"pitcher_id\")['break_angle'].mean().reset_index()\n",
    "average_break_length_pitcher = df.groupby(\"pitcher_id\")['break_length'].mean().reset_index()\n",
    "average_spin_rate_pitcher = df.groupby(\"pitcher_id\")['spin_rate'].mean().reset_index()\n"
   ]
  },
  {
   "cell_type": "markdown",
   "metadata": {},
   "source": [
    "Histogram of the different pitcher measure distribution"
   ]
  },
  {
   "cell_type": "code",
   "execution_count": 158,
   "metadata": {},
   "outputs": [
    {
     "data": {
      "text/plain": [
       "<AxesSubplot:ylabel='Count'>"
      ]
     },
     "execution_count": 158,
     "metadata": {},
     "output_type": "execute_result"
    },
    {
     "data": {
      "image/png": "[encoded data removed]",
      "text/plain": [
       "<Figure size 432x288 with 1 Axes>"
      ]
     },
     "metadata": {
      "needs_background": "light"
     },
     "output_type": "display_data"
    }
   ],
   "source": [
    "sns.histplot(data=average_start_speed_pitcher, kde=True)\n"
   ]
  },
  {
   "cell_type": "code",
   "execution_count": 159,
   "metadata": {},
   "outputs": [
    {
     "data": {
      "text/plain": [
       "<AxesSubplot:ylabel='Count'>"
      ]
     },
     "execution_count": 159,
     "metadata": {},
     "output_type": "execute_result"
    },
    {
     "data": {
      "image/png": "[encoded data removed]",
      "text/plain": [
       "<Figure size 432x288 with 1 Axes>"
      ]
     },
     "metadata": {
      "needs_background": "light"
     },
     "output_type": "display_data"
    }
   ],
   "source": [
    "sns.histplot(data=average_break_angle_pitcher, kde=True)\n"
   ]
  },
  {
   "cell_type": "code",
   "execution_count": 62,
   "metadata": {},
   "outputs": [
    {
     "data": {
      "text/plain": [
       "<AxesSubplot:ylabel='Count'>"
      ]
     },
     "execution_count": 62,
     "metadata": {},
     "output_type": "execute_result"
    },
    {
     "data": {
      "image/png": "[encoded data removed]",
      "text/plain": [
       "<Figure size 432x288 with 1 Axes>"
      ]
     },
     "metadata": {
      "needs_background": "light"
     },
     "output_type": "display_data"
    }
   ],
   "source": [
    "sns.histplot(data=average_break_length_pitcher, kde=True)\n"
   ]
  },
  {
   "cell_type": "code",
   "execution_count": 160,
   "metadata": {},
   "outputs": [
    {
     "data": {
      "text/plain": [
       "<AxesSubplot:ylabel='Count'>"
      ]
     },
     "execution_count": 160,
     "metadata": {},
     "output_type": "execute_result"
    },
    {
     "data": {
      "image/png": "[encoded data removed]",
      "text/plain": [
       "<Figure size 432x288 with 1 Axes>"
      ]
     },
     "metadata": {
      "needs_background": "light"
     },
     "output_type": "display_data"
    }
   ],
   "source": [
    "sns.histplot(data=average_spin_rate_pitcher, kde=True)\n"
   ]
  },
  {
   "cell_type": "markdown",
   "metadata": {},
   "source": [
    "Merge them into a dataframe"
   ]
  },
  {
   "cell_type": "code",
   "execution_count": 161,
   "metadata": {},
   "outputs": [
    {
     "data": {
      "text/html": [
       "<div>\n",
       "<style scoped>\n",
       "    .dataframe tbody tr th:only-of-type {\n",
       "        vertical-align: middle;\n",
       "    }\n",
       "\n",
       "    .dataframe tbody tr th {\n",
       "        vertical-align: top;\n",
       "    }\n",
       "\n",
       "    .dataframe thead th {\n",
       "        text-align: right;\n",
       "    }\n",
       "</style>\n",
       "<table border=\"1\" class=\"dataframe\">\n",
       "  <thead>\n",
       "    <tr style=\"text-align: right;\">\n",
       "      <th></th>\n",
       "      <th>pitcher_id</th>\n",
       "      <th>start_speed</th>\n",
       "      <th>break_angle</th>\n",
       "      <th>break_length</th>\n",
       "      <th>spin_rate</th>\n",
       "    </tr>\n",
       "  </thead>\n",
       "  <tbody>\n",
       "    <tr>\n",
       "      <th>0</th>\n",
       "      <td>110683</td>\n",
       "      <td>90.906579</td>\n",
       "      <td>16.340789</td>\n",
       "      <td>5.877303</td>\n",
       "      <td>1693.086941</td>\n",
       "    </tr>\n",
       "    <tr>\n",
       "      <th>1</th>\n",
       "      <td>112020</td>\n",
       "      <td>90.553995</td>\n",
       "      <td>19.617662</td>\n",
       "      <td>6.295122</td>\n",
       "      <td>1703.427424</td>\n",
       "    </tr>\n",
       "    <tr>\n",
       "      <th>2</th>\n",
       "      <td>112526</td>\n",
       "      <td>90.379049</td>\n",
       "      <td>26.035108</td>\n",
       "      <td>5.463986</td>\n",
       "      <td>1976.872403</td>\n",
       "    </tr>\n",
       "    <tr>\n",
       "      <th>3</th>\n",
       "      <td>115629</td>\n",
       "      <td>91.198268</td>\n",
       "      <td>25.294805</td>\n",
       "      <td>5.200433</td>\n",
       "      <td>1970.843797</td>\n",
       "    </tr>\n",
       "    <tr>\n",
       "      <th>4</th>\n",
       "      <td>115817</td>\n",
       "      <td>81.724933</td>\n",
       "      <td>15.808491</td>\n",
       "      <td>7.642588</td>\n",
       "      <td>1490.418241</td>\n",
       "    </tr>\n",
       "  </tbody>\n",
       "</table>\n",
       "</div>"
      ],
      "text/plain": [
       "  pitcher_id  start_speed  break_angle  break_length    spin_rate\n",
       "0     110683    90.906579    16.340789      5.877303  1693.086941\n",
       "1     112020    90.553995    19.617662      6.295122  1703.427424\n",
       "2     112526    90.379049    26.035108      5.463986  1976.872403\n",
       "3     115629    91.198268    25.294805      5.200433  1970.843797\n",
       "4     115817    81.724933    15.808491      7.642588  1490.418241"
      ]
     },
     "execution_count": 161,
     "metadata": {},
     "output_type": "execute_result"
    }
   ],
   "source": [
    "avg_pitcher = average_start_speed_pitcher.merge(average_break_angle_pitcher, on='pitcher_id').merge(average_break_length_pitcher, on='pitcher_id').merge(average_spin_rate_pitcher, on='pitcher_id')\n",
    "\n",
    "avg_pitcher.head()"
   ]
  },
  {
   "cell_type": "code",
   "execution_count": 162,
   "metadata": {},
   "outputs": [
    {
     "data": {
      "text/html": [
       "<div>\n",
       "<style scoped>\n",
       "    .dataframe tbody tr th:only-of-type {\n",
       "        vertical-align: middle;\n",
       "    }\n",
       "\n",
       "    .dataframe tbody tr th {\n",
       "        vertical-align: top;\n",
       "    }\n",
       "\n",
       "    .dataframe thead th {\n",
       "        text-align: right;\n",
       "    }\n",
       "</style>\n",
       "<table border=\"1\" class=\"dataframe\">\n",
       "  <thead>\n",
       "    <tr style=\"text-align: right;\">\n",
       "      <th></th>\n",
       "      <th>start_speed</th>\n",
       "      <th>break_angle</th>\n",
       "      <th>break_length</th>\n",
       "      <th>spin_rate</th>\n",
       "    </tr>\n",
       "  </thead>\n",
       "  <tbody>\n",
       "    <tr>\n",
       "      <th>count</th>\n",
       "      <td>640.000000</td>\n",
       "      <td>640.000000</td>\n",
       "      <td>640.000000</td>\n",
       "      <td>640.000000</td>\n",
       "    </tr>\n",
       "    <tr>\n",
       "      <th>mean</th>\n",
       "      <td>88.226475</td>\n",
       "      <td>5.116203</td>\n",
       "      <td>6.302411</td>\n",
       "      <td>1735.779160</td>\n",
       "    </tr>\n",
       "    <tr>\n",
       "      <th>std</th>\n",
       "      <td>3.093908</td>\n",
       "      <td>17.603035</td>\n",
       "      <td>1.176640</td>\n",
       "      <td>257.218526</td>\n",
       "    </tr>\n",
       "    <tr>\n",
       "      <th>min</th>\n",
       "      <td>72.837500</td>\n",
       "      <td>-40.576712</td>\n",
       "      <td>2.880000</td>\n",
       "      <td>406.484500</td>\n",
       "    </tr>\n",
       "    <tr>\n",
       "      <th>25%</th>\n",
       "      <td>86.350539</td>\n",
       "      <td>-10.151520</td>\n",
       "      <td>5.542690</td>\n",
       "      <td>1571.760380</td>\n",
       "    </tr>\n",
       "    <tr>\n",
       "      <th>50%</th>\n",
       "      <td>88.448232</td>\n",
       "      <td>10.905414</td>\n",
       "      <td>6.237771</td>\n",
       "      <td>1743.180614</td>\n",
       "    </tr>\n",
       "    <tr>\n",
       "      <th>75%</th>\n",
       "      <td>90.292289</td>\n",
       "      <td>18.346604</td>\n",
       "      <td>7.013150</td>\n",
       "      <td>1910.282377</td>\n",
       "    </tr>\n",
       "    <tr>\n",
       "      <th>max</th>\n",
       "      <td>95.933198</td>\n",
       "      <td>36.023077</td>\n",
       "      <td>12.050000</td>\n",
       "      <td>2484.359890</td>\n",
       "    </tr>\n",
       "  </tbody>\n",
       "</table>\n",
       "</div>"
      ],
      "text/plain": [
       "       start_speed  break_angle  break_length    spin_rate\n",
       "count   640.000000   640.000000    640.000000   640.000000\n",
       "mean     88.226475     5.116203      6.302411  1735.779160\n",
       "std       3.093908    17.603035      1.176640   257.218526\n",
       "min      72.837500   -40.576712      2.880000   406.484500\n",
       "25%      86.350539   -10.151520      5.542690  1571.760380\n",
       "50%      88.448232    10.905414      6.237771  1743.180614\n",
       "75%      90.292289    18.346604      7.013150  1910.282377\n",
       "max      95.933198    36.023077     12.050000  2484.359890"
      ]
     },
     "execution_count": 162,
     "metadata": {},
     "output_type": "execute_result"
    }
   ],
   "source": [
    "avg_pitcher.describe()"
   ]
  },
  {
   "cell_type": "markdown",
   "metadata": {},
   "source": [
    "Clustering the results - k means to find clusters amongst players"
   ]
  },
  {
   "cell_type": "code",
   "execution_count": 163,
   "metadata": {},
   "outputs": [
    {
     "data": {
      "image/png": "[encoded data removed]",
      "text/plain": [
       "<Figure size 720x432 with 1 Axes>"
      ]
     },
     "metadata": {
      "needs_background": "light"
     },
     "output_type": "display_data"
    }
   ],
   "source": [
    "# This code uses the dataframe: avg_pitcher\n",
    "from matplotlib import pyplot as plt\n",
    "from sklearn.preprocessing import StandardScaler\n",
    "from sklearn.cluster import KMeans\n",
    "\n",
    "avg_features = ['start_speed', 'break_angle', 'break_length', 'spin_rate']\n",
    "\n",
    "# Prepare data for clustering\n",
    "scaler = StandardScaler()\n",
    "scaled_features = scaler.fit_transform(avg_pitcher[avg_features])\n",
    "\n",
    "inertia = []\n",
    "k_range = range(1, 20)  # trying 3 to 10 clusters of pitchers\n",
    "\n",
    "for k in k_range:\n",
    "    kmeans = KMeans(n_clusters = k)\n",
    "    kmeans.fit(scaled_features)\n",
    "    inertia.append(kmeans.inertia_)\n",
    "\n",
    "# Plot Elbow curve to find optimal number of clusters \n",
    "plt.figure(figsize=(10, 6))\n",
    "plt.plot(k_range, inertia, marker='o')\n",
    "plt.title('Elbow Method: Optimal Number of Clusters')\n",
    "plt.xlabel('Number of Clusters')\n",
    "plt.ylabel('Inertia')\n",
    "plt.xticks(k_range)\n",
    "plt.show()\n"
   ]
  },
  {
   "cell_type": "markdown",
   "metadata": {},
   "source": [
    "The Inertia seems to be decrease more slowly after 5 clusters. Let's select 5"
   ]
  },
  {
   "cell_type": "markdown",
   "metadata": {},
   "source": [
    "Let's select 5 clusters:"
   ]
  },
  {
   "cell_type": "code",
   "execution_count": 271,
   "metadata": {},
   "outputs": [
    {
     "data": {
      "text/plain": [
       "975.9415697429129"
      ]
     },
     "execution_count": 271,
     "metadata": {},
     "output_type": "execute_result"
    }
   ],
   "source": [
    "# Pick optimal number of pitchers from plot above \n",
    "optimal_k = 5\n",
    "\n",
    "# Cluster pitchers by their average values  \n",
    "kmeans = KMeans(n_clusters = optimal_k)\n",
    "avg_pitcher['cluster'] = kmeans.fit_predict(scaled_features)\n",
    "kmeans.inertia_"
   ]
  },
  {
   "cell_type": "code",
   "execution_count": 272,
   "metadata": {},
   "outputs": [
    {
     "data": {
      "text/plain": [
       "0      0\n",
       "1      1\n",
       "2      0\n",
       "3      0\n",
       "4      4\n",
       "      ..\n",
       "635    2\n",
       "636    3\n",
       "637    1\n",
       "638    0\n",
       "639    1\n",
       "Name: cluster, Length: 640, dtype: int32"
      ]
     },
     "execution_count": 272,
     "metadata": {},
     "output_type": "execute_result"
    }
   ],
   "source": [
    "avg_pitcher['cluster']"
   ]
  },
  {
   "cell_type": "code",
   "execution_count": 273,
   "metadata": {},
   "outputs": [
    {
     "name": "stderr",
     "output_type": "stream",
     "text": [
      "/Users/gregorycrooks/opt/miniconda3/lib/python3.9/site-packages/seaborn/distributions.py:2619: FutureWarning:\n",
      "\n",
      "`distplot` is a deprecated function and will be removed in a future version. Please adapt your code to use either `displot` (a figure-level function with similar flexibility) or `histplot` (an axes-level function for histograms).\n",
      "\n"
     ]
    },
    {
     "data": {
      "text/plain": [
       "<AxesSubplot:xlabel='cluster', ylabel='Density'>"
      ]
     },
     "execution_count": 273,
     "metadata": {},
     "output_type": "execute_result"
    },
    {
     "data": {
      "image/png": "[encoded data removed]",
      "text/plain": [
       "<Figure size 432x288 with 1 Axes>"
      ]
     },
     "metadata": {
      "needs_background": "light"
     },
     "output_type": "display_data"
    }
   ],
   "source": [
    "sns.distplot(avg_pitcher['cluster'])"
   ]
  },
  {
   "cell_type": "markdown",
   "metadata": {},
   "source": []
  },
  {
   "cell_type": "markdown",
   "metadata": {},
   "source": [
    "Now let's insert that back into the dataframe:"
   ]
  },
  {
   "cell_type": "code",
   "execution_count": 274,
   "metadata": {},
   "outputs": [],
   "source": [
    "df2 = df.copy()\n",
    "\n",
    "df2 = df2.merge(avg_pitcher, on='pitcher_id')\n",
    "\n",
    "rename_columns = {\n",
    "    'start_speed_y': 'start_speed_average_pitcher',\n",
    "    'break_angle_y': 'break_angle_average_pitcher',\n",
    "    'break_length_y': 'break_length_average_pitcher',\n",
    "    'spin_rate_y': 'spin_rate_average_pitcher'\n",
    "}\n",
    "\n",
    "# Rename the columns in the DataFrame\n",
    "df2 = df2.rename(columns=rename_columns)\n"
   ]
  },
  {
   "cell_type": "code",
   "execution_count": 280,
   "metadata": {},
   "outputs": [
    {
     "name": "stderr",
     "output_type": "stream",
     "text": [
      "/Users/gregorycrooks/opt/miniconda3/lib/python3.9/site-packages/seaborn/distributions.py:2619: FutureWarning:\n",
      "\n",
      "`distplot` is a deprecated function and will be removed in a future version. Please adapt your code to use either `displot` (a figure-level function with similar flexibility) or `histplot` (an axes-level function for histograms).\n",
      "\n"
     ]
    },
    {
     "data": {
      "text/plain": [
       "<AxesSubplot:xlabel='cluster', ylabel='Density'>"
      ]
     },
     "execution_count": 280,
     "metadata": {},
     "output_type": "execute_result"
    },
    {
     "data": {
      "image/png": "[encoded data removed]",
      "text/plain": [
       "<Figure size 432x288 with 1 Axes>"
      ]
     },
     "metadata": {
      "needs_background": "light"
     },
     "output_type": "display_data"
    }
   ],
   "source": [
    "sns.distplot(df2[\"cluster\"])"
   ]
  },
  {
   "cell_type": "code",
   "execution_count": 282,
   "metadata": {},
   "outputs": [
    {
     "data": {
      "image/png": "[encoded data removed]",
      "text/plain": [
       "<Figure size 432x288 with 1 Axes>"
      ]
     },
     "metadata": {
      "needs_background": "light"
     },
     "output_type": "display_data"
    }
   ],
   "source": [
    "from sklearn.utils import resample\n",
    "# Step 1: Determine the size of the smallest cluster\n",
    "min_cluster_size = df2['cluster'].value_counts().min()\n",
    "\n",
    "# Step 2: Group by 'cluster' and undersample each cluster to the size of the smallest cluster\n",
    "df_balanced = df2.groupby('cluster').apply(lambda x: resample(x, n_samples=min_cluster_size, random_state=42)).reset_index(drop=True)\n",
    "\n",
    "# Step 3: Plot the balanced distribution\n",
    "sns.histplot(df_balanced[\"cluster\"])\n",
    "plt.title(\"Balanced Cluster Distribution\")\n",
    "plt.show()"
   ]
  },
  {
   "cell_type": "code",
   "execution_count": 149,
   "metadata": {},
   "outputs": [
    {
     "data": {
      "text/html": [
       "<div>\n",
       "<style scoped>\n",
       "    .dataframe tbody tr th:only-of-type {\n",
       "        vertical-align: middle;\n",
       "    }\n",
       "\n",
       "    .dataframe tbody tr th {\n",
       "        vertical-align: top;\n",
       "    }\n",
       "\n",
       "    .dataframe thead th {\n",
       "        text-align: right;\n",
       "    }\n",
       "</style>\n",
       "<table border=\"1\" class=\"dataframe\">\n",
       "  <thead>\n",
       "    <tr style=\"text-align: right;\">\n",
       "      <th></th>\n",
       "      <th>pitcher_id</th>\n",
       "      <th>start_speed</th>\n",
       "      <th>break_angle</th>\n",
       "      <th>break_length</th>\n",
       "      <th>spin_rate</th>\n",
       "      <th>cluster</th>\n",
       "    </tr>\n",
       "  </thead>\n",
       "  <tbody>\n",
       "    <tr>\n",
       "      <th>0</th>\n",
       "      <td>110683</td>\n",
       "      <td>90.906579</td>\n",
       "      <td>16.340789</td>\n",
       "      <td>5.877303</td>\n",
       "      <td>1693.086941</td>\n",
       "      <td>1</td>\n",
       "    </tr>\n",
       "    <tr>\n",
       "      <th>1</th>\n",
       "      <td>112020</td>\n",
       "      <td>90.553995</td>\n",
       "      <td>19.617662</td>\n",
       "      <td>6.295122</td>\n",
       "      <td>1703.427424</td>\n",
       "      <td>4</td>\n",
       "    </tr>\n",
       "    <tr>\n",
       "      <th>2</th>\n",
       "      <td>112526</td>\n",
       "      <td>90.379049</td>\n",
       "      <td>26.035108</td>\n",
       "      <td>5.463986</td>\n",
       "      <td>1976.872403</td>\n",
       "      <td>1</td>\n",
       "    </tr>\n",
       "    <tr>\n",
       "      <th>3</th>\n",
       "      <td>115629</td>\n",
       "      <td>91.198268</td>\n",
       "      <td>25.294805</td>\n",
       "      <td>5.200433</td>\n",
       "      <td>1970.843797</td>\n",
       "      <td>1</td>\n",
       "    </tr>\n",
       "    <tr>\n",
       "      <th>4</th>\n",
       "      <td>115817</td>\n",
       "      <td>81.724933</td>\n",
       "      <td>15.808491</td>\n",
       "      <td>7.642588</td>\n",
       "      <td>1490.418241</td>\n",
       "      <td>3</td>\n",
       "    </tr>\n",
       "    <tr>\n",
       "      <th>...</th>\n",
       "      <td>...</td>\n",
       "      <td>...</td>\n",
       "      <td>...</td>\n",
       "      <td>...</td>\n",
       "      <td>...</td>\n",
       "      <td>...</td>\n",
       "    </tr>\n",
       "    <tr>\n",
       "      <th>635</th>\n",
       "      <td>572070</td>\n",
       "      <td>92.428723</td>\n",
       "      <td>10.084043</td>\n",
       "      <td>5.889362</td>\n",
       "      <td>1428.046457</td>\n",
       "      <td>0</td>\n",
       "    </tr>\n",
       "    <tr>\n",
       "      <th>636</th>\n",
       "      <td>573244</td>\n",
       "      <td>84.012500</td>\n",
       "      <td>-23.558929</td>\n",
       "      <td>5.905357</td>\n",
       "      <td>1988.791429</td>\n",
       "      <td>2</td>\n",
       "    </tr>\n",
       "    <tr>\n",
       "      <th>637</th>\n",
       "      <td>579799</td>\n",
       "      <td>87.741860</td>\n",
       "      <td>18.377326</td>\n",
       "      <td>7.179070</td>\n",
       "      <td>1713.676326</td>\n",
       "      <td>4</td>\n",
       "    </tr>\n",
       "    <tr>\n",
       "      <th>638</th>\n",
       "      <td>592665</td>\n",
       "      <td>90.916129</td>\n",
       "      <td>23.577419</td>\n",
       "      <td>4.319355</td>\n",
       "      <td>2127.286387</td>\n",
       "      <td>1</td>\n",
       "    </tr>\n",
       "    <tr>\n",
       "      <th>639</th>\n",
       "      <td>592704</td>\n",
       "      <td>88.697701</td>\n",
       "      <td>10.481609</td>\n",
       "      <td>6.741379</td>\n",
       "      <td>1674.800299</td>\n",
       "      <td>4</td>\n",
       "    </tr>\n",
       "  </tbody>\n",
       "</table>\n",
       "<p>640 rows × 6 columns</p>\n",
       "</div>"
      ],
      "text/plain": [
       "    pitcher_id  start_speed  break_angle  break_length    spin_rate  cluster\n",
       "0       110683    90.906579    16.340789      5.877303  1693.086941        1\n",
       "1       112020    90.553995    19.617662      6.295122  1703.427424        4\n",
       "2       112526    90.379049    26.035108      5.463986  1976.872403        1\n",
       "3       115629    91.198268    25.294805      5.200433  1970.843797        1\n",
       "4       115817    81.724933    15.808491      7.642588  1490.418241        3\n",
       "..         ...          ...          ...           ...          ...      ...\n",
       "635     572070    92.428723    10.084043      5.889362  1428.046457        0\n",
       "636     573244    84.012500   -23.558929      5.905357  1988.791429        2\n",
       "637     579799    87.741860    18.377326      7.179070  1713.676326        4\n",
       "638     592665    90.916129    23.577419      4.319355  2127.286387        1\n",
       "639     592704    88.697701    10.481609      6.741379  1674.800299        4\n",
       "\n",
       "[640 rows x 6 columns]"
      ]
     },
     "execution_count": 149,
     "metadata": {},
     "output_type": "execute_result"
    }
   ],
   "source": [
    "avg_pitcher"
   ]
  },
  {
   "cell_type": "code",
   "execution_count": 283,
   "metadata": {},
   "outputs": [
    {
     "name": "stderr",
     "output_type": "stream",
     "text": [
      "/Users/gregorycrooks/opt/miniconda3/lib/python3.9/site-packages/pandas/core/arraylike.py:397: RuntimeWarning:\n",
      "\n",
      "invalid value encountered in log\n",
      "\n"
     ]
    },
    {
     "data": {
      "application/vnd.plotly.v1+json": {
       "config": {
        "plotlyServerURL": "https://plot.ly"
       },
       "data": [
        {
         "name": "Log Start Speed",
         "type": "box",
         "y": [
          4.50983237422306,
          4.505946302116491,
          4.504012478342673,
          4.513035910038941,
          4.4033591280709965,
          4.493954725706866,
          4.449281999992887,
          4.409102407401838,
          4.474487821199017,
          4.444238443895156,
          4.469159532057387,
          4.468468939516257,
          4.518425635567174,
          4.478472532942134,
          4.288230932469193,
          4.4862327342498,
          4.481808155100242,
          4.532267166029535,
          4.4648261663440865,
          4.4616588735012215,
          4.439019102587447,
          4.41336366438043,
          4.497504215828966,
          4.485677072683241,
          4.472013859331602,
          4.512261216532464,
          4.453017508823506,
          4.440705411013255,
          4.420232758434878,
          4.424517236294683,
          4.501296260556703,
          4.513303128433179,
          4.410160473917653,
          4.465801840109604,
          4.490962200182539,
          4.437732862915301,
          4.50966433486747,
          4.472256567869563,
          4.462528198198918,
          4.499716448370318,
          4.478140261029898,
          4.544051669984007,
          4.405900624880711,
          4.476121649586846,
          4.526530448493741,
          4.4655001748709955,
          4.451705837745598,
          4.474624806974734,
          4.45153048669915,
          4.470863126635119,
          4.478489348708598,
          4.498957176735021,
          4.489064314533792,
          4.428444465888723,
          4.509101354167819,
          4.498723554404054,
          4.498754619975893,
          4.512309745736122,
          4.45482450077699,
          4.412407873017381,
          4.499293605212038,
          4.489851419217811,
          4.48799196739299,
          4.368326176116455,
          4.330404338802857,
          4.452116126874705,
          4.491686600505761,
          4.517317206646597,
          4.459068561235848,
          4.4546000448963285,
          4.422367841365282,
          4.427581907146774,
          4.462274116584537,
          4.456099175360913,
          4.466805074607669,
          4.441792382198975,
          4.485048814288266,
          4.494096076555345,
          4.485623499238819,
          4.454459344055788,
          4.461097716625834,
          4.477039948161913,
          4.462157696032473,
          4.47293687522183,
          4.517453627124195,
          4.54235149228867,
          4.479122364008931,
          4.489513503741581,
          4.4750051152809505,
          4.509059686012997,
          4.466475499204965,
          4.524038296783056,
          4.461804295718585,
          4.4195358308590045,
          4.506982410157176,
          4.503005714083856,
          4.503166991179224,
          4.46281928468395,
          4.431547051624356,
          4.458779804905635,
          4.463987415635795,
          4.466835122133129,
          4.466898346247479,
          4.4858973192798475,
          4.416678690814142,
          4.457345227674944,
          4.488299038100571,
          4.484413252157355,
          4.483504623067484,
          4.5040662432118035,
          4.528466942944481,
          4.482286250747534,
          4.503514778070109,
          4.4276173073983225,
          4.486746576355541,
          4.445254449160197,
          4.513986480565474,
          4.48919800973567,
          4.491961964013325,
          4.46295181998233,
          4.5038700979693544,
          4.492836093628802,
          4.464117614154608,
          4.427326208903343,
          4.449789273968867,
          4.471567362240998,
          4.4615212810486735,
          4.512655919907368,
          4.485348442157798,
          4.531308337389636,
          4.430924131100174,
          4.479315850670438,
          4.513663873409927,
          4.4461385661105135,
          4.520353832637827,
          4.467109069116134,
          4.458680915801006,
          4.499585824335374,
          4.424324462692856,
          4.506809125821755,
          4.485008053488268,
          4.456978367393679,
          4.490890676297981,
          4.558451208762712,
          4.508484148464688,
          4.480296095904485,
          4.530494531365642,
          4.504307219585965,
          4.508060141785148,
          4.498619662139777,
          4.520422629400337,
          4.4487502667167895,
          4.476011319749663,
          4.445633871236728,
          4.443243806537731,
          4.492335088680956,
          4.471436413777421,
          4.429874376169296,
          4.494573764646065,
          4.489541078961048,
          4.464369579387953,
          4.420445744577827,
          4.462049241642887,
          4.40350439681895,
          4.446596405323182,
          4.476047213246397,
          4.502361157043423,
          4.387525755482735,
          4.520925406451565,
          4.504287174691697,
          4.456756106778185,
          4.475432478559236,
          4.524328656737373,
          4.493219274518923,
          4.496380533139912,
          4.411515754550843,
          4.480002218461044,
          4.424197718763432,
          4.468916634924174,
          4.50398115496677,
          4.494690205224074,
          4.506535241670497,
          4.505913688036492,
          4.53040410258982,
          4.449396791093652,
          4.522356597513049,
          4.45115565354081,
          4.51096789564889,
          4.515144599650388,
          4.508897876819046,
          4.4857511975056985,
          4.479957168533086,
          4.471570933918311,
          4.467403153283244,
          4.440678385357685,
          4.470929061441118,
          4.512983898725051,
          4.503632142599735,
          4.4898537978648685,
          4.476601752862334,
          4.545011379435489,
          4.432006566978902,
          4.483121486362264,
          4.49932302991504,
          4.414043309232398,
          4.452407431435681,
          4.43704734859395,
          4.457443273958636,
          4.462948077026106,
          4.477698319375371,
          4.517217364122984,
          4.472511428379874,
          4.497693435570228,
          4.524293797565978,
          4.4856971109196415,
          4.459854630259319,
          4.444274372913021,
          4.4787128726233725,
          4.556557506067398,
          4.493405990514119,
          4.530319856907675,
          4.5157048915133275,
          4.468477092446133,
          4.435108522177394,
          4.496007458901725,
          4.518407581879673,
          4.505434035533719,
          4.485748507958412,
          4.502654487822246,
          4.52746719820787,
          4.484319951282238,
          4.51330549224511,
          4.487961985082551,
          4.4479448609080805,
          4.534252386091556,
          4.499498510814052,
          4.519978069067049,
          4.51085950651685,
          4.463704927126023,
          4.429625613473161,
          4.458058842914564,
          4.4896857360664555,
          4.501525135433249,
          4.449685283147697,
          4.465540234901699,
          4.529888448317991,
          4.446969449073917,
          4.493549768856491,
          4.466991610417109,
          4.464182492687113,
          4.506808818645635,
          4.4046238609010775,
          4.519568723692365,
          4.471834641210183,
          4.5163185441069365,
          4.518281796087646,
          4.421547783461089,
          4.465784958361306,
          4.487011288565283,
          4.447096408380009,
          4.444470712282755,
          4.481317562776566,
          4.44825643312867,
          4.451026343744294,
          4.474275707735637,
          4.466632493912625,
          4.473355860525113,
          4.485635617292902,
          4.4875803134926855,
          4.471040467451226,
          4.489877467967745,
          4.515201931565535,
          4.4997745819953785,
          4.3652563616624915,
          4.488514952237938,
          4.493456634006917,
          4.413336868821541,
          4.537395060142816,
          4.508575127924973,
          4.423746507073137,
          4.443303089686988,
          4.473219622912753,
          4.4382719333383305,
          4.479385197811012,
          4.456868639929962,
          4.451727588744514,
          4.453729118556543,
          4.504664533056447,
          4.533226536663746,
          4.481574925233275,
          4.4966533534024045,
          4.476158656935652,
          4.491783945067961,
          4.498462144467476,
          4.495406049213616,
          4.521159088344743,
          4.494068257285528,
          4.426606115236093,
          4.475218094302194,
          4.462069342347418,
          4.4960772232115795,
          4.450529471038923,
          4.48133611268383,
          4.531129753767381,
          4.466611172771487,
          4.477275268712316,
          4.4629262059041945,
          4.455485045258808,
          4.479785113647677,
          4.545420181582317,
          4.5225068157377315,
          4.4775026572678325,
          4.496902450221849,
          4.451519381202484,
          4.475733359278571,
          4.4931773169419005,
          4.474062228098394,
          4.471257768401824,
          4.494001774304514,
          4.534192480620462,
          4.52434145519359,
          4.42049748031171,
          4.493529758981248,
          4.4900799500614275,
          4.472776431721875,
          4.49185835907557,
          4.487040689292735,
          4.5034758726812925,
          4.51253656577786,
          4.4498403451469635,
          4.473538286884255,
          4.48614797227159,
          4.495265445021973,
          4.4954350361912185,
          4.444384138657805,
          4.440526157237575,
          4.485045124214038,
          4.527959429465145,
          4.497051566657424,
          4.48726464282797,
          4.495321499062643,
          4.482870943508154,
          4.508105647683598,
          4.468085836471339,
          4.480740107609915,
          4.488484862232229,
          4.454291256577402,
          4.496708737566358,
          4.504741931153598,
          4.5124243482965145,
          4.437786501558343,
          4.468930366981142,
          4.513689349662835,
          4.498311043790524,
          4.477203115701351,
          4.47769154382087,
          4.50770576439332,
          4.498274288992969,
          4.477487545232783,
          4.47870428641812,
          4.493547622774303,
          4.458494324825635,
          4.476638341720059,
          4.508210498345273,
          4.494015136621929,
          4.480100372012134,
          4.422355094252148,
          4.52681544683318,
          4.467119505840881,
          4.455016557801234,
          4.514211635208109,
          4.501127320366565,
          4.398433223687314,
          4.431874440401449,
          4.448835304345992,
          4.519738651299257,
          4.459768725170683,
          4.312140507209715,
          4.524324356916696,
          4.507910420142585,
          4.511950767735766,
          4.431448280660621,
          4.487948290939788,
          4.416025403846011,
          4.394272772274944,
          4.5000282256802775,
          4.502345033825182,
          4.499366170851282,
          4.473442651716674,
          4.4442838186514635,
          4.468629334173088,
          4.4617435681349145,
          4.552691604029571,
          4.515581403009442,
          4.540972110324877,
          4.455611924363056,
          4.448087434057762,
          4.505771246214573,
          4.533316082220108,
          4.4695665022272895,
          4.444414407108697,
          4.477392929626506,
          4.468705925278932,
          4.492425114129408,
          4.482548597277026,
          4.496174378674097,
          4.500226504951307,
          4.484668916008701,
          4.49647076906475,
          4.427371717921722,
          4.42206385532024,
          4.4595852790573955,
          4.419972497088636,
          4.477865820955697,
          4.459042354979993,
          4.449022017011542,
          4.507753913958697,
          4.4494979088670235,
          4.440573469132324,
          4.4330769629037095,
          4.475976311491506,
          4.465236386741123,
          4.488032103594955,
          4.462907217890486,
          4.490513667934298,
          4.486117913555997,
          4.500920164614292,
          4.442494381440971,
          4.485363364727963,
          4.483744971006036,
          4.452566642061968,
          4.5255680662873665,
          4.511957804265912,
          4.461732747244103,
          4.5007537498582515,
          4.499472695998067,
          4.489845664169915,
          4.505570820765336,
          4.505372477870547,
          4.442364770444319,
          4.48623790529688,
          4.493640444990328,
          4.457664048879502,
          4.533221823517604,
          4.479818136303444,
          4.511500326788699,
          4.4953553199808844,
          4.492956025434989,
          4.45377702756246,
          4.496515361158579,
          4.517402476345427,
          4.477669059554181,
          4.468096137421585,
          4.513906095428144,
          4.551324832618974,
          4.501752226789603,
          4.494665051690129,
          4.50089275984586,
          4.551417729988844,
          4.501446937581726,
          4.552175039412971,
          4.474461459443771,
          4.4318588949504365,
          4.464703233246755,
          4.488707580996209,
          4.480740107609915,
          4.453181171122856,
          4.537706756553039,
          4.445421209070879,
          4.487082146926347,
          4.4783141380104405,
          4.503013751633272,
          4.514294650124287,
          4.464353098232648,
          4.510906237043859,
          4.541697763032518,
          4.414646663795811,
          4.47661341239013,
          4.438548979828643,
          4.455219009224587,
          4.482150862132352,
          4.477291358899663,
          4.485670379015315,
          4.5034044550075585,
          4.554460533720696,
          4.504971762374127,
          4.472555071530135,
          4.4634538488392,
          4.493435569284186,
          4.51148663526098,
          4.530626221367568,
          4.407683048115571,
          4.451972998810626,
          4.481334009843119,
          4.489490377096653,
          4.473061590231703,
          4.445057860556723,
          4.461759286567057,
          4.424187491553941,
          4.487226120417935,
          4.459710793926702,
          4.409155302062135,
          4.509801017828309,
          4.459566212129299,
          4.468111343700609,
          4.469525582175629,
          4.5383256747645895,
          4.4960019573704155,
          4.439387422040774,
          4.451559152912872,
          4.431392669864123,
          4.47511488759865,
          4.466850368718098,
          4.5192060262685265,
          4.486375856398729,
          4.488675932171565,
          4.5018386738311555,
          4.521392212275017,
          4.501399786525874,
          4.463429363844338,
          4.510846345938048,
          4.512030981244467,
          4.52131292046412,
          4.452073531377724,
          4.444507118451996,
          4.507993148409598,
          4.499313943961063,
          4.46492406601519,
          4.489914279892017,
          4.502138917118779,
          4.491713007577718,
          4.468608998081716,
          4.486779256668071,
          4.549745562382488,
          4.517564037562398,
          4.483478148321748,
          4.457307503014453,
          4.45694856119114,
          4.467007395322466,
          4.5200920741716315,
          4.467373552506949,
          4.531715138905167,
          4.481776098800724,
          4.51491304085835,
          4.500677349343487,
          4.505718107016431,
          4.477850381210371,
          4.430537909678495,
          4.451058172079963,
          4.523384679094446,
          4.468457045237826,
          4.420591538425585,
          4.50702344726915,
          4.456201043427487,
          4.4770248228548795,
          4.518522379262419,
          4.481306198765706,
          4.530446639792155,
          4.501290055500699,
          4.461846933365553,
          4.386703182557783,
          4.504879998597835,
          4.490780425118955,
          4.464758032271346,
          4.533793523145864,
          4.522957726299701,
          4.466355017503277,
          4.419693657500836,
          4.514339172551757,
          4.561740628060755,
          4.496133671471806,
          4.446804166425245,
          4.4672306855420265,
          4.424181074427915,
          4.4896138977750555,
          4.456722982775913,
          4.49884301969917,
          4.48523134724452,
          4.442978000489303,
          4.449665519759373,
          4.467618983058213,
          4.490225426305289,
          4.455034163899987,
          4.459855354823232,
          4.5452790208882785,
          4.484533322420442,
          4.512963518636397,
          4.514015742698287,
          4.5165780147468,
          4.341094079796773,
          4.484131857611035,
          4.469768319248321,
          4.476982652744369,
          4.4336566779107285,
          4.486000191881906,
          4.474157244565237,
          4.446443992054309,
          4.485022514677899,
          4.505230887273777,
          4.458177162247431,
          4.498909854368376,
          4.559178602137099,
          4.456122205957062,
          4.4909121801075695,
          4.5412457868847005,
          4.491744554805518,
          4.499344445851067,
          4.507481838116697,
          4.461898387564541,
          4.4249879123290565,
          4.45505938290684,
          4.500879909164705,
          4.503960587500623,
          4.502854757392843,
          4.496731828345336,
          4.524718396697069,
          4.399989335048055,
          4.450145386856109,
          4.450798617871131,
          4.5023460199918395,
          4.479550272063441,
          4.464199013893035,
          4.4328694851610555,
          4.516331829143709,
          4.453970702648933,
          4.522475497486955,
          4.373136427175196,
          4.478155119373899,
          4.5257661632008235,
          4.483484051337976,
          4.493749485414208,
          4.509760001183433,
          4.563652099049285,
          4.536452965728907,
          4.456283405280374,
          4.526437789694293,
          4.430965597296084,
          4.474399099811371,
          4.509937422541881,
          4.485233971836785
         ]
        },
        {
         "name": "Log Break Angle",
         "type": "box",
         "y": [
          2.793664403667656,
          2.9764302778594995,
          3.259445919034554,
          3.2305990463821703,
          2.7605471732946114,
          1.3583396769980534,
          2.8192085904567397,
          null,
          2.7333538245887374,
          null,
          null,
          null,
          null,
          2.386162909098306,
          2.717340248009303,
          2.195037001150066,
          2.982953536271436,
          2.7029441976392086,
          2.7849841680143514,
          2.9525324542477716,
          null,
          null,
          2.042013114551741,
          2.5960842540780664,
          2.718982590580104,
          2.3301537788203586,
          null,
          null,
          2.6271515575461803,
          null,
          3.117504359510737,
          2.2047434097502467,
          null,
          2.9547138384104503,
          2.45537220622414,
          null,
          3.361035646176064,
          3.015627736707159,
          3.043282100831406,
          3.051651304010708,
          2.6868929982460767,
          3.275800917698907,
          null,
          2.8594841504786292,
          3.3247311333501033,
          2.737713392925769,
          0.35913460306274286,
          1.3890405867879159,
          null,
          null,
          3.0480435681220017,
          2.8934164081325147,
          2.805330540838391,
          2.461966045202029,
          2.888242271992675,
          3.265759410767051,
          2.5065289434956233,
          2.5531303554067537,
          2.8632761403732823,
          null,
          null,
          null,
          3.0008358945630333,
          1.7866180697276364,
          2.841998173611949,
          2.8874232602534455,
          null,
          1.6439402786094737,
          3.15706283544521,
          null,
          null,
          null,
          2.5983512838457856,
          null,
          1.7208066582637926,
          2.3851609720145026,
          3.1199505878055667,
          1.5281118026771452,
          null,
          2.901898885851585,
          null,
          2.9230101229377223,
          null,
          0.9426080401915286,
          3.0630080858451114,
          null,
          null,
          2.316496148487624,
          2.796632126313288,
          3.242896688287257,
          null,
          3.3031590092479295,
          1.3913585788520924,
          1.692253507559014,
          2.9237474560463643,
          2.8343279642719303,
          2.5473596644345498,
          2.2067718797128495,
          2.343116136101134,
          1.2204416120392043,
          2.544485833683729,
          3.3289343006851064,
          2.9277027752918148,
          null,
          null,
          null,
          2.775159585766042,
          3.1033396138591964,
          -0.9692562674540678,
          3.4813019795513105,
          2.310346063260892,
          2.8505582764979036,
          null,
          null,
          3.029182903907801,
          -0.26650125037233413,
          null,
          null,
          2.5615953226805814,
          null,
          2.688981906581314,
          3.0477752868320875,
          2.2701772615008764,
          2.3204250111223765,
          null,
          3.3792925462741055,
          2.223372380817245,
          2.9061398329031487,
          2.1212751089799275,
          2.7434173449395014,
          null,
          2.1485301706030877,
          2.19342220429174,
          2.851620322370014,
          2.7143290165274507,
          2.0822784230150355,
          2.0880295588663693,
          2.746832707207184,
          0.7496406060126849,
          2.4460108419712165,
          null,
          2.7406218296379086,
          1.0566753780492473,
          3.4015253701960777,
          2.5349299979702145,
          null,
          3.330297931904622,
          3.056069910148195,
          2.681802286088567,
          2.9479998830779923,
          3.3599715588442023,
          3.175073202209808,
          null,
          1.523586404122732,
          null,
          3.0019785476876417,
          null,
          null,
          null,
          null,
          2.4987684627254727,
          null,
          2.67497312317841,
          2.5412191555370387,
          -1.0671136216087391,
          null,
          3.1206310513819875,
          null,
          3.290736693853248,
          2.6207463585397144,
          2.606659846042907,
          2.80404689942659,
          3.1502790802697755,
          2.7119534145759796,
          3.23068180475811,
          null,
          null,
          2.3402019565653527,
          null,
          2.9986649318555525,
          1.4130605877244102,
          3.0604967146647177,
          2.793426644432274,
          2.2646828085771253,
          null,
          3.0344065087440577,
          null,
          3.2600308251603685,
          3.0691573885003143,
          3.351014581558632,
          2.417400767422627,
          1.5514381696028094,
          2.738256043159276,
          3.069032658776256,
          null,
          2.867116694614971,
          1.9136905644378077,
          2.3280928525412583,
          2.1928599573471668,
          1.8649074390155056,
          2.9852642376552567,
          3.1245651453969594,
          null,
          2.7999477148194303,
          null,
          null,
          2.837615405456854,
          3.1968574111961963,
          3.02328646380988,
          2.8572535983482874,
          3.1661636941182016,
          1.8569488201966045,
          3.023271638027328,
          1.7775565190500617,
          null,
          -1.4792014157064302,
          null,
          1.8416694543431757,
          2.953346557057553,
          2.5619621686983023,
          null,
          3.228350795230719,
          2.467965763711361,
          1.1833577258685521,
          null,
          null,
          3.355901106746979,
          2.9609177961174225,
          2.5385372579217593,
          null,
          null,
          3.3082463217069535,
          1.524315659017265,
          null,
          3.1448151888722116,
          3.188664009459961,
          2.782160560172763,
          1.9320442093297483,
          2.204663506433218,
          3.1822118404966093,
          3.331631389517621,
          null,
          null,
          2.9626924194757907,
          2.3528979068676343,
          2.4893610001373805,
          null,
          2.8548019752007088,
          2.959727375374216,
          -0.16251892949777325,
          null,
          null,
          3.0943098369149853,
          2.8705576001351867,
          2.9900150266203593,
          1.7709563415982918,
          null,
          2.860260223561298,
          3.0717650045874456,
          2.3923463088971357,
          1.6415204591246986,
          null,
          2.3513752571634776,
          2.526179824562418,
          null,
          3.0929181634694394,
          null,
          2.5468376075184906,
          3.136679284209259,
          2.9980222588864063,
          null,
          3.1943588187486576,
          2.7937449222070927,
          2.108102938418654,
          2.7457837377258003,
          3.0037868324761976,
          3.2929520504862606,
          3.127902446020937,
          null,
          null,
          0.7874624179059408,
          null,
          2.8840023096106844,
          3.0605044510201145,
          3.078765739302363,
          -1.595644590301765,
          null,
          2.832978022252565,
          3.1208779093519463,
          3.0719243933772558,
          2.214024711273165,
          1.7482558929058378,
          2.5539874470656407,
          1.0240861689021903,
          null,
          null,
          2.8017283936002135,
          2.5099659657194815,
          2.6335062364816864,
          null,
          2.104646423120096,
          null,
          null,
          2.3279913117041384,
          2.657813786136634,
          3.256860839583056,
          null,
          1.3916993084598013,
          1.9247073583141614,
          3.2757961151208828,
          3.1719618656267294,
          3.264194514891364,
          2.7756593997058205,
          null,
          null,
          2.466238399939413,
          1.696744117752459,
          2.722938813595961,
          null,
          1.757010438750934,
          3.4281210424315414,
          null,
          3.10619815567439,
          null,
          null,
          1.0419472968344654,
          2.541723436204443,
          null,
          2.6960306505727316,
          2.6454841679421373,
          null,
          null,
          2.4944737228214175,
          3.0310821806183506,
          2.3570147011173335,
          2.9021146668484765,
          2.416338858009894,
          2.356973592288899,
          null,
          null,
          2.5058969256798362,
          3.115708351195463,
          null,
          null,
          0.661398482245365,
          2.962934335841645,
          3.038460883063129,
          2.368772534813259,
          2.7377708025512915,
          3.144679653606422,
          null,
          null,
          3.1044526277581457,
          2.7240611067960914,
          null,
          2.9835772517112633,
          -1.3597273337351683,
          2.882765800220381,
          null,
          null,
          null,
          2.659319357207194,
          null,
          2.248949877161414,
          null,
          0.8951271789386338,
          2.2308510856464756,
          0.13932267155764066,
          2.4002890995224186,
          null,
          3.151310505372435,
          null,
          null,
          null,
          2.6107380186272118,
          2.1149534626811954,
          null,
          null,
          3.415019982880651,
          2.9325877980766824,
          3.3957982169843848,
          null,
          null,
          null,
          null,
          3.3447715827116324,
          3.1374247184592075,
          2.7805382614150913,
          2.5620004520380157,
          1.8764176522769291,
          null,
          2.507462835501363,
          3.257219537307521,
          3.0004063722853607,
          null,
          2.53065058984931,
          null,
          null,
          3.1734134507914438,
          2.9259585155607626,
          1.7088718094222872,
          null,
          null,
          2.1645648761771676,
          2.5707745019542445,
          3.1714770972650523,
          null,
          2.6960879117197556,
          2.669120354733993,
          2.4203681286504293,
          0.36248328553447934,
          null,
          null,
          null,
          null,
          null,
          1.7609272467118444,
          null,
          2.71417426781017,
          null,
          2.4849066497880004,
          2.822177439661128,
          2.5664370839943076,
          1.012294633523852,
          null,
          2.511428491346002,
          2.5310478057858554,
          null,
          2.950969014661767,
          2.6606415325592314,
          2.8764418523626665,
          3.3776644973294325,
          2.9455888685857166,
          null,
          2.8245968265919887,
          null,
          3.0359386940320316,
          null,
          2.855881590040089,
          null,
          3.1277806488126747,
          null,
          1.2174529658826287,
          3.266963988306803,
          2.3847070854197914,
          null,
          null,
          2.683957034276485,
          null,
          2.6884822129427817,
          2.015820031152146,
          1.4078408621118184,
          2.393425607457911,
          2.810387971045685,
          2.2919651017666314,
          1.0707270851785737,
          2.378851990935274,
          null,
          3.5105499185895193,
          3.230604751100257,
          3.584159758727959,
          2.778477117482936,
          null,
          2.285293595883985,
          2.8487506700596334,
          3.2355690478098613,
          null,
          2.7275415443491835,
          null,
          2.7866949382593655,
          2.517696472610991,
          2.6417512660967892,
          2.791541973464574,
          null,
          2.79391257918463,
          3.3441403825578546,
          null,
          null,
          2.5200253648526276,
          null,
          2.955124297226099,
          -1.6820086052689354,
          null,
          null,
          3.4501609334934886,
          3.0340669667771496,
          3.036030648159659,
          2.863683601203634,
          null,
          2.622326470044839,
          3.3324029031924205,
          null,
          2.857258504886102,
          null,
          1.2493341138011358,
          null,
          3.2022968421957443,
          null,
          null,
          3.0186042964326223,
          null,
          null,
          2.9591139074939945,
          2.9852609736866955,
          3.012261575505202,
          2.4733386199805936,
          3.0593377423460746,
          2.802890896118763,
          1.8765479827493998,
          3.266261147049148,
          2.0934557850546476,
          2.925483032808458,
          2.4701703038785627,
          3.110396829707048,
          2.6197949488744583,
          -0.040968718898773744,
          2.8206745933942186,
          2.740167754992319,
          2.113097736155097,
          null,
          2.9953729275598264,
          2.6366735382599824,
          2.8445459456907476,
          null,
          3.121978421177942,
          3.275475943355414,
          1.8197804548656842,
          2.430635890529609,
          null,
          null,
          2.2374807552467866,
          null,
          0.7675878817638113,
          1.9832976811269336,
          2.7830072335516234,
          1.728074152808389,
          null,
          3.1525650675807797,
          2.5578285740373086,
          null,
          null,
          null,
          2.7976946433708574,
          2.813967523739571,
          null,
          2.272507637756768,
          3.235665591435868,
          null,
          2.584299393666035,
          3.257899999899473,
          2.5671736026409917,
          2.9260898404982436,
          2.7809859066768685,
          2.898064147092817,
          3.4777952486522907,
          2.4184289276777062,
          2.789197600843244,
          3.072542746294141,
          null,
          1.92054025909398,
          null,
          null,
          3.0669193172800493,
          2.3513752571634776,
          3.3266334651257488,
          2.8173735289245094,
          1.8786165133213215,
          null,
          3.052501074737697,
          3.2321210516182215,
          3.2130449045574077,
          2.336914413859957,
          2.7741313564687187,
          2.899675783583469,
          null,
          null,
          2.981059942017654,
          null,
          2.581268464982126,
          null,
          3.088673522632625,
          null,
          1.8120076300580024,
          null,
          3.062743496815172,
          1.778693713551625,
          2.7281795723973756,
          null,
          3.415572726167427,
          0.19869619166574445,
          3.0726933146901194,
          null,
          3.0958926849323425,
          null,
          null,
          null,
          null,
          2.529091404938256,
          2.159631459717248,
          3.1432898379116057,
          2.6363317632603223,
          3.141994780532243,
          2.3750780050262548,
          2.842160130046022,
          3.368982437194951,
          null,
          2.8780219096755544,
          3.086549185688777,
          2.369897541014342,
          null,
          null,
          1.5952443950932957,
          2.2130530592993938,
          3.2278840794820645,
          2.600097867516167,
          2.997815990677358,
          1.749199854809259,
          2.908886172161796,
          null,
          3.3627958032198997,
          2.5639873564253457,
          2.170175744877336,
          null,
          1.4330594447623817,
          2.767097482465497,
          null,
          null,
          2.632595329908344,
          3.215097266528117,
          2.465456419409126,
          2.386129015629322,
          3.173878458937465,
          null,
          null,
          3.0381529894379433,
          2.3109542291889924,
          null,
          2.9111175993433824,
          3.1602894470012,
          2.349622216285036
         ]
        },
        {
         "name": "Log Break Length",
         "type": "box",
         "y": [
          1.7710979205328998,
          1.8397750400202604,
          1.6981786350703052,
          1.6487418722055358,
          2.033736237076096,
          1.5960514144445068,
          2.176370837718102,
          2.0681461036769786,
          1.8036273013702717,
          1.9317829794423236,
          2.128231705849268,
          1.5833667276719936,
          1.5124650608341965,
          1.7109040624312835,
          2.0946379885611184,
          2.0783576211167984,
          1.7216120853942785,
          1.4430234982844339,
          1.8583688982828923,
          1.8073046805635173,
          1.858549060574097,
          1.952089639145485,
          1.6957556646977905,
          1.9253138525333946,
          1.8728585770233106,
          1.8049261047813718,
          1.8281492959390535,
          2.0655580569231256,
          1.9552869962312056,
          1.9805875901271446,
          1.6673268572832876,
          1.4908526683020695,
          1.8077786228608008,
          1.9301628955287533,
          1.8881659901042325,
          1.7670112995388607,
          1.7957370553798377,
          2.0714790538326993,
          1.7936048445130246,
          1.740922853777783,
          1.8113827404121945,
          1.9127796479742154,
          1.8039503695806673,
          2.0402486542263727,
          1.7309053012939146,
          1.6634372196835003,
          1.937022153510901,
          1.8825645668766826,
          2.02827355272444,
          2.078867171814044,
          1.9757257632348881,
          1.8181011889260152,
          1.7199281059119251,
          1.9063774138792127,
          1.7512988303114532,
          1.6927142526747017,
          1.8306739130456906,
          1.5096875096670408,
          1.871659716612156,
          1.9806117572482451,
          1.7701937730371167,
          1.7584766474081492,
          1.7414014098864607,
          2.2534416275546727,
          2.256541154492639,
          1.9841036922218764,
          2.04899056840911,
          1.3328778402043486,
          1.8601328410322746,
          2.1214801870845044,
          2.0300261821164858,
          1.997008619271062,
          2.0493671844847503,
          1.927141001140739,
          1.576262050195201,
          1.994148589072819,
          1.737656044037549,
          1.6411120194894555,
          1.8767526820614475,
          2.0003051504023457,
          1.9555068105856084,
          1.817606906460259,
          1.9192549458200434,
          1.8907773320777388,
          1.5562387253862762,
          1.450649041830434,
          1.9014498047210129,
          1.7647449482174187,
          2.0576716340213257,
          1.75539182505718,
          1.9485549804632905,
          1.6948301113943405,
          1.7171492439002776,
          1.9936489338843357,
          1.5918432722795395,
          1.6850211633274728,
          1.8141730640649552,
          1.9194843077166617,
          2.078873198385197,
          1.8400028117844083,
          1.8654052418521994,
          1.9452354886598866,
          1.8321015717705949,
          1.7089921304389044,
          2.022671509679596,
          1.7845193926637222,
          1.7749079804180448,
          1.9958834631901476,
          1.8090691067631468,
          1.7606285506328818,
          1.5375147621978162,
          1.9669842714521966,
          1.6480138109492417,
          2.0005067932669625,
          1.9592863298830074,
          2.036383199007722,
          1.7690024821054389,
          1.7404661748405046,
          1.8772173525893683,
          1.9384145949785276,
          1.6728069369871326,
          1.619700857263659,
          1.9665371318375011,
          2.248849386431599,
          1.9010440264960888,
          1.9844438130575563,
          1.8460988857547407,
          1.6988282387376374,
          1.8251825580195502,
          1.3660916538023713,
          1.8081351908372476,
          1.8086093739151499,
          1.319943499095778,
          2.111572819862629,
          1.4943506264803212,
          1.9828805799738585,
          1.7250853359600622,
          1.8478598361903027,
          2.1204686433693056,
          2.0115136986849698,
          1.7513603971078444,
          1.85259246186954,
          1.8897577061462982,
          1.575207899595998,
          1.6665060198800985,
          2.003646487183677,
          1.7431915025931446,
          1.7673445958423575,
          1.5574056562541942,
          1.6342389202335097,
          1.61176079385024,
          1.9401794743463283,
          1.9111030893054983,
          1.9335750112570576,
          2.043069185406633,
          1.7180958095081624,
          1.68929994041272,
          1.9284916400412435,
          1.8468787684491346,
          1.3083328196501787,
          1.840946380079938,
          1.7067662563946624,
          1.9803427872459858,
          1.730302614627892,
          2.0292003252430892,
          1.7398054819147903,
          1.9766754879877486,
          2.065085115136225,
          1.8124264008131301,
          1.966337996589786,
          1.853400277529555,
          2.109852589364653,
          2.0123476750929514,
          1.8916644007292707,
          1.865521585168049,
          2.270348546112803,
          1.8846744383064251,
          1.851730282587071,
          1.832771226764068,
          1.6908990538134372,
          1.7931769039090284,
          1.757071293949558,
          1.7181588469830784,
          1.7806600866548739,
          1.8902445513164408,
          1.5815527089445647,
          1.8728944763002002,
          1.806893798434012,
          1.8002926974086482,
          1.8186177567309239,
          1.7200155643692139,
          1.7402493545919797,
          1.8356268219342702,
          1.870020552607469,
          1.9207186435656656,
          1.7958032698020252,
          1.7836330136710297,
          1.733724576273585,
          1.8549819551730815,
          1.8339879929192233,
          1.562189195283464,
          1.8000582720427503,
          1.623987423543262,
          1.6382496096726462,
          2.063693184711697,
          1.9331304224089143,
          1.667706820558076,
          1.8405496333974871,
          1.8865836222913421,
          1.7648864509769586,
          2.0693396687325,
          1.782924257139527,
          1.9034634588080563,
          1.5023665323726447,
          1.6070150508483811,
          1.8293884014215478,
          2.0383691151630803,
          1.9475894105750333,
          1.0577902941478545,
          1.9544739578341934,
          1.4124206657121106,
          1.8372107321319724,
          1.9229393581588434,
          2.19073141360686,
          1.7737580357093976,
          1.5102716231764404,
          1.8679853783748905,
          1.8292567942181424,
          1.6540215434992693,
          1.330592759829022,
          1.6373772811233418,
          1.8603077974758564,
          1.8600409766444606,
          2.08023145949765,
          1.7357316377583925,
          1.8547342683894434,
          1.7191348767543342,
          1.6873530610751042,
          1.884034745337226,
          2.142025027981604,
          1.811090138677041,
          1.8379441082131982,
          1.7948097235283953,
          2.157559320943788,
          2.0100914635450424,
          1.2347444629926896,
          1.8352786231415508,
          1.8866575894152589,
          1.7284770425792555,
          1.9095425048844386,
          1.8245492920510458,
          2.1175134896292436,
          1.5303947050936475,
          1.878768662427739,
          1.6939279411168708,
          1.6073769666140778,
          2.3075726345050844,
          1.909807020161738,
          1.8625744022089576,
          2.050816667739953,
          2.1455306579683495,
          1.6847614392482342,
          1.6863989535702288,
          1.8237770060462009,
          2.0322234170705302,
          2.0229862054310876,
          1.830822002464782,
          1.792314870519755,
          1.9857966411945722,
          1.8486566903656674,
          1.9869125784240416,
          1.7730954969007722,
          1.8299675240669502,
          2.1791885047051514,
          1.884536228903254,
          2.0817139089728687,
          2.1947523881908304,
          1.6010837859602283,
          1.8403914180660914,
          2.0377871313672666,
          1.6725796061377827,
          1.9333244170999992,
          1.9377133818511347,
          1.9139640494223973,
          2.0495371782639795,
          1.8110172858324696,
          1.6019977152710299,
          1.9651523952777084,
          1.6948872234728714,
          1.8330446769118462,
          1.7294024748756236,
          1.803373098630228,
          1.906927845301424,
          1.6828557618583908,
          1.8149727916078373,
          1.56091087153944,
          1.7076789744146206,
          1.9154525234748854,
          2.0061985799121183,
          1.9025597081816996,
          1.7759488632014127,
          1.861707298610275,
          1.8877068883372947,
          1.7329497644934448,
          2.006005103743633,
          1.9445829354556343,
          1.9191084567763015,
          1.7709143406742653,
          1.8461123639754915,
          1.6753148232427943,
          1.971252169821532,
          1.7297610718439862,
          1.858923508927319,
          2.0375028524595056,
          1.8781919750003624,
          1.9464524974370425,
          1.7545367587374467,
          1.8445100346135839,
          1.846741603645408,
          1.7914704101134538,
          1.772154624569402,
          1.949360411247466,
          1.8404103867217765,
          1.5745506534336597,
          1.6956890004773213,
          1.6465362999999358,
          1.7444720314406792,
          1.7780156018569864,
          1.6671017713061762,
          1.9612159302251242,
          1.902378860003252,
          1.7876672221855305,
          1.736713825221954,
          2.141535671475631,
          1.78900654250665,
          1.9502719609485895,
          1.7219158958607905,
          1.582337139393639,
          1.7501791669208233,
          1.631199404215613,
          1.5591010982725066,
          1.8558586368358851,
          1.8765901701760892,
          1.834292176765799,
          1.6863989535702288,
          1.7824150721132632,
          2.1271314641634977,
          1.9579560846697437,
          1.7732559976634952,
          1.7302722908682429,
          1.9488819194444706,
          1.6373772811233418,
          1.6838796798036773,
          1.6465445276155775,
          1.9229597154684026,
          1.8524728103809274,
          1.760837558889469,
          1.6574312840749605,
          1.892389425658189,
          1.9511851973152483,
          1.8556300322885566,
          1.7125100975739145,
          1.728733578843276,
          1.4680450111385832,
          1.7839512867802432,
          1.8051014405241774,
          1.9557842503898337,
          1.2620987634110006,
          1.9986504479747138,
          1.7243886581129717,
          1.6330459262196677,
          1.8104721781602091,
          2.110902492760828,
          2.007965430774277,
          1.967747882624987,
          1.5928206066106627,
          1.6978542386427562,
          2.489064659936664,
          1.7175732008011957,
          1.8963545674735378,
          1.7771229617053121,
          1.89966775696468,
          1.7303783514047602,
          2.1370039856274845,
          2.2207550747464135,
          1.9978180086573312,
          1.6319601497829221,
          1.8045103805948022,
          1.9901775728326105,
          1.851127302713727,
          1.9302892423558073,
          1.7123892784199042,
          1.7056800587550889,
          1.8019436543910545,
          1.9853005865326978,
          1.9711126271651072,
          1.779461941417649,
          1.6719770133822205,
          1.8224563027984364,
          1.8120120755002016,
          1.8644324295606642,
          1.8446564153501404,
          1.5955925056120475,
          1.6639602221700496,
          1.8838870803348235,
          1.8124304213322515,
          1.864961614031273,
          1.7744633134905654,
          1.9754574887307328,
          2.0412203288596382,
          2.10152597259013,
          1.8607523407150064,
          1.924394627020762,
          1.7339497431956512,
          1.9650729457744467,
          1.641878938602003,
          1.4770133267847687,
          1.9920012562555802,
          1.8320098718493525,
          1.7888442652429022,
          1.8643569474184454,
          1.6382299414751373,
          1.5365202985203301,
          2.011487525161694,
          1.955738237991576,
          1.5818765777323018,
          1.6027489242833037,
          1.996864761758072,
          1.7078759723628794,
          1.5697879681014475,
          1.8723251170676223,
          1.7747399329573097,
          1.9092323792810844,
          1.893206085564745,
          1.8639785718780248,
          1.8037305399339607,
          1.6501368224566926,
          1.6200480915461157,
          1.718797248081945,
          2.11677921211748,
          1.881862672355153,
          1.5519480435032815,
          1.9995476324590702,
          1.516860836401949,
          1.970944303368326,
          1.6700625342505353,
          1.8413847065149085,
          1.8925533940885,
          1.98294133368441,
          1.701591600604645,
          1.5378778560164295,
          1.8609509741847257,
          2.0350755387248514,
          1.7203983038946031,
          1.5614812287164896,
          1.6496197020669323,
          1.8304245725853077,
          2.001229718642055,
          1.4778094699556639,
          1.915584819340401,
          1.68068465230679,
          2.052334765187948,
          1.889937388945804,
          1.8870696490323797,
          1.9260461516667726,
          1.830579461077637,
          2.124992065093041,
          1.4259728449380669,
          1.9505451515594618,
          1.6574341107023558,
          1.9190862524954608,
          1.710726318509023,
          1.6623358508948352,
          1.6929632968878172,
          1.9774937242017312,
          1.547562508716013,
          1.9474127789398483,
          1.7578579175523736,
          1.8389363580994422,
          2.2442495159810822,
          1.8816586056528486,
          1.8711866028593769,
          1.7434206957038487,
          1.5055927781846163,
          1.5215705542237914,
          1.6025722926481187,
          1.8200708132172954,
          2.1428571950682467,
          1.6127334470635033,
          1.670229264213222,
          1.572658660930804,
          2.120337952035815,
          1.943382790411597,
          1.875242406366564,
          1.7344428377810335,
          1.6987452627696786,
          2.0463271469583155,
          1.7821256991895313,
          2.1030070622929053,
          1.8099545128192844,
          2.037968293473261,
          2.122261538862764,
          1.628621745234682,
          1.9636097261547143,
          1.929124844082155,
          2.0245532763744265,
          1.5153332556947625,
          1.8306664397704704,
          2.146777339223419,
          1.6810662929199656,
          2.3061271994184454,
          1.771857878701843,
          1.8863063318370383,
          1.6619338731589888,
          1.5525125103472666,
          1.899581741008667,
          1.7402775133929116,
          1.8186515582148122,
          1.8242100726293657,
          2.0392203281929713,
          1.9446261771262974,
          1.5782911834372637,
          1.4246132254220272,
          1.972292553063375,
          2.0177061057693813,
          1.5544658891890872,
          1.8140511202808882,
          1.520276574928063,
          1.6361393781070492,
          1.7555137502562217,
          1.7978017836840177,
          1.8727067450320183,
          1.7851575128584187,
          1.4508328822574619,
          1.7523675702521457,
          1.7552773552566414,
          1.861632833848014,
          1.9801735400211669,
          1.8872002570127133,
          1.402978724154403,
          1.824549292051046,
          1.7532992030579797,
          1.918665857549436,
          1.7086530013005072,
          1.812554673398436,
          1.7597717937346578,
          1.9297330355677014,
          1.7373001123572716,
          2.120823379458605,
          1.6983574434085147,
          1.9485851395046163,
          1.9740810260220096,
          1.8370160608161759,
          2.152844666861753,
          1.8941744746561247,
          1.6206567960388887,
          2.0284037077611674,
          1.5414897911727719,
          1.7749523509116736,
          2.043495083152757,
          2.2970140479445904,
          1.8587078749574366,
          1.564064979795621,
          1.856297990365626,
          1.7167964307545998,
          1.5594711032101272,
          1.919370593820701,
          1.9542089518700085,
          1.8745344802296031,
          1.3523928094442093,
          1.7224550874327853,
          1.952604112318112,
          1.9997826414848836,
          2.141185984441959,
          1.7712068080066605,
          1.3513744856642351,
          1.7996988830002476,
          1.7317227547290177,
          1.798679912072629,
          2.042415786264412,
          1.8837432426387617,
          1.8027881724779007,
          1.9387416595767009,
          1.9483796248609746,
          1.7385203650131664,
          1.8986572642047677,
          1.578635003279055,
          1.7931283948353967,
          1.4395388756387029,
          2.391096916078265,
          1.547562508716013,
          1.7847529991597222,
          1.9520519637244766,
          1.996896758613241,
          2.090704851260593,
          2.136173004042387,
          2.1720134108309956,
          1.3582738487877157,
          1.9626187207070633,
          2.1174596088673567,
          1.7707588303522057,
          1.6937790608678511,
          1.8672333511356818,
          1.8396674101377959,
          1.7586249098523756,
          1.3633869188702321,
          1.7095287537619106,
          1.837936960454735,
          1.702050855269424,
          1.9750169175269148,
          1.6952849481778025,
          1.7421010525888458,
          1.728701333260918,
          1.6645572116551801,
          1.9128140304349441,
          1.7043018130834116,
          2.151762203259462,
          2.1114979577959523,
          1.9309188418020837,
          1.8364622558642867,
          1.7557004194123524,
          1.8315743342470518,
          1.8743279622898446,
          1.670047155431782,
          1.8090691067631466,
          1.715866822672368,
          2.235635064357621,
          1.827227104338088,
          1.7616274868771562,
          1.933420296579203,
          1.4542248032392902,
          1.5040773967762742,
          1.2646069521746355,
          1.4909967655331677,
          1.7027258468576574,
          1.773147622033456,
          1.7758599292525978,
          1.9711698158145512,
          1.4631060482119806,
          1.9082645494389463
         ]
        },
        {
         "name": "Log Spin Rate",
         "type": "box",
         "y": [
          7.434308733909397,
          7.44039763207581,
          7.589271280456019,
          7.586217053142999,
          7.306812058369681,
          7.423246233419775,
          7.326669198689401,
          7.2976877694436535,
          7.363106750843785,
          7.311921006558174,
          7.572586743515287,
          7.619543353738312,
          7.394478489866928,
          7.466127469172485,
          7.443479391705481,
          7.29774935885876,
          7.459458525308807,
          7.545840001652571,
          7.442138758780399,
          7.4453761002349035,
          7.366434414534701,
          7.4332182129160005,
          7.39535614414577,
          7.308616808562323,
          7.277977778663549,
          7.347808545697525,
          7.552446561704404,
          7.618178327885012,
          7.315327052576727,
          7.273350793059351,
          7.547930466217581,
          7.525312131379739,
          7.520191093922195,
          7.356171620713826,
          7.460577063773612,
          7.559532172100047,
          7.600902550574687,
          7.388365311322325,
          7.522597613120434,
          7.577686073307192,
          7.442945018795723,
          7.541434298437927,
          7.4937331637651985,
          7.303918188820492,
          7.596978176385046,
          7.500102639196094,
          7.095176936235172,
          7.242094170210835,
          7.58096957490564,
          7.6672294780895145,
          7.547650167649276,
          7.590523456483766,
          7.536047896934274,
          7.3949505354873,
          7.515059074736154,
          7.596965004112749,
          7.425307072286669,
          7.466750334218486,
          7.399353464221389,
          7.218296463188034,
          7.501978232039096,
          7.524129107252838,
          7.544731413388308,
          6.960661860744589,
          7.0533707084003145,
          7.382407303985336,
          7.670168163029576,
          7.58518376865842,
          7.526648964223223,
          7.567375878785404,
          7.447651340674788,
          7.333116711719863,
          7.225877200630606,
          7.207294416668505,
          7.554388997770424,
          6.963740551507373,
          7.482995735253163,
          7.446027493820559,
          7.51001915054112,
          7.389662600584314,
          7.453744075495155,
          7.52017542547444,
          7.441252211519716,
          7.2546769378711815,
          7.565544180648432,
          7.506413548286755,
          7.516485831819312,
          7.283911944332652,
          7.591386720490216,
          7.584343110440326,
          7.557143991467965,
          7.51598371333986,
          7.479432491286068,
          7.424336791160151,
          7.601250408479502,
          7.444426967908648,
          7.2536050657587285,
          7.4727315228050095,
          7.328283473092326,
          7.286729212813143,
          7.314838539893899,
          7.558095272027646,
          7.447639202784075,
          7.690181696367591,
          7.516283775240324,
          7.583446570232408,
          7.46928102687325,
          7.411507877646591,
          7.270227176957141,
          7.693993123444591,
          7.494869783630874,
          7.309003636062987,
          7.433638725682119,
          7.578870195795072,
          7.405944441351397,
          7.194415172076465,
          7.515464879847197,
          7.686882429814625,
          7.190965916511076,
          7.142159760085225,
          7.544820492539891,
          7.486374276036949,
          7.292432386798445,
          7.336351970836492,
          7.395524424638991,
          7.573897491924573,
          7.291742446608151,
          7.375427590227427,
          7.307011169878993,
          7.6957244292821745,
          7.670119000002335,
          7.39403021666273,
          7.620895119616039,
          7.4404334293650365,
          7.584438023482944,
          7.354382760038883,
          7.424521232003777,
          7.464151911547421,
          7.481299143179543,
          7.230482729971571,
          7.600060808498875,
          7.436236338725854,
          7.145900561294918,
          7.572325124472277,
          7.4235313041781,
          7.614232921146352,
          7.560810268095214,
          7.503239029274739,
          7.485215534720165,
          7.505780612742724,
          7.594948783159059,
          7.482114949927746,
          7.128367948387178,
          6.932867696194335,
          7.489013621737133,
          7.499114492840302,
          7.57177969334227,
          7.399500963939025,
          7.25681220939988,
          7.618888786947687,
          7.250013308079037,
          7.671234219502892,
          7.294572107710287,
          7.539063177364275,
          7.008243339486235,
          7.437144929385075,
          7.420929235226571,
          7.457672928850891,
          7.568290794777964,
          7.329949814803437,
          7.305748287267028,
          7.388001450891747,
          7.4441884114799475,
          7.29255098072382,
          7.6831510841887365,
          7.443234111131192,
          7.500690345721831,
          7.302718714831944,
          7.637966954003544,
          7.587148131913698,
          7.202457186550948,
          7.501900075771467,
          7.45115150338701,
          7.354583739611272,
          7.46278094346254,
          7.6619096605721735,
          7.655007729915919,
          7.554686107061524,
          7.544571533027276,
          7.577253523173827,
          7.401119051235914,
          7.353996957004731,
          7.547076866195484,
          7.401366014514026,
          7.555966469054339,
          7.402407774056938,
          7.347971492581095,
          7.371273539111944,
          7.424554907218295,
          7.418640288954657,
          7.486070414264598,
          7.508694238684658,
          7.6455802078418404,
          7.540431822171209,
          7.584429790940876,
          7.5001595789358,
          7.518400762280225,
          7.504358457781284,
          7.4746961040693565,
          7.437316865102791,
          7.59265843196189,
          7.4457284101859935,
          7.550234205592867,
          7.384768275500515,
          7.591607661556088,
          7.528551147336089,
          7.237969997340028,
          7.262114852164624,
          7.73019537939289,
          7.188613799888002,
          7.611292355973659,
          7.440965942744487,
          7.266232808110551,
          7.336577934614824,
          7.256929763968131,
          7.546473377669266,
          7.560540438582847,
          7.379139238378413,
          7.43537462253873,
          7.571165465128425,
          7.566106391526616,
          7.560440429988569,
          6.954820413285574,
          7.348328813902822,
          7.396303603822518,
          7.459783750174706,
          7.563300936847256,
          7.318915482845303,
          7.212767725228271,
          7.527399881023726,
          7.652316501986887,
          7.385182417842701,
          7.644563674970594,
          7.612615345093616,
          7.353732419977413,
          7.7269606849834895,
          7.428121928144274,
          7.29547301428677,
          7.561902345145485,
          7.356080303636122,
          7.514177163007542,
          7.162281176810808,
          7.645737345233619,
          7.4105955887859505,
          7.459513907181321,
          7.436394598413157,
          7.682008255782826,
          7.318568252210515,
          7.4229101358023115,
          7.365711785287502,
          7.092736059461676,
          7.476387367066699,
          7.457400573956376,
          7.346789168646313,
          7.473966588762915,
          7.3888433353116465,
          7.290766301376963,
          7.2683234112853485,
          7.529006465732879,
          7.423243011874138,
          7.740075319212494,
          7.521719257802065,
          7.36931570661098,
          6.873454052244619,
          7.407679893809729,
          7.466327902938474,
          7.6092945362435485,
          7.548250230279032,
          7.574221337455605,
          7.4872367069590595,
          7.571154673231776,
          7.40679168186205,
          7.407308435114334,
          7.475550644395317,
          7.382503549051154,
          7.450533132952854,
          7.571445258712366,
          7.466203871724479,
          7.492016866842079,
          7.4302184855634525,
          7.375300590008015,
          7.512749250958791,
          7.16178576603329,
          7.482257878123742,
          7.3949851077515465,
          7.4561829837484,
          7.590142749525915,
          7.3258961388704344,
          7.180740793512132,
          7.560248143513508,
          7.316124613917244,
          6.916568894775601,
          7.370840072689406,
          7.350222396211269,
          7.32791711187786,
          7.575986854053892,
          7.583083067422291,
          7.412608196702248,
          7.434256939976257,
          7.454003974420215,
          7.530580730333077,
          7.5944247745685525,
          7.522667210948323,
          7.286712909580802,
          7.4836627104004725,
          7.416026232227813,
          7.291756775276607,
          7.464646358268042,
          7.759642089355435,
          7.443177442487362,
          7.617714539018318,
          7.360908553260562,
          7.491161399845428,
          7.6732483367506354,
          7.542471111865517,
          7.378813596970067,
          7.451327544275606,
          7.35569932029534,
          7.451330172125161,
          7.315749757804843,
          7.455710660047393,
          7.540412748119864,
          7.5291502619413935,
          7.440432102554959,
          7.460666164988994,
          7.3434297918101255,
          7.3516996471689975,
          7.364862267381392,
          7.2885613532788796,
          7.547567429598748,
          7.495567768466624,
          7.4825500577613,
          7.7112363026795805,
          7.535310419318468,
          7.3154234585452915,
          7.485871492317323,
          7.437547042795237,
          7.117962814042949,
          7.364623288526335,
          7.49130873004829,
          7.244597923184467,
          7.714603605239007,
          7.6346093871166785,
          7.536404485114373,
          7.721386671621134,
          7.52934808460658,
          7.126881873115912,
          7.604928984547787,
          7.3893800300952055,
          7.60414802953443,
          7.739498980933345,
          7.450571792668697,
          7.505292051908225,
          7.5545970557970445,
          7.320016132505302,
          7.213266510230127,
          7.317564939830863,
          7.648602380742924,
          7.3597649958112115,
          7.559405774085238,
          7.554259374165107,
          7.722432475381044,
          7.478722064567613,
          7.542221377226734,
          7.3018696039402196,
          7.360013701739253,
          7.6702009904476185,
          7.021077267838147,
          7.645083143223673,
          7.3519829106114845,
          7.6400550768118025,
          7.544410282300669,
          7.458335890680803,
          7.113533339514648,
          7.3966355116581735,
          7.600013712264177,
          7.56311745027258,
          7.506674534733563,
          7.30443331840439,
          7.295366848289256,
          7.429013364909802,
          7.449513784781332,
          7.465764861094434,
          7.465992767668123,
          7.5282377513137995,
          7.379361025688351,
          7.458062658749836,
          7.548850841888933,
          7.508901138311254,
          7.510890486187911,
          7.336164998314961,
          7.66120705048816,
          7.520488386045794,
          7.612385154214866,
          7.382617662208456,
          7.4878317308348326,
          7.392650286004553,
          7.362154481682694,
          7.26620723978496,
          7.429365835719086,
          7.2445633745916895,
          7.617115999161378,
          7.532302260949038,
          7.3899731391717145,
          6.957005764633946,
          7.728738600777861,
          7.534401691976995,
          7.368078560619344,
          7.503996299338304,
          7.495298234585295,
          7.382817509314333,
          7.5827097635581175,
          7.532408962195034,
          7.163130094790724,
          7.674550217788936,
          7.559232051713421,
          7.429163047166384,
          7.519246008200409,
          7.501515269467063,
          7.589358405462607,
          7.534485120664633,
          7.61964231653842,
          7.311060232379369,
          7.541067359955306,
          7.275298495430605,
          7.526323083987543,
          7.604323204680518,
          7.5973993976457574,
          7.469523998792679,
          7.500654687257505,
          7.433117831510458,
          7.461422941013948,
          6.48812151789716,
          7.586005415960159,
          7.317426990965114,
          7.642114358039902,
          7.5084564661422455,
          7.41617188451597,
          7.514418713851315,
          7.297846880209822,
          7.494607675404798,
          7.3099497595658365,
          7.356056581181942,
          7.443772781751749,
          7.536589709157721,
          7.353080815453963,
          7.4441358995330145,
          7.578655611923491,
          7.684605536804654,
          7.484492946081158,
          7.692834843108341,
          7.341246185483633,
          7.551041609648104,
          7.27921038946889,
          7.454635251267568,
          7.574668313044446,
          7.523096374333477,
          7.4854442283609774,
          7.490101680126766,
          7.496851209346705,
          7.441404225344916,
          7.340720313054379,
          7.487953300510955,
          7.648165749809884,
          7.313554799381336,
          7.593457512849966,
          7.528982319058962,
          7.633220866280633,
          7.479730965185882,
          7.312574122750926,
          7.426861217901833,
          7.243212686552782,
          7.455557680527894,
          7.538602127694486,
          7.6905841303415565,
          7.559132620125411,
          7.511118035644554,
          7.505163471652489,
          7.603465623285823,
          7.428726688888625,
          7.610087123309602,
          7.198475489753862,
          7.480318992354853,
          7.680503194571086,
          7.359716930567084,
          7.664754856678531,
          7.493954426432154,
          7.5689093278605775,
          7.5002210911375595,
          7.4774731662739224,
          7.412169279651578,
          6.0075457978795805,
          7.500098514743663,
          7.499681097239179,
          7.449359871680271,
          7.214353343685242,
          7.661788435437859,
          7.317222781564776,
          7.4039382119999875,
          7.659531006259222,
          7.322087665988459,
          7.4696803181861195,
          7.51675292210229,
          7.490320681418535,
          7.602116184341394,
          7.379425331473068,
          7.438933650679959,
          7.378431592081599,
          7.233970601017537,
          7.331201849782362,
          7.509869668354486,
          7.527450285126522,
          7.56295510532309,
          7.262560498296883,
          7.413335823971951,
          7.646879767684202,
          7.38017123453702,
          7.611205510759024,
          7.562973077390123,
          7.556905039028457,
          7.51359410457456,
          7.2801989753611664,
          7.363440010166151,
          7.6810683903925625,
          7.379650589154542,
          7.38849215107318,
          7.588388658688365,
          7.476376793356578,
          7.244230181855953,
          7.613866852053894,
          7.417685253498196,
          7.604939074444934,
          7.248070822806711,
          7.424596375986769,
          7.665116663041841,
          7.339287808488684,
          7.496407398798247,
          7.466041895672416,
          7.223058344325407,
          7.537004776333019,
          7.255682601762485,
          7.457138109116171,
          7.286439746018785,
          7.405886701523105,
          7.689271178814633,
          7.328178046924452,
          7.324290335098541,
          7.603837943537933,
          7.521457295525991,
          6.828049663380838,
          7.346595773204665,
          7.770488908693448,
          7.602455611750867,
          7.377383316868935,
          7.595215039006178,
          7.447172494232362,
          7.176286344287207,
          7.3922328462913685,
          7.393344883749146,
          7.6249139052315975,
          7.572977819034109,
          7.0920401373371895,
          7.37701244568007,
          7.521436982064533,
          7.389413239948165,
          7.6964162607970055,
          7.389863100592939,
          7.659322115796659,
          7.331040422171515,
          7.458913709124093,
          7.482623652895129,
          7.215247509810336,
          7.20128710593574,
          7.203350989490963,
          7.568137063706069,
          7.2862222200326645,
          7.427778901165255,
          7.817770315977041,
          7.710040582610433,
          7.406021246224146,
          7.528069904467334,
          7.499466208350857,
          7.457917342377919,
          7.330008625542713,
          7.471860721954899,
          7.36816932190293,
          7.495665070587869,
          7.637191196464524,
          7.494770343778773,
          7.5405186024894855,
          7.4211473920644275,
          7.59436430733041,
          7.360477901749692,
          7.334712436182699,
          7.57581899246941,
          7.746080300220497,
          7.486567017703266,
          7.40143347856585,
          7.371723602726023,
          7.512895510015026,
          7.430319045804724,
          7.232139096522617,
          7.236673081892117,
          7.629378568022428,
          7.2679556955565765,
          7.446090496186635,
          6.997117349259467,
          7.348739229572482,
          7.615755793732807,
          7.584265074584759,
          7.482184884214501,
          7.336230219176503,
          7.5305517267547275,
          7.35936374831795,
          7.386047221022967,
          7.124980750658621,
          7.165027774825991,
          7.435752028004936,
          7.631855079612111,
          7.19963817544056,
          7.605463000818103,
          7.6004543591601,
          7.705995094788742,
          7.47278678144103,
          7.578692864488404,
          7.264062675596392,
          7.595282410897716,
          7.446396239773803,
          7.662602449811614,
          7.423449212584532
         ]
        }
       ],
       "layout": {
        "boxmode": "group",
        "height": 600,
        "template": {
         "data": {
          "bar": [
           {
            "error_x": {
             "color": "#2a3f5f"
            },
            "error_y": {
             "color": "#2a3f5f"
            },
            "marker": {
             "line": {
              "color": "#E5ECF6",
              "width": 0.5
             },
             "pattern": {
              "fillmode": "overlay",
              "size": 10,
              "solidity": 0.2
             }
            },
            "type": "bar"
           }
          ],
          "barpolar": [
           {
            "marker": {
             "line": {
              "color": "#E5ECF6",
              "width": 0.5
             },
             "pattern": {
              "fillmode": "overlay",
              "size": 10,
              "solidity": 0.2
             }
            },
            "type": "barpolar"
           }
          ],
          "carpet": [
           {
            "aaxis": {
             "endlinecolor": "#2a3f5f",
             "gridcolor": "white",
             "linecolor": "white",
             "minorgridcolor": "white",
             "startlinecolor": "#2a3f5f"
            },
            "baxis": {
             "endlinecolor": "#2a3f5f",
             "gridcolor": "white",
             "linecolor": "white",
             "minorgridcolor": "white",
             "startlinecolor": "#2a3f5f"
            },
            "type": "carpet"
           }
          ],
          "choropleth": [
           {
            "colorbar": {
             "outlinewidth": 0,
             "ticks": ""
            },
            "type": "choropleth"
           }
          ],
          "contour": [
           {
            "colorbar": {
             "outlinewidth": 0,
             "ticks": ""
            },
            "colorscale": [
             [
              0,
              "#0d0887"
             ],
             [
              0.1111111111111111,
              "#46039f"
             ],
             [
              0.2222222222222222,
              "#7201a8"
             ],
             [
              0.3333333333333333,
              "#9c179e"
             ],
             [
              0.4444444444444444,
              "#bd3786"
             ],
             [
              0.5555555555555556,
              "#d8576b"
             ],
             [
              0.6666666666666666,
              "#ed7953"
             ],
             [
              0.7777777777777778,
              "#fb9f3a"
             ],
             [
              0.8888888888888888,
              "#fdca26"
             ],
             [
              1,
              "#f0f921"
             ]
            ],
            "type": "contour"
           }
          ],
          "contourcarpet": [
           {
            "colorbar": {
             "outlinewidth": 0,
             "ticks": ""
            },
            "type": "contourcarpet"
           }
          ],
          "heatmap": [
           {
            "colorbar": {
             "outlinewidth": 0,
             "ticks": ""
            },
            "colorscale": [
             [
              0,
              "#0d0887"
             ],
             [
              0.1111111111111111,
              "#46039f"
             ],
             [
              0.2222222222222222,
              "#7201a8"
             ],
             [
              0.3333333333333333,
              "#9c179e"
             ],
             [
              0.4444444444444444,
              "#bd3786"
             ],
             [
              0.5555555555555556,
              "#d8576b"
             ],
             [
              0.6666666666666666,
              "#ed7953"
             ],
             [
              0.7777777777777778,
              "#fb9f3a"
             ],
             [
              0.8888888888888888,
              "#fdca26"
             ],
             [
              1,
              "#f0f921"
             ]
            ],
            "type": "heatmap"
           }
          ],
          "heatmapgl": [
           {
            "colorbar": {
             "outlinewidth": 0,
             "ticks": ""
            },
            "colorscale": [
             [
              0,
              "#0d0887"
             ],
             [
              0.1111111111111111,
              "#46039f"
             ],
             [
              0.2222222222222222,
              "#7201a8"
             ],
             [
              0.3333333333333333,
              "#9c179e"
             ],
             [
              0.4444444444444444,
              "#bd3786"
             ],
             [
              0.5555555555555556,
              "#d8576b"
             ],
             [
              0.6666666666666666,
              "#ed7953"
             ],
             [
              0.7777777777777778,
              "#fb9f3a"
             ],
             [
              0.8888888888888888,
              "#fdca26"
             ],
             [
              1,
              "#f0f921"
             ]
            ],
            "type": "heatmapgl"
           }
          ],
          "histogram": [
           {
            "marker": {
             "pattern": {
              "fillmode": "overlay",
              "size": 10,
              "solidity": 0.2
             }
            },
            "type": "histogram"
           }
          ],
          "histogram2d": [
           {
            "colorbar": {
             "outlinewidth": 0,
             "ticks": ""
            },
            "colorscale": [
             [
              0,
              "#0d0887"
             ],
             [
              0.1111111111111111,
              "#46039f"
             ],
             [
              0.2222222222222222,
              "#7201a8"
             ],
             [
              0.3333333333333333,
              "#9c179e"
             ],
             [
              0.4444444444444444,
              "#bd3786"
             ],
             [
              0.5555555555555556,
              "#d8576b"
             ],
             [
              0.6666666666666666,
              "#ed7953"
             ],
             [
              0.7777777777777778,
              "#fb9f3a"
             ],
             [
              0.8888888888888888,
              "#fdca26"
             ],
             [
              1,
              "#f0f921"
             ]
            ],
            "type": "histogram2d"
           }
          ],
          "histogram2dcontour": [
           {
            "colorbar": {
             "outlinewidth": 0,
             "ticks": ""
            },
            "colorscale": [
             [
              0,
              "#0d0887"
             ],
             [
              0.1111111111111111,
              "#46039f"
             ],
             [
              0.2222222222222222,
              "#7201a8"
             ],
             [
              0.3333333333333333,
              "#9c179e"
             ],
             [
              0.4444444444444444,
              "#bd3786"
             ],
             [
              0.5555555555555556,
              "#d8576b"
             ],
             [
              0.6666666666666666,
              "#ed7953"
             ],
             [
              0.7777777777777778,
              "#fb9f3a"
             ],
             [
              0.8888888888888888,
              "#fdca26"
             ],
             [
              1,
              "#f0f921"
             ]
            ],
            "type": "histogram2dcontour"
           }
          ],
          "mesh3d": [
           {
            "colorbar": {
             "outlinewidth": 0,
             "ticks": ""
            },
            "type": "mesh3d"
           }
          ],
          "parcoords": [
           {
            "line": {
             "colorbar": {
              "outlinewidth": 0,
              "ticks": ""
             }
            },
            "type": "parcoords"
           }
          ],
          "pie": [
           {
            "automargin": true,
            "type": "pie"
           }
          ],
          "scatter": [
           {
            "fillpattern": {
             "fillmode": "overlay",
             "size": 10,
             "solidity": 0.2
            },
            "type": "scatter"
           }
          ],
          "scatter3d": [
           {
            "line": {
             "colorbar": {
              "outlinewidth": 0,
              "ticks": ""
             }
            },
            "marker": {
             "colorbar": {
              "outlinewidth": 0,
              "ticks": ""
             }
            },
            "type": "scatter3d"
           }
          ],
          "scattercarpet": [
           {
            "marker": {
             "colorbar": {
              "outlinewidth": 0,
              "ticks": ""
             }
            },
            "type": "scattercarpet"
           }
          ],
          "scattergeo": [
           {
            "marker": {
             "colorbar": {
              "outlinewidth": 0,
              "ticks": ""
             }
            },
            "type": "scattergeo"
           }
          ],
          "scattergl": [
           {
            "marker": {
             "colorbar": {
              "outlinewidth": 0,
              "ticks": ""
             }
            },
            "type": "scattergl"
           }
          ],
          "scattermapbox": [
           {
            "marker": {
             "colorbar": {
              "outlinewidth": 0,
              "ticks": ""
             }
            },
            "type": "scattermapbox"
           }
          ],
          "scatterpolar": [
           {
            "marker": {
             "colorbar": {
              "outlinewidth": 0,
              "ticks": ""
             }
            },
            "type": "scatterpolar"
           }
          ],
          "scatterpolargl": [
           {
            "marker": {
             "colorbar": {
              "outlinewidth": 0,
              "ticks": ""
             }
            },
            "type": "scatterpolargl"
           }
          ],
          "scatterternary": [
           {
            "marker": {
             "colorbar": {
              "outlinewidth": 0,
              "ticks": ""
             }
            },
            "type": "scatterternary"
           }
          ],
          "surface": [
           {
            "colorbar": {
             "outlinewidth": 0,
             "ticks": ""
            },
            "colorscale": [
             [
              0,
              "#0d0887"
             ],
             [
              0.1111111111111111,
              "#46039f"
             ],
             [
              0.2222222222222222,
              "#7201a8"
             ],
             [
              0.3333333333333333,
              "#9c179e"
             ],
             [
              0.4444444444444444,
              "#bd3786"
             ],
             [
              0.5555555555555556,
              "#d8576b"
             ],
             [
              0.6666666666666666,
              "#ed7953"
             ],
             [
              0.7777777777777778,
              "#fb9f3a"
             ],
             [
              0.8888888888888888,
              "#fdca26"
             ],
             [
              1,
              "#f0f921"
             ]
            ],
            "type": "surface"
           }
          ],
          "table": [
           {
            "cells": {
             "fill": {
              "color": "#EBF0F8"
             },
             "line": {
              "color": "white"
             }
            },
            "header": {
             "fill": {
              "color": "#C8D4E3"
             },
             "line": {
              "color": "white"
             }
            },
            "type": "table"
           }
          ]
         },
         "layout": {
          "annotationdefaults": {
           "arrowcolor": "#2a3f5f",
           "arrowhead": 0,
           "arrowwidth": 1
          },
          "autotypenumbers": "strict",
          "coloraxis": {
           "colorbar": {
            "outlinewidth": 0,
            "ticks": ""
           }
          },
          "colorscale": {
           "diverging": [
            [
             0,
             "#8e0152"
            ],
            [
             0.1,
             "#c51b7d"
            ],
            [
             0.2,
             "#de77ae"
            ],
            [
             0.3,
             "#f1b6da"
            ],
            [
             0.4,
             "#fde0ef"
            ],
            [
             0.5,
             "#f7f7f7"
            ],
            [
             0.6,
             "#e6f5d0"
            ],
            [
             0.7,
             "#b8e186"
            ],
            [
             0.8,
             "#7fbc41"
            ],
            [
             0.9,
             "#4d9221"
            ],
            [
             1,
             "#276419"
            ]
           ],
           "sequential": [
            [
             0,
             "#0d0887"
            ],
            [
             0.1111111111111111,
             "#46039f"
            ],
            [
             0.2222222222222222,
             "#7201a8"
            ],
            [
             0.3333333333333333,
             "#9c179e"
            ],
            [
             0.4444444444444444,
             "#bd3786"
            ],
            [
             0.5555555555555556,
             "#d8576b"
            ],
            [
             0.6666666666666666,
             "#ed7953"
            ],
            [
             0.7777777777777778,
             "#fb9f3a"
            ],
            [
             0.8888888888888888,
             "#fdca26"
            ],
            [
             1,
             "#f0f921"
            ]
           ],
           "sequentialminus": [
            [
             0,
             "#0d0887"
            ],
            [
             0.1111111111111111,
             "#46039f"
            ],
            [
             0.2222222222222222,
             "#7201a8"
            ],
            [
             0.3333333333333333,
             "#9c179e"
            ],
            [
             0.4444444444444444,
             "#bd3786"
            ],
            [
             0.5555555555555556,
             "#d8576b"
            ],
            [
             0.6666666666666666,
             "#ed7953"
            ],
            [
             0.7777777777777778,
             "#fb9f3a"
            ],
            [
             0.8888888888888888,
             "#fdca26"
            ],
            [
             1,
             "#f0f921"
            ]
           ]
          },
          "colorway": [
           "#636efa",
           "#EF553B",
           "#00cc96",
           "#ab63fa",
           "#FFA15A",
           "#19d3f3",
           "#FF6692",
           "#B6E880",
           "#FF97FF",
           "#FECB52"
          ],
          "font": {
           "color": "#2a3f5f"
          },
          "geo": {
           "bgcolor": "white",
           "lakecolor": "white",
           "landcolor": "#E5ECF6",
           "showlakes": true,
           "showland": true,
           "subunitcolor": "white"
          },
          "hoverlabel": {
           "align": "left"
          },
          "hovermode": "closest",
          "mapbox": {
           "style": "light"
          },
          "paper_bgcolor": "white",
          "plot_bgcolor": "#E5ECF6",
          "polar": {
           "angularaxis": {
            "gridcolor": "white",
            "linecolor": "white",
            "ticks": ""
           },
           "bgcolor": "#E5ECF6",
           "radialaxis": {
            "gridcolor": "white",
            "linecolor": "white",
            "ticks": ""
           }
          },
          "scene": {
           "xaxis": {
            "backgroundcolor": "#E5ECF6",
            "gridcolor": "white",
            "gridwidth": 2,
            "linecolor": "white",
            "showbackground": true,
            "ticks": "",
            "zerolinecolor": "white"
           },
           "yaxis": {
            "backgroundcolor": "#E5ECF6",
            "gridcolor": "white",
            "gridwidth": 2,
            "linecolor": "white",
            "showbackground": true,
            "ticks": "",
            "zerolinecolor": "white"
           },
           "zaxis": {
            "backgroundcolor": "#E5ECF6",
            "gridcolor": "white",
            "gridwidth": 2,
            "linecolor": "white",
            "showbackground": true,
            "ticks": "",
            "zerolinecolor": "white"
           }
          },
          "shapedefaults": {
           "line": {
            "color": "#2a3f5f"
           }
          },
          "ternary": {
           "aaxis": {
            "gridcolor": "white",
            "linecolor": "white",
            "ticks": ""
           },
           "baxis": {
            "gridcolor": "white",
            "linecolor": "white",
            "ticks": ""
           },
           "bgcolor": "#E5ECF6",
           "caxis": {
            "gridcolor": "white",
            "linecolor": "white",
            "ticks": ""
           }
          },
          "title": {
           "x": 0.05
          },
          "xaxis": {
           "automargin": true,
           "gridcolor": "white",
           "linecolor": "white",
           "ticks": "",
           "title": {
            "standoff": 15
           },
           "zerolinecolor": "white",
           "zerolinewidth": 2
          },
          "yaxis": {
           "automargin": true,
           "gridcolor": "white",
           "linecolor": "white",
           "ticks": "",
           "title": {
            "standoff": 15
           },
           "zerolinecolor": "white",
           "zerolinewidth": 2
          }
         }
        },
        "title": {
         "text": "Logarithmic Boxplots for Pitcher Metrics"
        },
        "width": 800,
        "yaxis": {
         "title": {
          "text": "Logarithmic Value"
         }
        }
       }
      }
     },
     "metadata": {},
     "output_type": "display_data"
    }
   ],
   "source": [
    "import plotly.graph_objects as go\n",
    "import numpy as np\n",
    "\n",
    "# Apply logarithmic transformation to the columns, handling non-positive values\n",
    "avg_pitcher['log_start_speed'] = np.log(avg_pitcher['start_speed'].replace(0, np.nan))\n",
    "avg_pitcher['log_break_angle'] = np.log(avg_pitcher['break_angle'].replace(0, np.nan))\n",
    "avg_pitcher['log_break_length'] = np.log(avg_pitcher['break_length'].replace(0, np.nan))\n",
    "avg_pitcher['log_spin_rate'] = np.log(avg_pitcher['spin_rate'].replace(0, np.nan))\n",
    "\n",
    "# Create the box plots for the log-transformed values\n",
    "fig = go.Figure()\n",
    "\n",
    "# Boxplot for Logarithmic Start Speed\n",
    "fig.add_trace(go.Box(y=avg_pitcher['log_start_speed'], name='Log Start Speed'))\n",
    "\n",
    "# Boxplot for Logarithmic Break Angle\n",
    "fig.add_trace(go.Box(y=avg_pitcher['log_break_angle'], name='Log Break Angle'))\n",
    "\n",
    "# Boxplot for Logarithmic Break Length\n",
    "fig.add_trace(go.Box(y=avg_pitcher['log_break_length'], name='Log Break Length'))\n",
    "\n",
    "# Boxplot for Logarithmic Spin Rate\n",
    "fig.add_trace(go.Box(y=avg_pitcher['log_spin_rate'], name='Log Spin Rate'))\n",
    "\n",
    "# Update layout\n",
    "fig.update_layout(\n",
    "    title=\"Logarithmic Boxplots for Pitcher Metrics\", \n",
    "    yaxis_title=\"Logarithmic Value\",\n",
    "    boxmode='group',  # Group the box plots\n",
    "    width=800, \n",
    "    height=600\n",
    ")\n",
    "\n",
    "# Show the plot\n",
    "fig.show()\n"
   ]
  },
  {
   "cell_type": "markdown",
   "metadata": {},
   "source": []
  },
  {
   "cell_type": "code",
   "execution_count": 195,
   "metadata": {},
   "outputs": [
    {
     "data": {
      "text/plain": [
       "Index(['uid', 'game_pk', 'team_id_b', 'team_id_p', 'inning', 'top',\n",
       "       'at_bat_num', 'pcount_at_bat', 'pcount_pitcher', 'balls', 'strikes',\n",
       "       'fouls', 'outs', 'is_final_pitch', 'final_balls', 'final_strikes',\n",
       "       'final_outs', 'batter_id', 'stand', 'b_height', 'pitcher_id',\n",
       "       'p_throws', 'at_bat_des', 'event', 'event2', 'event3', 'event4',\n",
       "       'away_team_runs', 'home_team_runs', 'score', 'pitch_des', 'pitch_id',\n",
       "       'type', 'pitch_tfs_zulu', 'x', 'y', 'sv_id', 'start_speed_x',\n",
       "       'end_speed', 'sz_top', 'sz_bot', 'pfx_x', 'pfx_z', 'px', 'pz', 'x0',\n",
       "       'z0', 'y0', 'vx0', 'vz0', 'vy0', 'ax', 'az', 'ay', 'break_length_x',\n",
       "       'break_y', 'break_angle_x', 'pitch_type', 'type_confidence', 'zone',\n",
       "       'nasty', 'spin_dir', 'spin_rate_x', 'on_1b', 'on_2b', 'on_3b',\n",
       "       'start_speed_average_pitcher', 'break_angle_average_pitcher',\n",
       "       'break_length_average_pitcher', 'spin_rate_average_pitcher', 'cluster',\n",
       "       'start_speed_tier', 'break_angle_tier', 'break_length_tier',\n",
       "       'spin_rate_tier'],\n",
       "      dtype='object')"
      ]
     },
     "execution_count": 195,
     "metadata": {},
     "output_type": "execute_result"
    }
   ],
   "source": [
    "df2.columns"
   ]
  },
  {
   "cell_type": "markdown",
   "metadata": {},
   "source": [
    "square transf on Left skewed: start_speed_average_pitcher, break_angle_average_pitcher\n",
    "log transformation on right skewed: break_length_average_pitcher,  spin_rate_average_pitcher"
   ]
  },
  {
   "cell_type": "code",
   "execution_count": 197,
   "metadata": {},
   "outputs": [
    {
     "data": {
      "image/png": "[encoded data removed]",
      "text/plain": [
       "<Figure size 1440x1440 with 6 Axes>"
      ]
     },
     "metadata": {
      "needs_background": "light"
     },
     "output_type": "display_data"
    }
   ],
   "source": [
    "from matplotlib import pyplot\n",
    "df2.loc[:,['start_speed_average_pitcher', 'break_angle_average_pitcher',\n",
    "       'break_length_average_pitcher', 'spin_rate_average_pitcher']].hist(figsize=(20, 20))  # You can modify the (12, 10) to any size that fits your needs\n",
    "pyplot.show()"
   ]
  },
  {
   "cell_type": "code",
   "execution_count": 284,
   "metadata": {},
   "outputs": [
    {
     "data": {
      "text/html": [
       "<div>\n",
       "<style scoped>\n",
       "    .dataframe tbody tr th:only-of-type {\n",
       "        vertical-align: middle;\n",
       "    }\n",
       "\n",
       "    .dataframe tbody tr th {\n",
       "        vertical-align: top;\n",
       "    }\n",
       "\n",
       "    .dataframe thead th {\n",
       "        text-align: right;\n",
       "    }\n",
       "</style>\n",
       "<table border=\"1\" class=\"dataframe\">\n",
       "  <thead>\n",
       "    <tr style=\"text-align: right;\">\n",
       "      <th></th>\n",
       "      <th>start_speed_average_pitcher</th>\n",
       "      <th>break_angle_average_pitcher</th>\n",
       "      <th>break_length_average_pitcher</th>\n",
       "      <th>spin_rate_average_pitcher</th>\n",
       "    </tr>\n",
       "  </thead>\n",
       "  <tbody>\n",
       "    <tr>\n",
       "      <th>0</th>\n",
       "      <td>7877.726599</td>\n",
       "      <td>673.677854</td>\n",
       "      <td>1.708992</td>\n",
       "      <td>7.690182</td>\n",
       "    </tr>\n",
       "    <tr>\n",
       "      <th>1</th>\n",
       "      <td>7877.726599</td>\n",
       "      <td>673.677854</td>\n",
       "      <td>1.708992</td>\n",
       "      <td>7.690182</td>\n",
       "    </tr>\n",
       "    <tr>\n",
       "      <th>2</th>\n",
       "      <td>7877.726599</td>\n",
       "      <td>673.677854</td>\n",
       "      <td>1.708992</td>\n",
       "      <td>7.690182</td>\n",
       "    </tr>\n",
       "    <tr>\n",
       "      <th>3</th>\n",
       "      <td>7877.726599</td>\n",
       "      <td>673.677854</td>\n",
       "      <td>1.708992</td>\n",
       "      <td>7.690182</td>\n",
       "    </tr>\n",
       "    <tr>\n",
       "      <th>4</th>\n",
       "      <td>7877.726599</td>\n",
       "      <td>673.677854</td>\n",
       "      <td>1.708992</td>\n",
       "      <td>7.690182</td>\n",
       "    </tr>\n",
       "    <tr>\n",
       "      <th>...</th>\n",
       "      <td>...</td>\n",
       "      <td>...</td>\n",
       "      <td>...</td>\n",
       "      <td>...</td>\n",
       "    </tr>\n",
       "    <tr>\n",
       "      <th>210625</th>\n",
       "      <td>5772.200625</td>\n",
       "      <td>294.122500</td>\n",
       "      <td>2.256541</td>\n",
       "      <td>7.053371</td>\n",
       "    </tr>\n",
       "    <tr>\n",
       "      <th>210626</th>\n",
       "      <td>5772.200625</td>\n",
       "      <td>294.122500</td>\n",
       "      <td>2.256541</td>\n",
       "      <td>7.053371</td>\n",
       "    </tr>\n",
       "    <tr>\n",
       "      <th>210627</th>\n",
       "      <td>5772.200625</td>\n",
       "      <td>294.122500</td>\n",
       "      <td>2.256541</td>\n",
       "      <td>7.053371</td>\n",
       "    </tr>\n",
       "    <tr>\n",
       "      <th>210628</th>\n",
       "      <td>8262.810000</td>\n",
       "      <td>571.210000</td>\n",
       "      <td>1.504077</td>\n",
       "      <td>7.600454</td>\n",
       "    </tr>\n",
       "    <tr>\n",
       "      <th>210629</th>\n",
       "      <td>7849.960000</td>\n",
       "      <td>466.560000</td>\n",
       "      <td>1.547563</td>\n",
       "      <td>7.528070</td>\n",
       "    </tr>\n",
       "  </tbody>\n",
       "</table>\n",
       "<p>210630 rows × 4 columns</p>\n",
       "</div>"
      ],
      "text/plain": [
       "        start_speed_average_pitcher  break_angle_average_pitcher  \\\n",
       "0                       7877.726599                   673.677854   \n",
       "1                       7877.726599                   673.677854   \n",
       "2                       7877.726599                   673.677854   \n",
       "3                       7877.726599                   673.677854   \n",
       "4                       7877.726599                   673.677854   \n",
       "...                             ...                          ...   \n",
       "210625                  5772.200625                   294.122500   \n",
       "210626                  5772.200625                   294.122500   \n",
       "210627                  5772.200625                   294.122500   \n",
       "210628                  8262.810000                   571.210000   \n",
       "210629                  7849.960000                   466.560000   \n",
       "\n",
       "        break_length_average_pitcher  spin_rate_average_pitcher  \n",
       "0                           1.708992                   7.690182  \n",
       "1                           1.708992                   7.690182  \n",
       "2                           1.708992                   7.690182  \n",
       "3                           1.708992                   7.690182  \n",
       "4                           1.708992                   7.690182  \n",
       "...                              ...                        ...  \n",
       "210625                      2.256541                   7.053371  \n",
       "210626                      2.256541                   7.053371  \n",
       "210627                      2.256541                   7.053371  \n",
       "210628                      1.504077                   7.600454  \n",
       "210629                      1.547563                   7.528070  \n",
       "\n",
       "[210630 rows x 4 columns]"
      ]
     },
     "execution_count": 284,
     "metadata": {},
     "output_type": "execute_result"
    }
   ],
   "source": [
    "import numpy as np\n",
    "\n",
    "# Apply square transformation to left-skewed data and replace the original columns\n",
    "df2['start_speed_average_pitcher'] = np.square(df2['start_speed_average_pitcher'])\n",
    "df2['break_angle_average_pitcher'] = np.square(df2['break_angle_average_pitcher'])\n",
    "\n",
    "# Apply log transformation to right-skewed data and replace the original columns\n",
    "# Handling non-positive values by replacing them with NaN\n",
    "df2['break_length_average_pitcher'] = np.log(df2['break_length_average_pitcher'].replace(0, np.nan))\n",
    "df2['spin_rate_average_pitcher'] = np.log(df2['spin_rate_average_pitcher'].replace(0, np.nan))\n",
    "\n",
    "# Display the updated DataFrame\n",
    "df2[['start_speed_average_pitcher', 'break_angle_average_pitcher', \n",
    "     'break_length_average_pitcher', 'spin_rate_average_pitcher']]\n"
   ]
  },
  {
   "cell_type": "markdown",
   "metadata": {},
   "source": [
    "Let's create categorical variables based on the average of these 5 variables, from very low to very high tier"
   ]
  },
  {
   "cell_type": "code",
   "execution_count": 285,
   "metadata": {},
   "outputs": [
    {
     "data": {
      "text/html": [
       "<div>\n",
       "<style scoped>\n",
       "    .dataframe tbody tr th:only-of-type {\n",
       "        vertical-align: middle;\n",
       "    }\n",
       "\n",
       "    .dataframe tbody tr th {\n",
       "        vertical-align: top;\n",
       "    }\n",
       "\n",
       "    .dataframe thead th {\n",
       "        text-align: right;\n",
       "    }\n",
       "</style>\n",
       "<table border=\"1\" class=\"dataframe\">\n",
       "  <thead>\n",
       "    <tr style=\"text-align: right;\">\n",
       "      <th></th>\n",
       "      <th>start_speed_average_pitcher</th>\n",
       "      <th>start_speed_tier</th>\n",
       "      <th>break_angle_average_pitcher</th>\n",
       "      <th>break_angle_tier</th>\n",
       "      <th>break_length_average_pitcher</th>\n",
       "      <th>break_length_tier</th>\n",
       "      <th>spin_rate_average_pitcher</th>\n",
       "      <th>spin_rate_tier</th>\n",
       "    </tr>\n",
       "  </thead>\n",
       "  <tbody>\n",
       "    <tr>\n",
       "      <th>0</th>\n",
       "      <td>7877.726599</td>\n",
       "      <td>Average</td>\n",
       "      <td>673.677854</td>\n",
       "      <td>High</td>\n",
       "      <td>1.708992</td>\n",
       "      <td>Low</td>\n",
       "      <td>7.690182</td>\n",
       "      <td>High</td>\n",
       "    </tr>\n",
       "    <tr>\n",
       "      <th>1</th>\n",
       "      <td>7877.726599</td>\n",
       "      <td>Average</td>\n",
       "      <td>673.677854</td>\n",
       "      <td>High</td>\n",
       "      <td>1.708992</td>\n",
       "      <td>Low</td>\n",
       "      <td>7.690182</td>\n",
       "      <td>High</td>\n",
       "    </tr>\n",
       "    <tr>\n",
       "      <th>2</th>\n",
       "      <td>7877.726599</td>\n",
       "      <td>Average</td>\n",
       "      <td>673.677854</td>\n",
       "      <td>High</td>\n",
       "      <td>1.708992</td>\n",
       "      <td>Low</td>\n",
       "      <td>7.690182</td>\n",
       "      <td>High</td>\n",
       "    </tr>\n",
       "    <tr>\n",
       "      <th>3</th>\n",
       "      <td>7877.726599</td>\n",
       "      <td>Average</td>\n",
       "      <td>673.677854</td>\n",
       "      <td>High</td>\n",
       "      <td>1.708992</td>\n",
       "      <td>Low</td>\n",
       "      <td>7.690182</td>\n",
       "      <td>High</td>\n",
       "    </tr>\n",
       "    <tr>\n",
       "      <th>4</th>\n",
       "      <td>7877.726599</td>\n",
       "      <td>Average</td>\n",
       "      <td>673.677854</td>\n",
       "      <td>High</td>\n",
       "      <td>1.708992</td>\n",
       "      <td>Low</td>\n",
       "      <td>7.690182</td>\n",
       "      <td>High</td>\n",
       "    </tr>\n",
       "    <tr>\n",
       "      <th>...</th>\n",
       "      <td>...</td>\n",
       "      <td>...</td>\n",
       "      <td>...</td>\n",
       "      <td>...</td>\n",
       "      <td>...</td>\n",
       "      <td>...</td>\n",
       "      <td>...</td>\n",
       "      <td>...</td>\n",
       "    </tr>\n",
       "    <tr>\n",
       "      <th>210625</th>\n",
       "      <td>5772.200625</td>\n",
       "      <td>Very Low</td>\n",
       "      <td>294.122500</td>\n",
       "      <td>Average</td>\n",
       "      <td>2.256541</td>\n",
       "      <td>Very High</td>\n",
       "      <td>7.053371</td>\n",
       "      <td>Very Low</td>\n",
       "    </tr>\n",
       "    <tr>\n",
       "      <th>210626</th>\n",
       "      <td>5772.200625</td>\n",
       "      <td>Very Low</td>\n",
       "      <td>294.122500</td>\n",
       "      <td>Average</td>\n",
       "      <td>2.256541</td>\n",
       "      <td>Very High</td>\n",
       "      <td>7.053371</td>\n",
       "      <td>Very Low</td>\n",
       "    </tr>\n",
       "    <tr>\n",
       "      <th>210627</th>\n",
       "      <td>5772.200625</td>\n",
       "      <td>Very Low</td>\n",
       "      <td>294.122500</td>\n",
       "      <td>Average</td>\n",
       "      <td>2.256541</td>\n",
       "      <td>Very High</td>\n",
       "      <td>7.053371</td>\n",
       "      <td>Very Low</td>\n",
       "    </tr>\n",
       "    <tr>\n",
       "      <th>210628</th>\n",
       "      <td>8262.810000</td>\n",
       "      <td>High</td>\n",
       "      <td>571.210000</td>\n",
       "      <td>High</td>\n",
       "      <td>1.504077</td>\n",
       "      <td>Low</td>\n",
       "      <td>7.600454</td>\n",
       "      <td>High</td>\n",
       "    </tr>\n",
       "    <tr>\n",
       "      <th>210629</th>\n",
       "      <td>7849.960000</td>\n",
       "      <td>Average</td>\n",
       "      <td>466.560000</td>\n",
       "      <td>Average</td>\n",
       "      <td>1.547563</td>\n",
       "      <td>Low</td>\n",
       "      <td>7.528070</td>\n",
       "      <td>Average</td>\n",
       "    </tr>\n",
       "  </tbody>\n",
       "</table>\n",
       "<p>210630 rows × 8 columns</p>\n",
       "</div>"
      ],
      "text/plain": [
       "        start_speed_average_pitcher start_speed_tier  \\\n",
       "0                       7877.726599          Average   \n",
       "1                       7877.726599          Average   \n",
       "2                       7877.726599          Average   \n",
       "3                       7877.726599          Average   \n",
       "4                       7877.726599          Average   \n",
       "...                             ...              ...   \n",
       "210625                  5772.200625         Very Low   \n",
       "210626                  5772.200625         Very Low   \n",
       "210627                  5772.200625         Very Low   \n",
       "210628                  8262.810000             High   \n",
       "210629                  7849.960000          Average   \n",
       "\n",
       "        break_angle_average_pitcher break_angle_tier  \\\n",
       "0                        673.677854             High   \n",
       "1                        673.677854             High   \n",
       "2                        673.677854             High   \n",
       "3                        673.677854             High   \n",
       "4                        673.677854             High   \n",
       "...                             ...              ...   \n",
       "210625                   294.122500          Average   \n",
       "210626                   294.122500          Average   \n",
       "210627                   294.122500          Average   \n",
       "210628                   571.210000             High   \n",
       "210629                   466.560000          Average   \n",
       "\n",
       "        break_length_average_pitcher break_length_tier  \\\n",
       "0                           1.708992               Low   \n",
       "1                           1.708992               Low   \n",
       "2                           1.708992               Low   \n",
       "3                           1.708992               Low   \n",
       "4                           1.708992               Low   \n",
       "...                              ...               ...   \n",
       "210625                      2.256541         Very High   \n",
       "210626                      2.256541         Very High   \n",
       "210627                      2.256541         Very High   \n",
       "210628                      1.504077               Low   \n",
       "210629                      1.547563               Low   \n",
       "\n",
       "        spin_rate_average_pitcher spin_rate_tier  \n",
       "0                        7.690182           High  \n",
       "1                        7.690182           High  \n",
       "2                        7.690182           High  \n",
       "3                        7.690182           High  \n",
       "4                        7.690182           High  \n",
       "...                           ...            ...  \n",
       "210625                   7.053371       Very Low  \n",
       "210626                   7.053371       Very Low  \n",
       "210627                   7.053371       Very Low  \n",
       "210628                   7.600454           High  \n",
       "210629                   7.528070        Average  \n",
       "\n",
       "[210630 rows x 8 columns]"
      ]
     },
     "execution_count": 285,
     "metadata": {},
     "output_type": "execute_result"
    }
   ],
   "source": [
    "import pandas as pd\n",
    "\n",
    "# Function to calculate the boxplot-based tiers\n",
    "def categorize_boxplot_tiers(series):\n",
    "    # Calculate Q1, Q3, and IQR\n",
    "    Q1 = series.quantile(0.25)\n",
    "    Q3 = series.quantile(0.75)\n",
    "    IQR = Q3 - Q1\n",
    "\n",
    "    # Define lower and upper fences\n",
    "    lower_fence = Q1 - 1.5 * IQR\n",
    "    upper_fence = Q3 + 1.5 * IQR\n",
    "\n",
    "    # Apply categorization based on the defined ranges\n",
    "    conditions = [\n",
    "        (series < lower_fence),                       # Very Low\n",
    "        (series >= lower_fence) & (series < Q1),      # Low\n",
    "        (series >= Q1) & (series <= Q3),              # Average\n",
    "        (series > Q3) & (series <= upper_fence),      # High\n",
    "        (series > upper_fence)                        # Very High\n",
    "    ]\n",
    "\n",
    "    # Tier labels\n",
    "    tier_labels = ['Very Low', 'Low', 'Average', 'High', 'Very High']\n",
    "\n",
    "    # Return categorized data\n",
    "    return pd.cut(series, bins=[-float('inf'), lower_fence, Q1, Q3, upper_fence, float('inf')], labels=tier_labels)\n",
    "\n",
    "# Apply the categorization to each of the relevant columns\n",
    "df2['start_speed_tier'] = categorize_boxplot_tiers(df2['start_speed_average_pitcher'])\n",
    "df2['break_angle_tier'] = categorize_boxplot_tiers(df2['break_angle_average_pitcher'])\n",
    "df2['break_length_tier'] = categorize_boxplot_tiers(df2['break_length_average_pitcher'])\n",
    "df2['spin_rate_tier'] = categorize_boxplot_tiers(df2['spin_rate_average_pitcher'])\n",
    "\n",
    "# Display the updated DataFrame with the new tier columns\n",
    "df2[['start_speed_average_pitcher', 'start_speed_tier',\n",
    "     'break_angle_average_pitcher', 'break_angle_tier',\n",
    "     'break_length_average_pitcher', 'break_length_tier',\n",
    "     'spin_rate_average_pitcher', 'spin_rate_tier']]\n"
   ]
  },
  {
   "cell_type": "code",
   "execution_count": 300,
   "metadata": {},
   "outputs": [
    {
     "data": {
      "text/plain": [
       "Very Low     73\n",
       "Low          73\n",
       "Average      73\n",
       "High         73\n",
       "Very High    73\n",
       "Name: spin_rate_tier, dtype: int64"
      ]
     },
     "execution_count": 300,
     "metadata": {},
     "output_type": "execute_result"
    }
   ],
   "source": [
    "# Downsample each tier to match the size of the smallest tier\n",
    "def downsample_tiers(df, tier_column):\n",
    "    # Determine the smallest tier size\n",
    "    min_tier_size = df[tier_column].value_counts().min()\n",
    "\n",
    "    # Group by the tier and downsample each tier to the size of the smallest tier\n",
    "    df_balanced = df.groupby(tier_column).apply(lambda x: resample(x, n_samples=min_tier_size, random_state=42)).reset_index(drop=True)\n",
    "    return df_balanced\n",
    "\n",
    "# Downsample each tier for the relevant columns\n",
    "df2_downsampled = downsample_tiers(df2, 'start_speed_tier')\n",
    "df2_downsampled = downsample_tiers(df2, 'break_angle_tier')\n",
    "df2_downsampled = downsample_tiers(df2, 'break_length_tier')\n",
    "df2_downsampled = downsample_tiers(df2, 'spin_rate_tier')\n",
    "\n",
    "# Display the updated DataFrame with the downsampled data\n",
    "df2_downsampled[['start_speed_average_pitcher', 'start_speed_tier',\n",
    "                 'break_angle_average_pitcher', 'break_angle_tier',\n",
    "                 'break_length_average_pitcher', 'break_length_tier',\n",
    "                 'spin_rate_average_pitcher', 'spin_rate_tier']]\n",
    "df2_downsampled.spin_rate_tier.value_counts()"
   ]
  },
  {
   "cell_type": "code",
   "execution_count": null,
   "metadata": {},
   "outputs": [],
   "source": []
  },
  {
   "cell_type": "markdown",
   "metadata": {},
   "source": [
    "# Model 1: Simple Model"
   ]
  },
  {
   "cell_type": "code",
   "execution_count": 156,
   "metadata": {},
   "outputs": [
    {
     "name": "stdout",
     "output_type": "stream",
     "text": [
      "Pickle file already exists at: /Users/gregorycrooks/Downloads/pitches_folder/pitches.pkl\n"
     ]
    }
   ],
   "source": [
    "import os\n",
    "import pickle\n",
    "import pandas as pd\n",
    "import numpy as np\n",
    "import seaborn as sns\n",
    "\n",
    "# Create a copy of the DataFrame\n",
    "#df_new = df.copy()\n",
    "\n",
    "# Define the pickle file path\n",
    "pickle_file = '/Users/gregorycrooks/Downloads/pitches_folder/pitches.pkl'\n",
    "\n",
    "# Check if the pickle file exists\n",
    "if os.path.exists(pickle_file):\n",
    "    print(\"Pickle file already exists at:\", pickle_file)\n",
    "    df = pd.read_pickle(pickle_file)\n",
    "else:\n",
    "    # Save the DataFrame to the pickle file if it doesn't exist\n",
    "    with open(pickle_file, 'wb') as file:\n",
    "        pickle.dump(df, file)\n",
    "    print(\"DataFrame saved to pickle file at:\", pickle_file)\n"
   ]
  },
  {
   "cell_type": "code",
   "execution_count": 287,
   "metadata": {},
   "outputs": [
    {
     "data": {
      "text/html": [
       "<div>\n",
       "<style scoped>\n",
       "    .dataframe tbody tr th:only-of-type {\n",
       "        vertical-align: middle;\n",
       "    }\n",
       "\n",
       "    .dataframe tbody tr th {\n",
       "        vertical-align: top;\n",
       "    }\n",
       "\n",
       "    .dataframe thead th {\n",
       "        text-align: right;\n",
       "    }\n",
       "</style>\n",
       "<table border=\"1\" class=\"dataframe\">\n",
       "  <thead>\n",
       "    <tr style=\"text-align: right;\">\n",
       "      <th></th>\n",
       "      <th>uid</th>\n",
       "      <th>game_pk</th>\n",
       "      <th>team_id_b</th>\n",
       "      <th>team_id_p</th>\n",
       "      <th>inning</th>\n",
       "      <th>top</th>\n",
       "      <th>at_bat_num</th>\n",
       "      <th>pcount_at_bat</th>\n",
       "      <th>pcount_pitcher</th>\n",
       "      <th>balls</th>\n",
       "      <th>...</th>\n",
       "      <th>spin_rate_average_pitcher</th>\n",
       "      <th>cluster</th>\n",
       "      <th>log_start_speed</th>\n",
       "      <th>log_break_angle</th>\n",
       "      <th>log_break_length</th>\n",
       "      <th>log_spin_rate</th>\n",
       "      <th>start_speed_tier</th>\n",
       "      <th>break_angle_tier</th>\n",
       "      <th>break_length_tier</th>\n",
       "      <th>spin_rate_tier</th>\n",
       "    </tr>\n",
       "  </thead>\n",
       "  <tbody>\n",
       "    <tr>\n",
       "      <th>0</th>\n",
       "      <td>15083145</td>\n",
       "      <td>287308</td>\n",
       "      <td>121</td>\n",
       "      <td>143</td>\n",
       "      <td>5</td>\n",
       "      <td>1</td>\n",
       "      <td>34</td>\n",
       "      <td>1</td>\n",
       "      <td>71</td>\n",
       "      <td>0</td>\n",
       "      <td>...</td>\n",
       "      <td>7.690182</td>\n",
       "      <td>3</td>\n",
       "      <td>4.485897</td>\n",
       "      <td>NaN</td>\n",
       "      <td>1.708992</td>\n",
       "      <td>7.690182</td>\n",
       "      <td>Average</td>\n",
       "      <td>High</td>\n",
       "      <td>Low</td>\n",
       "      <td>High</td>\n",
       "    </tr>\n",
       "    <tr>\n",
       "      <th>1</th>\n",
       "      <td>19534982</td>\n",
       "      <td>289210</td>\n",
       "      <td>120</td>\n",
       "      <td>143</td>\n",
       "      <td>4</td>\n",
       "      <td>1</td>\n",
       "      <td>22</td>\n",
       "      <td>1</td>\n",
       "      <td>47</td>\n",
       "      <td>0</td>\n",
       "      <td>...</td>\n",
       "      <td>7.690182</td>\n",
       "      <td>3</td>\n",
       "      <td>4.485897</td>\n",
       "      <td>NaN</td>\n",
       "      <td>1.708992</td>\n",
       "      <td>7.690182</td>\n",
       "      <td>Average</td>\n",
       "      <td>High</td>\n",
       "      <td>Low</td>\n",
       "      <td>High</td>\n",
       "    </tr>\n",
       "    <tr>\n",
       "      <th>2</th>\n",
       "      <td>19535078</td>\n",
       "      <td>289210</td>\n",
       "      <td>120</td>\n",
       "      <td>143</td>\n",
       "      <td>7</td>\n",
       "      <td>1</td>\n",
       "      <td>51</td>\n",
       "      <td>2</td>\n",
       "      <td>118</td>\n",
       "      <td>1</td>\n",
       "      <td>...</td>\n",
       "      <td>7.690182</td>\n",
       "      <td>3</td>\n",
       "      <td>4.485897</td>\n",
       "      <td>NaN</td>\n",
       "      <td>1.708992</td>\n",
       "      <td>7.690182</td>\n",
       "      <td>Average</td>\n",
       "      <td>High</td>\n",
       "      <td>Low</td>\n",
       "      <td>High</td>\n",
       "    </tr>\n",
       "    <tr>\n",
       "      <th>3</th>\n",
       "      <td>18866380</td>\n",
       "      <td>288937</td>\n",
       "      <td>113</td>\n",
       "      <td>143</td>\n",
       "      <td>5</td>\n",
       "      <td>0</td>\n",
       "      <td>39</td>\n",
       "      <td>3</td>\n",
       "      <td>60</td>\n",
       "      <td>0</td>\n",
       "      <td>...</td>\n",
       "      <td>7.690182</td>\n",
       "      <td>3</td>\n",
       "      <td>4.485897</td>\n",
       "      <td>NaN</td>\n",
       "      <td>1.708992</td>\n",
       "      <td>7.690182</td>\n",
       "      <td>Average</td>\n",
       "      <td>High</td>\n",
       "      <td>Low</td>\n",
       "      <td>High</td>\n",
       "    </tr>\n",
       "    <tr>\n",
       "      <th>4</th>\n",
       "      <td>16901171</td>\n",
       "      <td>288088</td>\n",
       "      <td>111</td>\n",
       "      <td>143</td>\n",
       "      <td>1</td>\n",
       "      <td>1</td>\n",
       "      <td>2</td>\n",
       "      <td>1</td>\n",
       "      <td>3</td>\n",
       "      <td>0</td>\n",
       "      <td>...</td>\n",
       "      <td>7.690182</td>\n",
       "      <td>3</td>\n",
       "      <td>4.485897</td>\n",
       "      <td>NaN</td>\n",
       "      <td>1.708992</td>\n",
       "      <td>7.690182</td>\n",
       "      <td>Average</td>\n",
       "      <td>High</td>\n",
       "      <td>Low</td>\n",
       "      <td>High</td>\n",
       "    </tr>\n",
       "    <tr>\n",
       "      <th>...</th>\n",
       "      <td>...</td>\n",
       "      <td>...</td>\n",
       "      <td>...</td>\n",
       "      <td>...</td>\n",
       "      <td>...</td>\n",
       "      <td>...</td>\n",
       "      <td>...</td>\n",
       "      <td>...</td>\n",
       "      <td>...</td>\n",
       "      <td>...</td>\n",
       "      <td>...</td>\n",
       "      <td>...</td>\n",
       "      <td>...</td>\n",
       "      <td>...</td>\n",
       "      <td>...</td>\n",
       "      <td>...</td>\n",
       "      <td>...</td>\n",
       "      <td>...</td>\n",
       "      <td>...</td>\n",
       "      <td>...</td>\n",
       "      <td>...</td>\n",
       "    </tr>\n",
       "    <tr>\n",
       "      <th>210625</th>\n",
       "      <td>15839408</td>\n",
       "      <td>287638</td>\n",
       "      <td>137</td>\n",
       "      <td>146</td>\n",
       "      <td>8</td>\n",
       "      <td>0</td>\n",
       "      <td>65</td>\n",
       "      <td>1</td>\n",
       "      <td>1</td>\n",
       "      <td>0</td>\n",
       "      <td>...</td>\n",
       "      <td>7.053371</td>\n",
       "      <td>4</td>\n",
       "      <td>4.330404</td>\n",
       "      <td>2.841998</td>\n",
       "      <td>2.256541</td>\n",
       "      <td>7.053371</td>\n",
       "      <td>Very Low</td>\n",
       "      <td>Average</td>\n",
       "      <td>Very High</td>\n",
       "      <td>Very Low</td>\n",
       "    </tr>\n",
       "    <tr>\n",
       "      <th>210626</th>\n",
       "      <td>17845137</td>\n",
       "      <td>288496</td>\n",
       "      <td>144</td>\n",
       "      <td>146</td>\n",
       "      <td>8</td>\n",
       "      <td>0</td>\n",
       "      <td>63</td>\n",
       "      <td>4</td>\n",
       "      <td>4</td>\n",
       "      <td>1</td>\n",
       "      <td>...</td>\n",
       "      <td>7.053371</td>\n",
       "      <td>4</td>\n",
       "      <td>4.330404</td>\n",
       "      <td>2.841998</td>\n",
       "      <td>2.256541</td>\n",
       "      <td>7.053371</td>\n",
       "      <td>Very Low</td>\n",
       "      <td>Average</td>\n",
       "      <td>Very High</td>\n",
       "      <td>Very Low</td>\n",
       "    </tr>\n",
       "    <tr>\n",
       "      <th>210627</th>\n",
       "      <td>15839409</td>\n",
       "      <td>287638</td>\n",
       "      <td>137</td>\n",
       "      <td>146</td>\n",
       "      <td>8</td>\n",
       "      <td>0</td>\n",
       "      <td>65</td>\n",
       "      <td>2</td>\n",
       "      <td>2</td>\n",
       "      <td>1</td>\n",
       "      <td>...</td>\n",
       "      <td>7.053371</td>\n",
       "      <td>4</td>\n",
       "      <td>4.330404</td>\n",
       "      <td>2.841998</td>\n",
       "      <td>2.256541</td>\n",
       "      <td>7.053371</td>\n",
       "      <td>Very Low</td>\n",
       "      <td>Average</td>\n",
       "      <td>Very High</td>\n",
       "      <td>Very Low</td>\n",
       "    </tr>\n",
       "    <tr>\n",
       "      <th>210628</th>\n",
       "      <td>19502110</td>\n",
       "      <td>289198</td>\n",
       "      <td>110</td>\n",
       "      <td>111</td>\n",
       "      <td>9</td>\n",
       "      <td>1</td>\n",
       "      <td>80</td>\n",
       "      <td>2</td>\n",
       "      <td>2</td>\n",
       "      <td>0</td>\n",
       "      <td>...</td>\n",
       "      <td>7.600454</td>\n",
       "      <td>0</td>\n",
       "      <td>4.509760</td>\n",
       "      <td>3.173878</td>\n",
       "      <td>1.504077</td>\n",
       "      <td>7.600454</td>\n",
       "      <td>High</td>\n",
       "      <td>High</td>\n",
       "      <td>Low</td>\n",
       "      <td>High</td>\n",
       "    </tr>\n",
       "    <tr>\n",
       "      <th>210629</th>\n",
       "      <td>17541719</td>\n",
       "      <td>288365</td>\n",
       "      <td>135</td>\n",
       "      <td>146</td>\n",
       "      <td>9</td>\n",
       "      <td>1</td>\n",
       "      <td>88</td>\n",
       "      <td>4</td>\n",
       "      <td>18</td>\n",
       "      <td>2</td>\n",
       "      <td>...</td>\n",
       "      <td>7.528070</td>\n",
       "      <td>0</td>\n",
       "      <td>4.484132</td>\n",
       "      <td>3.072693</td>\n",
       "      <td>1.547563</td>\n",
       "      <td>7.528070</td>\n",
       "      <td>Average</td>\n",
       "      <td>Average</td>\n",
       "      <td>Low</td>\n",
       "      <td>Average</td>\n",
       "    </tr>\n",
       "  </tbody>\n",
       "</table>\n",
       "<p>210630 rows × 79 columns</p>\n",
       "</div>"
      ],
      "text/plain": [
       "             uid game_pk team_id_b team_id_p  inning  top  at_bat_num  \\\n",
       "0       15083145  287308       121       143       5    1          34   \n",
       "1       19534982  289210       120       143       4    1          22   \n",
       "2       19535078  289210       120       143       7    1          51   \n",
       "3       18866380  288937       113       143       5    0          39   \n",
       "4       16901171  288088       111       143       1    1           2   \n",
       "...          ...     ...       ...       ...     ...  ...         ...   \n",
       "210625  15839408  287638       137       146       8    0          65   \n",
       "210626  17845137  288496       144       146       8    0          63   \n",
       "210627  15839409  287638       137       146       8    0          65   \n",
       "210628  19502110  289198       110       111       9    1          80   \n",
       "210629  17541719  288365       135       146       9    1          88   \n",
       "\n",
       "        pcount_at_bat  pcount_pitcher  balls  ...  spin_rate_average_pitcher  \\\n",
       "0                   1              71      0  ...                   7.690182   \n",
       "1                   1              47      0  ...                   7.690182   \n",
       "2                   2             118      1  ...                   7.690182   \n",
       "3                   3              60      0  ...                   7.690182   \n",
       "4                   1               3      0  ...                   7.690182   \n",
       "...               ...             ...    ...  ...                        ...   \n",
       "210625              1               1      0  ...                   7.053371   \n",
       "210626              4               4      1  ...                   7.053371   \n",
       "210627              2               2      1  ...                   7.053371   \n",
       "210628              2               2      0  ...                   7.600454   \n",
       "210629              4              18      2  ...                   7.528070   \n",
       "\n",
       "        cluster  log_start_speed log_break_angle  log_break_length  \\\n",
       "0             3         4.485897             NaN          1.708992   \n",
       "1             3         4.485897             NaN          1.708992   \n",
       "2             3         4.485897             NaN          1.708992   \n",
       "3             3         4.485897             NaN          1.708992   \n",
       "4             3         4.485897             NaN          1.708992   \n",
       "...         ...              ...             ...               ...   \n",
       "210625        4         4.330404        2.841998          2.256541   \n",
       "210626        4         4.330404        2.841998          2.256541   \n",
       "210627        4         4.330404        2.841998          2.256541   \n",
       "210628        0         4.509760        3.173878          1.504077   \n",
       "210629        0         4.484132        3.072693          1.547563   \n",
       "\n",
       "        log_spin_rate  start_speed_tier break_angle_tier  break_length_tier  \\\n",
       "0            7.690182           Average             High                Low   \n",
       "1            7.690182           Average             High                Low   \n",
       "2            7.690182           Average             High                Low   \n",
       "3            7.690182           Average             High                Low   \n",
       "4            7.690182           Average             High                Low   \n",
       "...               ...               ...              ...                ...   \n",
       "210625       7.053371          Very Low          Average          Very High   \n",
       "210626       7.053371          Very Low          Average          Very High   \n",
       "210627       7.053371          Very Low          Average          Very High   \n",
       "210628       7.600454              High             High                Low   \n",
       "210629       7.528070           Average          Average                Low   \n",
       "\n",
       "        spin_rate_tier  \n",
       "0                 High  \n",
       "1                 High  \n",
       "2                 High  \n",
       "3                 High  \n",
       "4                 High  \n",
       "...                ...  \n",
       "210625        Very Low  \n",
       "210626        Very Low  \n",
       "210627        Very Low  \n",
       "210628            High  \n",
       "210629         Average  \n",
       "\n",
       "[210630 rows x 79 columns]"
      ]
     },
     "execution_count": 287,
     "metadata": {},
     "output_type": "execute_result"
    }
   ],
   "source": [
    "df_new = df2.copy()\n",
    "df_new"
   ]
  },
  {
   "cell_type": "markdown",
   "metadata": {},
   "source": [
    "Creating a new feature: 2 or more players might be on a base at a time. This might interfer with the pitcher's ability to pitch, or even yet involve a tendency towards a certain pitch type. We create a binary variable to see if 2 players on a base at the same time"
   ]
  },
  {
   "cell_type": "code",
   "execution_count": 288,
   "metadata": {},
   "outputs": [
    {
     "data": {
      "text/plain": [
       "0    No\n",
       "1    No\n",
       "2    No\n",
       "3    No\n",
       "4    No\n",
       "Name: two_plus_players_base, dtype: object"
      ]
     },
     "execution_count": 288,
     "metadata": {},
     "output_type": "execute_result"
    }
   ],
   "source": [
    "# Function to create a binary variable for having exactly two IDs\n",
    "def two_players(row):\n",
    "    # Count the non-null values in the 'on_1b', 'on_2b', 'on_3b' columns\n",
    "    count_non_null = sum(pd.notnull([row['on_1b'], row['on_2b'], row['on_3b']]))\n",
    "    return 'Yes' if count_non_null >= 2 else 'No'\n",
    "\n",
    "# Apply the function to each row and create a new column 'two_players'\n",
    "df_new['two_plus_players_base'] = df_new.apply(two_players, axis=1)\n",
    "# We remove them since our new features provides more interpretable information\n",
    "df_new = df_new.drop(columns=['on_1b', 'on_2b', 'on_3b'])\n",
    "\n",
    "df_new['two_plus_players_base'].head()"
   ]
  },
  {
   "cell_type": "markdown",
   "metadata": {},
   "source": [
    "Let's select features which, we found significant: Break Length, Break Angle, and Start Speed"
   ]
  },
  {
   "cell_type": "code",
   "execution_count": 289,
   "metadata": {},
   "outputs": [],
   "source": [
    "df_new = df_new.loc[:,['cluster', 'pitch_type', 'start_speed_tier', 'break_angle_tier', 'break_length_tier', 'spin_rate_tier', 'two_plus_players_base']]"
   ]
  },
  {
   "cell_type": "markdown",
   "metadata": {},
   "source": [
    "Let's solve the class imbalance - we find classes with at least 6000 observations and downsample all classes to the Min"
   ]
  },
  {
   "cell_type": "code",
   "execution_count": 290,
   "metadata": {},
   "outputs": [
    {
     "name": "stdout",
     "output_type": "stream",
     "text": [
      "Changeup              24225\n",
      "Four-Seam Fastball    24225\n",
      "Sinker                24225\n",
      "Slider                24225\n",
      "Two-Seam Fastball     24225\n",
      "Name: pitch_type, dtype: int64\n"
     ]
    }
   ],
   "source": [
    "pitch_counts = df['pitch_type'].value_counts()\n",
    "\n",
    "# Step 1: Remove classes with fewer than 3000 observations\n",
    "filtered_pitch_types = pitch_counts[pitch_counts >= 20000].index\n",
    "df_filtered = df_new[df_new['pitch_type'].isin(filtered_pitch_types)]\n",
    "\n",
    "# Step 2: Downsample the majority classes to match the size of the smallest class\n",
    "min_count = pitch_counts[pitch_counts >= 20000].min()\n",
    "\n",
    "# Resample each class to have the same number of observations as the minimum class\n",
    "df_balanced = df_filtered.groupby('pitch_type').apply(lambda x: x.sample(min_count, random_state=42)).reset_index(drop=True)\n",
    "\n",
    "df_new = df_balanced\n",
    "# Display the new pitch type distribution\n",
    "print(df_balanced['pitch_type'].value_counts())\n"
   ]
  },
  {
   "cell_type": "markdown",
   "metadata": {},
   "source": [
    "Let's see what type of transformation might be needed -Break Length is right skewed so we use Log transformation, and we use square transform for start_speed and break angle"
   ]
  },
  {
   "cell_type": "code",
   "execution_count": null,
   "metadata": {},
   "outputs": [],
   "source": [
    "from matplotlib import pyplot\n",
    "df_new.hist(figsize=(20, 20))  # You can modify the (12, 10) to any size that fits your needs\n",
    "pyplot.show()"
   ]
  },
  {
   "cell_type": "markdown",
   "metadata": {},
   "source": [
    "Removing pitch type-specific outliers for pre-processing:"
   ]
  },
  {
   "cell_type": "markdown",
   "metadata": {},
   "source": [
    "\n",
    "# Function to remove outliers based on the IQR\n",
    "def remove_outliers(df, feature):\n",
    "    Q1 = df[feature].quantile(0.25)\n",
    "    Q3 = df[feature].quantile(0.75)\n",
    "    IQR = Q3 - Q1\n",
    "    lower_bound = Q1 - 1.5 * IQR\n",
    "    upper_bound = Q3 + 1.5 * IQR\n",
    "    return df[(df[feature] >= lower_bound) & (df[feature] <= upper_bound)]\n",
    "\n",
    "# Applying the outlier removal function to each pitch type\n",
    "cleaned_df = pd.DataFrame()  # Empty DataFrame to store results\n",
    "\n",
    "for pitch_type in df_new['pitch_type'].unique():\n",
    "    # Filter the DataFrame by pitch type\n",
    "    subset = df_new[df_new['pitch_type'] == pitch_type]\n",
    "    \n",
    "    # Remove outliers for each feature within the pitch type\n",
    "    for feature in ['start_speed', 'break_angle', 'break_length']:\n",
    "        subset = remove_outliers(subset, feature)\n",
    "    \n",
    "    # Append cleaned data of current pitch type to the main DataFrame\n",
    "    cleaned_df = pd.concat([cleaned_df, subset], ignore_index=True)"
   ]
  },
  {
   "cell_type": "markdown",
   "metadata": {},
   "source": [
    "Transformation:"
   ]
  },
  {
   "cell_type": "markdown",
   "metadata": {},
   "source": [
    "# Apply log transformation \n",
    "df_new['break_length'] = np.log(df_new['break_length'] + 1)\n",
    "\n",
    "# Apply square transformation \n",
    "df_new['start_speed'] = df_new['start_speed'] ** 2\n",
    "df_new['break_angle'] = df_new['break_angle'] ** 2\n",
    "\n",
    "df_new.hist(figsize=(20, 20))  # You can modify the (12, 10) to any size that fits your needs\n",
    "pyplot.show()"
   ]
  },
  {
   "cell_type": "markdown",
   "metadata": {},
   "source": [
    "Normalizaling Data:"
   ]
  },
  {
   "cell_type": "markdown",
   "metadata": {},
   "source": [
    "from sklearn.preprocessing import StandardScaler\n",
    "scaler = StandardScaler()\n",
    "\n",
    "# Assume the features to scale are still 'start_speed', 'break_angle', 'break_length'\n",
    "features_to_scale = ['start_speed', 'break_angle', 'break_length']\n",
    "\n",
    "# Fit and transform these features\n",
    "cleaned_df[features_to_scale] = scaler.fit_transform(cleaned_df[features_to_scale])\n"
   ]
  },
  {
   "cell_type": "markdown",
   "metadata": {},
   "source": [
    "Separate training and testing set:"
   ]
  },
  {
   "cell_type": "code",
   "execution_count": 291,
   "metadata": {},
   "outputs": [
    {
     "data": {
      "text/plain": [
       "Index(['cluster', 'pitch_type', 'start_speed_tier', 'break_angle_tier',\n",
       "       'break_length_tier', 'spin_rate_tier', 'two_plus_players_base'],\n",
       "      dtype='object')"
      ]
     },
     "execution_count": 291,
     "metadata": {},
     "output_type": "execute_result"
    }
   ],
   "source": [
    "df_new.columns"
   ]
  },
  {
   "cell_type": "code",
   "execution_count": 292,
   "metadata": {},
   "outputs": [
    {
     "data": {
      "text/plain": [
       "cluster                     int32\n",
       "start_speed_tier         category\n",
       "break_angle_tier         category\n",
       "break_length_tier        category\n",
       "spin_rate_tier           category\n",
       "two_plus_players_base      object\n",
       "dtype: object"
      ]
     },
     "execution_count": 292,
     "metadata": {},
     "output_type": "execute_result"
    }
   ],
   "source": [
    "from sklearn.model_selection import train_test_split\n",
    "from sklearn.linear_model import LogisticRegression\n",
    "from sklearn.metrics import accuracy_score, classification_report\n",
    "\n",
    "# 1. Prepare data\n",
    "# 'pitch_type' will be the target variable (y), and the rest will be the features (X)\n",
    "X = df_new.drop(columns=['pitch_type']).loc[:,['cluster', 'start_speed_tier', 'break_angle_tier',\n",
    "       'break_length_tier', 'spin_rate_tier', 'two_plus_players_base']] # All features except the target\n",
    "y = df_new['pitch_type']  # Target variable\n",
    "X.dtypes"
   ]
  },
  {
   "cell_type": "code",
   "execution_count": 293,
   "metadata": {},
   "outputs": [
    {
     "data": {
      "text/html": [
       "<div>\n",
       "<style scoped>\n",
       "    .dataframe tbody tr th:only-of-type {\n",
       "        vertical-align: middle;\n",
       "    }\n",
       "\n",
       "    .dataframe tbody tr th {\n",
       "        vertical-align: top;\n",
       "    }\n",
       "\n",
       "    .dataframe thead th {\n",
       "        text-align: right;\n",
       "    }\n",
       "</style>\n",
       "<table border=\"1\" class=\"dataframe\">\n",
       "  <thead>\n",
       "    <tr style=\"text-align: right;\">\n",
       "      <th></th>\n",
       "      <th>cluster</th>\n",
       "      <th>start_speed_tier_Very Low</th>\n",
       "      <th>start_speed_tier_Low</th>\n",
       "      <th>start_speed_tier_Average</th>\n",
       "      <th>start_speed_tier_High</th>\n",
       "      <th>start_speed_tier_Very High</th>\n",
       "      <th>break_angle_tier_Very Low</th>\n",
       "      <th>break_angle_tier_Low</th>\n",
       "      <th>break_angle_tier_Average</th>\n",
       "      <th>break_angle_tier_High</th>\n",
       "      <th>...</th>\n",
       "      <th>break_length_tier_Average</th>\n",
       "      <th>break_length_tier_High</th>\n",
       "      <th>break_length_tier_Very High</th>\n",
       "      <th>spin_rate_tier_Very Low</th>\n",
       "      <th>spin_rate_tier_Low</th>\n",
       "      <th>spin_rate_tier_Average</th>\n",
       "      <th>spin_rate_tier_High</th>\n",
       "      <th>spin_rate_tier_Very High</th>\n",
       "      <th>two_plus_players_base_No</th>\n",
       "      <th>two_plus_players_base_Yes</th>\n",
       "    </tr>\n",
       "  </thead>\n",
       "  <tbody>\n",
       "    <tr>\n",
       "      <th>0</th>\n",
       "      <td>4</td>\n",
       "      <td>1</td>\n",
       "      <td>0</td>\n",
       "      <td>0</td>\n",
       "      <td>0</td>\n",
       "      <td>0</td>\n",
       "      <td>0</td>\n",
       "      <td>0</td>\n",
       "      <td>1</td>\n",
       "      <td>0</td>\n",
       "      <td>...</td>\n",
       "      <td>0</td>\n",
       "      <td>1</td>\n",
       "      <td>0</td>\n",
       "      <td>0</td>\n",
       "      <td>0</td>\n",
       "      <td>1</td>\n",
       "      <td>0</td>\n",
       "      <td>0</td>\n",
       "      <td>1</td>\n",
       "      <td>0</td>\n",
       "    </tr>\n",
       "    <tr>\n",
       "      <th>1</th>\n",
       "      <td>4</td>\n",
       "      <td>0</td>\n",
       "      <td>1</td>\n",
       "      <td>0</td>\n",
       "      <td>0</td>\n",
       "      <td>0</td>\n",
       "      <td>0</td>\n",
       "      <td>0</td>\n",
       "      <td>1</td>\n",
       "      <td>0</td>\n",
       "      <td>...</td>\n",
       "      <td>0</td>\n",
       "      <td>1</td>\n",
       "      <td>0</td>\n",
       "      <td>0</td>\n",
       "      <td>1</td>\n",
       "      <td>0</td>\n",
       "      <td>0</td>\n",
       "      <td>0</td>\n",
       "      <td>1</td>\n",
       "      <td>0</td>\n",
       "    </tr>\n",
       "    <tr>\n",
       "      <th>2</th>\n",
       "      <td>4</td>\n",
       "      <td>0</td>\n",
       "      <td>1</td>\n",
       "      <td>0</td>\n",
       "      <td>0</td>\n",
       "      <td>0</td>\n",
       "      <td>0</td>\n",
       "      <td>1</td>\n",
       "      <td>0</td>\n",
       "      <td>0</td>\n",
       "      <td>...</td>\n",
       "      <td>0</td>\n",
       "      <td>0</td>\n",
       "      <td>1</td>\n",
       "      <td>0</td>\n",
       "      <td>1</td>\n",
       "      <td>0</td>\n",
       "      <td>0</td>\n",
       "      <td>0</td>\n",
       "      <td>0</td>\n",
       "      <td>1</td>\n",
       "    </tr>\n",
       "    <tr>\n",
       "      <th>3</th>\n",
       "      <td>0</td>\n",
       "      <td>0</td>\n",
       "      <td>0</td>\n",
       "      <td>0</td>\n",
       "      <td>1</td>\n",
       "      <td>0</td>\n",
       "      <td>0</td>\n",
       "      <td>0</td>\n",
       "      <td>1</td>\n",
       "      <td>0</td>\n",
       "      <td>...</td>\n",
       "      <td>0</td>\n",
       "      <td>0</td>\n",
       "      <td>0</td>\n",
       "      <td>0</td>\n",
       "      <td>0</td>\n",
       "      <td>1</td>\n",
       "      <td>0</td>\n",
       "      <td>0</td>\n",
       "      <td>1</td>\n",
       "      <td>0</td>\n",
       "    </tr>\n",
       "    <tr>\n",
       "      <th>4</th>\n",
       "      <td>3</td>\n",
       "      <td>0</td>\n",
       "      <td>0</td>\n",
       "      <td>1</td>\n",
       "      <td>0</td>\n",
       "      <td>0</td>\n",
       "      <td>0</td>\n",
       "      <td>0</td>\n",
       "      <td>0</td>\n",
       "      <td>1</td>\n",
       "      <td>...</td>\n",
       "      <td>1</td>\n",
       "      <td>0</td>\n",
       "      <td>0</td>\n",
       "      <td>0</td>\n",
       "      <td>0</td>\n",
       "      <td>1</td>\n",
       "      <td>0</td>\n",
       "      <td>0</td>\n",
       "      <td>1</td>\n",
       "      <td>0</td>\n",
       "    </tr>\n",
       "    <tr>\n",
       "      <th>...</th>\n",
       "      <td>...</td>\n",
       "      <td>...</td>\n",
       "      <td>...</td>\n",
       "      <td>...</td>\n",
       "      <td>...</td>\n",
       "      <td>...</td>\n",
       "      <td>...</td>\n",
       "      <td>...</td>\n",
       "      <td>...</td>\n",
       "      <td>...</td>\n",
       "      <td>...</td>\n",
       "      <td>...</td>\n",
       "      <td>...</td>\n",
       "      <td>...</td>\n",
       "      <td>...</td>\n",
       "      <td>...</td>\n",
       "      <td>...</td>\n",
       "      <td>...</td>\n",
       "      <td>...</td>\n",
       "      <td>...</td>\n",
       "      <td>...</td>\n",
       "    </tr>\n",
       "    <tr>\n",
       "      <th>121120</th>\n",
       "      <td>2</td>\n",
       "      <td>0</td>\n",
       "      <td>0</td>\n",
       "      <td>1</td>\n",
       "      <td>0</td>\n",
       "      <td>0</td>\n",
       "      <td>0</td>\n",
       "      <td>1</td>\n",
       "      <td>0</td>\n",
       "      <td>0</td>\n",
       "      <td>...</td>\n",
       "      <td>1</td>\n",
       "      <td>0</td>\n",
       "      <td>0</td>\n",
       "      <td>0</td>\n",
       "      <td>1</td>\n",
       "      <td>0</td>\n",
       "      <td>0</td>\n",
       "      <td>0</td>\n",
       "      <td>1</td>\n",
       "      <td>0</td>\n",
       "    </tr>\n",
       "    <tr>\n",
       "      <th>121121</th>\n",
       "      <td>3</td>\n",
       "      <td>0</td>\n",
       "      <td>0</td>\n",
       "      <td>0</td>\n",
       "      <td>1</td>\n",
       "      <td>0</td>\n",
       "      <td>0</td>\n",
       "      <td>0</td>\n",
       "      <td>0</td>\n",
       "      <td>0</td>\n",
       "      <td>...</td>\n",
       "      <td>1</td>\n",
       "      <td>0</td>\n",
       "      <td>0</td>\n",
       "      <td>0</td>\n",
       "      <td>0</td>\n",
       "      <td>0</td>\n",
       "      <td>1</td>\n",
       "      <td>0</td>\n",
       "      <td>1</td>\n",
       "      <td>0</td>\n",
       "    </tr>\n",
       "    <tr>\n",
       "      <th>121122</th>\n",
       "      <td>2</td>\n",
       "      <td>0</td>\n",
       "      <td>0</td>\n",
       "      <td>1</td>\n",
       "      <td>0</td>\n",
       "      <td>0</td>\n",
       "      <td>0</td>\n",
       "      <td>0</td>\n",
       "      <td>1</td>\n",
       "      <td>0</td>\n",
       "      <td>...</td>\n",
       "      <td>0</td>\n",
       "      <td>1</td>\n",
       "      <td>0</td>\n",
       "      <td>0</td>\n",
       "      <td>1</td>\n",
       "      <td>0</td>\n",
       "      <td>0</td>\n",
       "      <td>0</td>\n",
       "      <td>1</td>\n",
       "      <td>0</td>\n",
       "    </tr>\n",
       "    <tr>\n",
       "      <th>121123</th>\n",
       "      <td>0</td>\n",
       "      <td>0</td>\n",
       "      <td>0</td>\n",
       "      <td>0</td>\n",
       "      <td>1</td>\n",
       "      <td>0</td>\n",
       "      <td>0</td>\n",
       "      <td>0</td>\n",
       "      <td>1</td>\n",
       "      <td>0</td>\n",
       "      <td>...</td>\n",
       "      <td>0</td>\n",
       "      <td>0</td>\n",
       "      <td>0</td>\n",
       "      <td>0</td>\n",
       "      <td>0</td>\n",
       "      <td>0</td>\n",
       "      <td>1</td>\n",
       "      <td>0</td>\n",
       "      <td>0</td>\n",
       "      <td>1</td>\n",
       "    </tr>\n",
       "    <tr>\n",
       "      <th>121124</th>\n",
       "      <td>1</td>\n",
       "      <td>0</td>\n",
       "      <td>0</td>\n",
       "      <td>1</td>\n",
       "      <td>0</td>\n",
       "      <td>0</td>\n",
       "      <td>0</td>\n",
       "      <td>0</td>\n",
       "      <td>1</td>\n",
       "      <td>0</td>\n",
       "      <td>...</td>\n",
       "      <td>0</td>\n",
       "      <td>0</td>\n",
       "      <td>0</td>\n",
       "      <td>0</td>\n",
       "      <td>0</td>\n",
       "      <td>1</td>\n",
       "      <td>0</td>\n",
       "      <td>0</td>\n",
       "      <td>1</td>\n",
       "      <td>0</td>\n",
       "    </tr>\n",
       "  </tbody>\n",
       "</table>\n",
       "<p>121125 rows × 23 columns</p>\n",
       "</div>"
      ],
      "text/plain": [
       "        cluster  start_speed_tier_Very Low  start_speed_tier_Low  \\\n",
       "0             4                          1                     0   \n",
       "1             4                          0                     1   \n",
       "2             4                          0                     1   \n",
       "3             0                          0                     0   \n",
       "4             3                          0                     0   \n",
       "...         ...                        ...                   ...   \n",
       "121120        2                          0                     0   \n",
       "121121        3                          0                     0   \n",
       "121122        2                          0                     0   \n",
       "121123        0                          0                     0   \n",
       "121124        1                          0                     0   \n",
       "\n",
       "        start_speed_tier_Average  start_speed_tier_High  \\\n",
       "0                              0                      0   \n",
       "1                              0                      0   \n",
       "2                              0                      0   \n",
       "3                              0                      1   \n",
       "4                              1                      0   \n",
       "...                          ...                    ...   \n",
       "121120                         1                      0   \n",
       "121121                         0                      1   \n",
       "121122                         1                      0   \n",
       "121123                         0                      1   \n",
       "121124                         1                      0   \n",
       "\n",
       "        start_speed_tier_Very High  break_angle_tier_Very Low  \\\n",
       "0                                0                          0   \n",
       "1                                0                          0   \n",
       "2                                0                          0   \n",
       "3                                0                          0   \n",
       "4                                0                          0   \n",
       "...                            ...                        ...   \n",
       "121120                           0                          0   \n",
       "121121                           0                          0   \n",
       "121122                           0                          0   \n",
       "121123                           0                          0   \n",
       "121124                           0                          0   \n",
       "\n",
       "        break_angle_tier_Low  break_angle_tier_Average  break_angle_tier_High  \\\n",
       "0                          0                         1                      0   \n",
       "1                          0                         1                      0   \n",
       "2                          1                         0                      0   \n",
       "3                          0                         1                      0   \n",
       "4                          0                         0                      1   \n",
       "...                      ...                       ...                    ...   \n",
       "121120                     1                         0                      0   \n",
       "121121                     0                         0                      0   \n",
       "121122                     0                         1                      0   \n",
       "121123                     0                         1                      0   \n",
       "121124                     0                         1                      0   \n",
       "\n",
       "        ...  break_length_tier_Average  break_length_tier_High  \\\n",
       "0       ...                          0                       1   \n",
       "1       ...                          0                       1   \n",
       "2       ...                          0                       0   \n",
       "3       ...                          0                       0   \n",
       "4       ...                          1                       0   \n",
       "...     ...                        ...                     ...   \n",
       "121120  ...                          1                       0   \n",
       "121121  ...                          1                       0   \n",
       "121122  ...                          0                       1   \n",
       "121123  ...                          0                       0   \n",
       "121124  ...                          0                       0   \n",
       "\n",
       "        break_length_tier_Very High  spin_rate_tier_Very Low  \\\n",
       "0                                 0                        0   \n",
       "1                                 0                        0   \n",
       "2                                 1                        0   \n",
       "3                                 0                        0   \n",
       "4                                 0                        0   \n",
       "...                             ...                      ...   \n",
       "121120                            0                        0   \n",
       "121121                            0                        0   \n",
       "121122                            0                        0   \n",
       "121123                            0                        0   \n",
       "121124                            0                        0   \n",
       "\n",
       "        spin_rate_tier_Low  spin_rate_tier_Average  spin_rate_tier_High  \\\n",
       "0                        0                       1                    0   \n",
       "1                        1                       0                    0   \n",
       "2                        1                       0                    0   \n",
       "3                        0                       1                    0   \n",
       "4                        0                       1                    0   \n",
       "...                    ...                     ...                  ...   \n",
       "121120                   1                       0                    0   \n",
       "121121                   0                       0                    1   \n",
       "121122                   1                       0                    0   \n",
       "121123                   0                       0                    1   \n",
       "121124                   0                       1                    0   \n",
       "\n",
       "        spin_rate_tier_Very High  two_plus_players_base_No  \\\n",
       "0                              0                         1   \n",
       "1                              0                         1   \n",
       "2                              0                         0   \n",
       "3                              0                         1   \n",
       "4                              0                         1   \n",
       "...                          ...                       ...   \n",
       "121120                         0                         1   \n",
       "121121                         0                         1   \n",
       "121122                         0                         1   \n",
       "121123                         0                         0   \n",
       "121124                         0                         1   \n",
       "\n",
       "        two_plus_players_base_Yes  \n",
       "0                               0  \n",
       "1                               0  \n",
       "2                               1  \n",
       "3                               0  \n",
       "4                               0  \n",
       "...                           ...  \n",
       "121120                          0  \n",
       "121121                          0  \n",
       "121122                          0  \n",
       "121123                          1  \n",
       "121124                          0  \n",
       "\n",
       "[121125 rows x 23 columns]"
      ]
     },
     "execution_count": 293,
     "metadata": {},
     "output_type": "execute_result"
    }
   ],
   "source": [
    "X_categorical = X.select_dtypes(include=['object', 'category'])\n",
    "X_numerical = X.select_dtypes(include=['int', 'float'])\n",
    "dummies = pd.get_dummies(X_categorical)\n",
    "merged = pd.concat([X_numerical,dummies],axis=1)\n",
    "X = merged\n",
    "X"
   ]
  },
  {
   "cell_type": "markdown",
   "metadata": {},
   "source": [
    "Hot One Encode Target Variable:"
   ]
  },
  {
   "cell_type": "code",
   "execution_count": 294,
   "metadata": {},
   "outputs": [],
   "source": [
    "from sklearn.preprocessing import OneHotEncoder\n",
    "# One-hot encode the target variable\n",
    "encoder = OneHotEncoder(sparse=False)\n",
    "y_encoded = encoder.fit_transform(y.values.reshape(-1, 1))"
   ]
  },
  {
   "cell_type": "markdown",
   "metadata": {},
   "source": [
    "Fit the Multinomial Logistic Regression Model"
   ]
  },
  {
   "cell_type": "code",
   "execution_count": 295,
   "metadata": {},
   "outputs": [
    {
     "data": {
      "text/plain": [
       "LogisticRegression(max_iter=1000, multi_class='multinomial')"
      ]
     },
     "execution_count": 295,
     "metadata": {},
     "output_type": "execute_result"
    }
   ],
   "source": [
    "# Split the data into training and testing sets\n",
    "X_train, X_test, y_train, y_test = train_test_split(X, y_encoded.argmax(axis=1), test_size=0.2, random_state=42)\n",
    "\n",
    "# Create and fit the logistic regression model (assuming a multinomial case since it's categorical)\n",
    "model = LogisticRegression(multi_class='multinomial', solver='lbfgs', max_iter=1000)\n",
    "model.fit(X_train, y_train)"
   ]
  },
  {
   "cell_type": "markdown",
   "metadata": {},
   "source": [
    "The model seems performs well, with a 63% accuracy"
   ]
  },
  {
   "cell_type": "code",
   "execution_count": 296,
   "metadata": {},
   "outputs": [
    {
     "name": "stdout",
     "output_type": "stream",
     "text": [
      "Accuracy: 0.35\n",
      "              precision    recall  f1-score   support\n",
      "\n",
      "           0       0.35      0.21      0.26      4907\n",
      "           1       0.35      0.35      0.35      4899\n",
      "           2       0.35      0.66      0.45      4902\n",
      "           3       0.36      0.27      0.31      4777\n",
      "           4       0.32      0.24      0.27      4740\n",
      "\n",
      "    accuracy                           0.35     24225\n",
      "   macro avg       0.35      0.34      0.33     24225\n",
      "weighted avg       0.35      0.35      0.33     24225\n",
      "\n"
     ]
    }
   ],
   "source": [
    "# Predict on the test set\n",
    "y_pred = model.predict(X_test)\n",
    "\n",
    "# Evaluate the model's performance\n",
    "accuracy = accuracy_score(y_test, y_pred)\n",
    "print(f\"Accuracy: {accuracy:.2f}\")\n",
    "\n",
    "# Generate a classification report\n",
    "print(classification_report(y_test, y_pred))"
   ]
  },
  {
   "cell_type": "code",
   "execution_count": 297,
   "metadata": {},
   "outputs": [
    {
     "data": {
      "image/png": "[encoded data removed]",
      "text/plain": [
       "<Figure size 720x504 with 2 Axes>"
      ]
     },
     "metadata": {
      "needs_background": "light"
     },
     "output_type": "display_data"
    }
   ],
   "source": [
    "from sklearn.metrics import confusion_matrix\n",
    "# Create confusion matrix\n",
    "cm = confusion_matrix(y_test, y_pred)\n",
    "\n",
    "# Get the unique pitch types to label the confusion matrix\n",
    "pitch_types = model.classes_  # This will give the pitch type names in the order of the labels\n",
    "\n",
    "# Convert confusion matrix to a DataFrame for better readability\n",
    "cm_df = pd.DataFrame(cm, index=pitch_types, columns=pitch_types)\n",
    "\n",
    "# Plot the confusion matrix using seaborn\n",
    "plt.figure(figsize=(10, 7))\n",
    "sns.heatmap(cm_df, annot=True, cmap='Blues', fmt='g')  # fmt='g' ensures integer formatting\n",
    "plt.title('Confusion Matrix for Pitch Type Classification')\n",
    "plt.ylabel('Actual Pitch Type')\n",
    "plt.xlabel('Predicted Pitch Type')\n",
    "plt.show()"
   ]
  },
  {
   "cell_type": "markdown",
   "metadata": {},
   "source": [
    "# Model 2: More Complex Model"
   ]
  },
  {
   "cell_type": "markdown",
   "metadata": {},
   "source": [
    "Copy df"
   ]
  },
  {
   "cell_type": "code",
   "execution_count": null,
   "metadata": {},
   "outputs": [],
   "source": [
    "df_new = df.copy()"
   ]
  },
  {
   "cell_type": "markdown",
   "metadata": {},
   "source": [
    "We drop columns with little significance and collinearity issues:"
   ]
  },
  {
   "cell_type": "code",
   "execution_count": null,
   "metadata": {},
   "outputs": [],
   "source": [
    "df_new = df_new.drop(columns=['end_speed', 'sz_top', 'sz_bot', 'is_final_pitch', 'top', 'vy0','stand', 'p_throws', 'score', 'stand','pitch_tfs_zulu'])"
   ]
  },
  {
   "cell_type": "markdown",
   "metadata": {},
   "source": [
    "Creating a new feature: 2 or more players might be on a base at a time. This might interfer with the pitcher's ability to pitch, or even yet involve a tendency towards a certain pitch type. We create a binary variable to see if 2 players on a base at the same time"
   ]
  },
  {
   "cell_type": "code",
   "execution_count": null,
   "metadata": {},
   "outputs": [],
   "source": [
    "# Function to create a binary variable for having exactly two IDs\n",
    "def two_players(row):\n",
    "    # Count the non-null values in the 'on_1b', 'on_2b', 'on_3b' columns\n",
    "    count_non_null = sum(pd.notnull([row['on_1b'], row['on_2b'], row['on_3b']]))\n",
    "    return 'Yes' if count_non_null >= 2 else 'No'\n",
    "\n",
    "# Apply the function to each row and create a new column 'two_players'\n",
    "df_new['two_plus_players_base'] = df_new.apply(two_players, axis=1)\n",
    "# We remove them since our new features provides more interpretable information\n",
    "df_new = df_new.drop(columns=['on_1b', 'on_2b', 'on_3b'])\n",
    "\n",
    "df_new['two_plus_players_base'].head()"
   ]
  },
  {
   "cell_type": "markdown",
   "metadata": {},
   "source": [
    "<b>Pre-Processing Numerical Values"
   ]
  },
  {
   "cell_type": "markdown",
   "metadata": {},
   "source": [
    "Removing Outliers - Preventing bias in Standardization. Looking at the previous boxplot for start speed, Four Seam, and Two Seam Fastballs both have many outliers. Same goes for the Break Angle, and Cutter feature with the Sinker pitch type. Let's remove the"
   ]
  },
  {
   "cell_type": "code",
   "execution_count": null,
   "metadata": {},
   "outputs": [],
   "source": [
    "# Define pitch types and variables to filter\n",
    "outlier_specs = {\n",
    "    'Four Seam Fastball': ['start_speed'],\n",
    "    'Two Seam Fastball': ['start_speed'],\n",
    "    'Cutter': ['break_angle'],\n",
    "    'Sinker': ['break_angle']\n",
    "}\n",
    "\n",
    "# Apply the outlier removal function based on outlier_specs\n",
    "cleaned_df = pd.DataFrame()  # Empty DataFrame to store results\n",
    "\n",
    "# Loop over the defined pitch types and features in the outlier_specs\n",
    "for pitch_type, features in outlier_specs.items():\n",
    "    # Filter the DataFrame by pitch type\n",
    "    subset = df_new[df_new['pitch_type'] == pitch_type]\n",
    "    \n",
    "    # Remove outliers for each feature within the pitch type\n",
    "    for feature in features:\n",
    "        subset = remove_outliers(subset, feature)\n",
    "    \n",
    "    # Append cleaned data for the current pitch type to the main DataFrame\n",
    "    cleaned_df = pd.concat([cleaned_df, subset], ignore_index=True)\n",
    "\n",
    "# For all other pitch types, append without outlier removal\n",
    "for pitch_type in df_new['pitch_type'].unique():\n",
    "    if pitch_type not in outlier_specs:\n",
    "        # Just append the data without removing outliers\n",
    "        subset = df_new[df_new['pitch_type'] == pitch_type]\n",
    "        cleaned_df = pd.concat([cleaned_df, subset], ignore_index=True)\n",
    "\n",
    "# Display the cleaned DataFrame\n",
    "df_new = cleaned_df"
   ]
  },
  {
   "cell_type": "markdown",
   "metadata": {},
   "source": [
    "Transformation - We earlier use log transformationWe find the following the following skewness:\n",
    "- Righ Skew: pcount pitcher, inning, break length, home teamn runs, at_bat_num\n",
    "- Left Skew:pfx_z, start_speed, break_angle, spin_rate, spin_dir, az"
   ]
  },
  {
   "cell_type": "code",
   "execution_count": null,
   "metadata": {},
   "outputs": [],
   "source": [
    "from matplotlib import pyplot\n",
    "df_new.hist(figsize=(20, 20))  # You can modify the (12, 10) to any size that fits your needs\n",
    "pyplot.show()"
   ]
  },
  {
   "cell_type": "markdown",
   "metadata": {},
   "source": [
    "Let's transform columns based on skewdness, log transformation for right skew, and square transf for left skew\n",
    "\n",
    "- Righ Skew: pcount pitcher, inning, break length, home teamn runs, at_bat_num\n",
    "- Left Skew:pfx_z, start_speed, break_angle, spin_rate, spin_dir, az"
   ]
  },
  {
   "cell_type": "code",
   "execution_count": null,
   "metadata": {},
   "outputs": [],
   "source": [
    "df_new2 = df_new.copy()"
   ]
  },
  {
   "cell_type": "markdown",
   "metadata": {},
   "source": [
    "The normalization seems to work very well on az, and break length"
   ]
  },
  {
   "cell_type": "code",
   "execution_count": null,
   "metadata": {},
   "outputs": [],
   "source": [
    "\n",
    "# Define columns that are right-skewed and left-skewed\n",
    "right_skew_columns = ['pcount_pitcher', 'inning', 'break_length', 'home_team_runs', 'at_bat_num']\n",
    "left_skew_columns = ['pfx_z', 'start_speed', 'break_angle', 'spin_rate', 'spin_dir', 'az']\n",
    "\n",
    "# Log transformation for right-skewed columns (handle zero or negative values by adding a small constant)\n",
    "for col in right_skew_columns:\n",
    "    # Ensure the column has no zero or negative values (log(0) is undefined)\n",
    "    df_new2[col] = np.log(df_new2[col] + 1)  # Adding 1 to avoid log(0) issues\n",
    "\n",
    "# Cube transformation for left-skewed columns\n",
    "for col in left_skew_columns:\n",
    "    df_new2[col] = np.cbrt(df_new2[col])\n",
    "\n",
    "# Plot histograms for all columns in df_new\n",
    "df_new2[right_skew_columns + left_skew_columns].hist(figsize=(20, 20))  # Modify the size as needed\n",
    "\n",
    "# Now, remove all other numerical columns except the transformed ones\n",
    "# Get a list of all numerical columns\n",
    "numerical_columns = df_new2.select_dtypes(include=[np.number]).columns.tolist()\n",
    "\n",
    "# Create a list of the transformed columns\n",
    "transformed_columns = right_skew_columns + left_skew_columns\n",
    "\n",
    "cat_columns = df_new2.select_dtypes(include=['object']).columns.tolist()\n",
    "\n",
    "# Drop all numerical columns except the transformed ones\n",
    "columns_to_keep = transformed_columns + cat_columns + ['pitch_type']  # Keeping the pitch_type or any other categorical columns you need\n",
    "df_new2 = df_new2[columns_to_keep]\n",
    "plt.tight_layout()  # Adjusts the spacing between plots for better visualization\n",
    "plt.show()\n"
   ]
  },
  {
   "cell_type": "markdown",
   "metadata": {},
   "source": [
    "Let's scale these features:"
   ]
  },
  {
   "cell_type": "code",
   "execution_count": null,
   "metadata": {},
   "outputs": [],
   "source": [
    "features_to_scale = transformed_columns \n",
    "\n",
    "df_new2[features_to_scale] = scaler.fit_transform(df_new2[features_to_scale])\n"
   ]
  },
  {
   "cell_type": "code",
   "execution_count": null,
   "metadata": {},
   "outputs": [],
   "source": [
    "df_new2[features_to_scale].isna().sum()"
   ]
  },
  {
   "cell_type": "markdown",
   "metadata": {},
   "source": [
    "Let's remove columns with NAs"
   ]
  },
  {
   "cell_type": "code",
   "execution_count": null,
   "metadata": {},
   "outputs": [],
   "source": [
    "df_new2 = df_new2.drop(columns=[\"home_team_runs\"])"
   ]
  },
  {
   "cell_type": "markdown",
   "metadata": {},
   "source": [
    "<b>Categorical data</b> - let's retain type, pitch_des, and the two_plus_players_base columns"
   ]
  },
  {
   "cell_type": "code",
   "execution_count": null,
   "metadata": {},
   "outputs": [],
   "source": [
    "df_new3 = df_new2.copy()\n",
    "df_new3 = df_new3.loc[:, ~df_new3.columns.duplicated()]"
   ]
  },
  {
   "cell_type": "code",
   "execution_count": null,
   "metadata": {},
   "outputs": [],
   "source": [
    "\n",
    "# Define the categorical columns to retain\n",
    "selected_categorical_columns = ['pitch_type', 'type', 'pitch_des', 'two_plus_players_base']\n",
    "\n",
    "# Select only the specified categorical columns\n",
    "df_selected_categorical = df_new3[selected_categorical_columns]\n",
    "\n",
    "# Select the numerical columns, making sure to exclude 'pitch_type' to avoid duplicates\n",
    "numerical_columns = df_new3.drop(columns=['pitch_type']).select_dtypes(include=['int', 'float'])\n",
    "\n",
    "# Concatenate the numerical columns and the selected categorical columns\n",
    "df_new3_clean = pd.concat([numerical_columns, df_selected_categorical], axis=1)\n",
    "\n",
    "# Remove duplicate rows if needed, but it might not be necessary\n",
    "# Display the first few rows of the cleaned DataFrame\n",
    "#df_new3_clean = df_new3_clean.drop(df_new3_clean.columns[11], axis=1)\n",
    "\n",
    "df_new3_clean"
   ]
  },
  {
   "cell_type": "markdown",
   "metadata": {},
   "source": [
    "Separate target variable - train test split"
   ]
  },
  {
   "cell_type": "code",
   "execution_count": null,
   "metadata": {},
   "outputs": [],
   "source": [
    "from sklearn.model_selection import train_test_split\n",
    "from sklearn.linear_model import LogisticRegression\n",
    "from sklearn.metrics import accuracy_score, classification_report\n",
    "\n",
    "# 1. Prepare data\n",
    "# 'pitch_type' will be the target variable (y), and the rest will be the features (X)\n",
    "X = df_new3_clean.drop(columns=['pitch_type']) # All features except the target\n",
    "y = df_new3_clean['pitch_type']  # Target variable"
   ]
  },
  {
   "cell_type": "markdown",
   "metadata": {},
   "source": [
    "Dealing with imbalance for the target variable"
   ]
  },
  {
   "cell_type": "code",
   "execution_count": null,
   "metadata": {},
   "outputs": [],
   "source": [
    "# Combine X and y, filter pitch types with >= 7000 observations, and downsample\n",
    "df_filtered = pd.concat([X, y], axis=1)\n",
    "valid_pitch_types = df_filtered['pitch_type'].value_counts().loc[lambda x: x >= 20000]\n",
    "min_count = valid_pitch_types.min()\n",
    "df_filtered = df_filtered[df_filtered['pitch_type'].isin(valid_pitch_types.index)]\n",
    "\n",
    "# Downsample each pitch type to the minimum count\n",
    "df_downsampled = df_filtered.groupby('pitch_type').apply(lambda x: x.sample(min_count, random_state=42)).reset_index(drop=True)\n",
    "\n",
    "# Separate back into X and y\n",
    "X, y = df_downsampled.drop(columns=['pitch_type']), df_downsampled['pitch_type']\n",
    "\n",
    "# Display class distribution\n",
    "print(y.value_counts())\n"
   ]
  },
  {
   "cell_type": "code",
   "execution_count": null,
   "metadata": {},
   "outputs": [],
   "source": [
    "y.values.shape"
   ]
  },
  {
   "cell_type": "markdown",
   "metadata": {},
   "source": [
    "Categorical encoding - Explanatory Variables"
   ]
  },
  {
   "cell_type": "code",
   "execution_count": null,
   "metadata": {},
   "outputs": [],
   "source": [
    "X_categorical = X.select_dtypes(include=['object'])\n",
    "X_numerical = X.select_dtypes(include=['int', 'float'])\n",
    "dummies = pd.get_dummies(X_categorical)\n",
    "merged = pd.concat([X_numerical,dummies],axis=1)\n",
    "X = merged\n",
    "X"
   ]
  },
  {
   "cell_type": "markdown",
   "metadata": {},
   "source": [
    "Categorical encoding - Target Variable"
   ]
  },
  {
   "cell_type": "code",
   "execution_count": null,
   "metadata": {},
   "outputs": [],
   "source": [
    "dummies = pd.get_dummies(y)\n",
    "y = dummies\n",
    "y"
   ]
  },
  {
   "cell_type": "markdown",
   "metadata": {},
   "source": [
    "Let's save it:"
   ]
  },
  {
   "cell_type": "code",
   "execution_count": null,
   "metadata": {},
   "outputs": [],
   "source": [
    "X_processed = X.copy()\n",
    "y_processed = y.copy()\n",
    "\n",
    "y_processed = y_processed.values\n",
    "y_processed.shape"
   ]
  },
  {
   "cell_type": "markdown",
   "metadata": {},
   "source": [
    "Do the train-test split"
   ]
  },
  {
   "cell_type": "code",
   "execution_count": null,
   "metadata": {},
   "outputs": [],
   "source": [
    "X_processed.isnull().sum()"
   ]
  },
  {
   "cell_type": "code",
   "execution_count": null,
   "metadata": {},
   "outputs": [],
   "source": [
    "# Split the data into training and testing sets\n",
    "X_train, X_test, y_train, y_test = train_test_split(X_processed, y_processed.argmax(axis=1), test_size=0.2, random_state=42)\n",
    "# Create and fit the logistic regression model (assuming a multinomial case since it's categorical)\n",
    "model = LogisticRegression(multi_class='multinomial', solver='lbfgs', max_iter=1000)\n",
    "model.fit(X_train, y_train)"
   ]
  },
  {
   "cell_type": "markdown",
   "metadata": {},
   "source": [
    "Predicting the model - we find a 75% accuracy"
   ]
  },
  {
   "cell_type": "code",
   "execution_count": null,
   "metadata": {},
   "outputs": [],
   "source": [
    "# Predict on the test set\n",
    "y_pred = model.predict(X_test)\n",
    "\n",
    "# Evaluate the model's performance\n",
    "accuracy = accuracy_score(y_test, y_pred)\n",
    "print(f\"Accuracy: {accuracy:.2f}\")\n",
    "\n",
    "# Generate a classification report\n",
    "print(classification_report(y_test, y_pred))"
   ]
  },
  {
   "cell_type": "markdown",
   "metadata": {},
   "source": [
    "The model performs well when adding other numerical and categorical variables !"
   ]
  },
  {
   "cell_type": "code",
   "execution_count": null,
   "metadata": {},
   "outputs": [],
   "source": [
    "# Create confusion matrix\n",
    "cm = confusion_matrix(y_test, y_pred)\n",
    "\n",
    "# Get the unique pitch types to label the confusion matrix\n",
    "pitch_types = model.classes_  # This will give the pitch type names in the order of the labels\n",
    "\n",
    "# Convert confusion matrix to a DataFrame for better readability\n",
    "cm_df = pd.DataFrame(cm, index=pitch_types, columns=pitch_types)\n",
    "\n",
    "# Plot the confusion matrix using seaborn\n",
    "plt.figure(figsize=(10, 7))\n",
    "sns.heatmap(cm_df, annot=True, cmap='Blues', fmt='g')  # fmt='g' ensures integer formatting\n",
    "plt.title('Confusion Matrix for Pitch Type Classification')\n",
    "plt.ylabel('Actual Pitch Type')\n",
    "plt.xlabel('Predicted Pitch Type')\n",
    "plt.show()"
   ]
  },
  {
   "cell_type": "markdown",
   "metadata": {},
   "source": []
  },
  {
   "cell_type": "code",
   "execution_count": null,
   "metadata": {},
   "outputs": [],
   "source": []
  },
  {
   "cell_type": "markdown",
   "metadata": {},
   "source": [
    "# Other"
   ]
  },
  {
   "cell_type": "markdown",
   "metadata": {},
   "source": [
    "Let's save these two to the data:"
   ]
  },
  {
   "cell_type": "code",
   "execution_count": null,
   "metadata": {},
   "outputs": [],
   "source": [
    "# Apply log transformation for the 'break_length' column (right-skewed)\n",
    "df_new2['break_length'] = np.log(df_new2['break_length'] + 1)  # Adding 1 to avoid log(0) issues\n",
    "\n",
    "# Apply cube root transformation for the 'az' column (left-skewed)\n",
    "df_new2['az'] = np.cbrt(df_new2['az'])"
   ]
  },
  {
   "cell_type": "markdown",
   "metadata": {},
   "source": [
    "Reciprocal transformation seems to be effective in making the distribution normal"
   ]
  },
  {
   "cell_type": "code",
   "execution_count": null,
   "metadata": {},
   "outputs": [],
   "source": [
    "# Define columns that are right-skewed and left-skewed\n",
    "right_skew_columns = ['pcount_pitcher', 'inning', 'home_team_runs', 'at_bat_num']\n",
    "left_skew_columns = ['pfx_z', 'start_speed', 'break_angle', 'spin_rate', 'spin_dir']\n",
    "\n",
    "# Square Root Transformation for right-skewed columns (other than 'break_length' already transformed)\n",
    "for col in right_skew_columns:\n",
    "    df_new2[col + '_sqrt'] = np.sqrt(df_new2[col])\n",
    "\n",
    "# Reciprocal Transformation for left-skewed columns (other than 'az' already transformed)\n",
    "for col in left_skew_columns:\n",
    "    df_new2[col + '_reciprocal'] = 1 / (df_new2[col] + 1)  # Adding 1 to avoid division by zero\n",
    "\n",
    "# Plot histograms for all columns in df_new\n",
    "df_new2[right_skew_columns + left_skew_columns].hist(figsize=(20, 20))  # Modify the size as needed\n",
    "plt.tight_layout()  # Adjusts the spacing between plots for better visualization\n",
    "plt.show()\n"
   ]
  },
  {
   "cell_type": "markdown",
   "metadata": {},
   "source": [
    "Saving reciprocal transformed columns:"
   ]
  },
  {
   "cell_type": "code",
   "execution_count": null,
   "metadata": {},
   "outputs": [],
   "source": [
    "\n",
    "# Define left-skewed columns\n",
    "left_skew_columns = ['pfx_z', 'start_speed', 'break_angle', 'spin_rate', 'spin_dir']\n",
    "\n",
    "# Apply Reciprocal Transformation for left-skewed columns\n",
    "for col in left_skew_columns:\n",
    "    df_new2[col] = 1 / (df_new2[col] + 1)  # Adding 1 to avoid division by zero\n"
   ]
  },
  {
   "cell_type": "markdown",
   "metadata": {},
   "source": [
    "Let's see if we can find other transformations for the right skewed columns:"
   ]
  },
  {
   "cell_type": "code",
   "execution_count": null,
   "metadata": {},
   "outputs": [],
   "source": [
    "import numpy as np\n",
    "import pandas as pd\n",
    "from scipy import stats\n",
    "\n",
    "# Define right-skewed columns\n",
    "right_skew_columns = ['pcount_pitcher', 'inning', 'home_team_runs', 'at_bat_num']\n",
    "\n",
    "# Assuming df_new2 is a copy of the original dataframe\n",
    "df_new2 = df.copy()\n",
    "\n",
    "# Apply Square Root Transformation for right-skewed columns\n",
    "for col in right_skew_columns:\n",
    "    df_new2[col + '_sqrt'] = np.sqrt(df_new2[col])\n",
    "\n",
    "# Apply Box-Cox Transformation (only works for positive values)\n",
    "for col in right_skew_columns:\n",
    "    # Ensure no zero or negative values before applying Box-Cox\n",
    "    df_new2[col + '_boxcox'], _ = stats.boxcox(df_new2[col] + 1)  # Adding 1 to avoid log(0) issues\n",
    "\n",
    "# Apply Yeo-Johnson Transformation (can handle negative and zero values)\n",
    "for col in right_skew_columns:\n",
    "    df_new2[col + '_yeojohnson'], _ = stats.yeojohnson(df_new2[col])\n",
    "\n",
    "# Plot histograms to visualize the transformations\n",
    "import matplotlib.pyplot as plt\n",
    "\n",
    "# List of transformed columns to plot\n",
    "transformed_columns = [col + '_sqrt' for col in right_skew_columns] + \\\n",
    "                      [col + '_boxcox' for col in right_skew_columns] + \\\n",
    "                      [col + '_yeojohnson' for col in right_skew_columns]\n",
    "\n",
    "# Create histograms for the transformed columns\n",
    "df_new2[transformed_columns].hist(figsize=(20, 20))\n",
    "plt.tight_layout()\n",
    "plt.show()\n",
    "\n",
    "# pcount pitcher sqrt, inning sqrt, at bat num yeojohnson\n"
   ]
  },
  {
   "cell_type": "markdown",
   "metadata": {},
   "source": [
    "Let's apply additional transformations:"
   ]
  },
  {
   "cell_type": "code",
   "execution_count": null,
   "metadata": {},
   "outputs": [],
   "source": [
    "# Apply Square Root Transformation for 'pcount_pitcher' and 'inning'\n",
    "df_new2['pcount_pitcher'] = np.sqrt(df_new2['pcount_pitcher'])\n",
    "df_new2['inning'] = np.sqrt(df_new2['inning'])\n",
    "\n",
    "# Apply Yeo-Johnson Transformation for 'at_bat_num'\n",
    "df_new2['at_bat_num'], _ = stats.yeojohnson(df_new2['at_bat_num'])\n",
    "\n",
    "# Optionally, you can check the transformed data\n",
    "print(df_new2[['pcount_pitcher', 'inning', 'at_bat_num_']].head())"
   ]
  },
  {
   "cell_type": "markdown",
   "metadata": {},
   "source": [
    "Let's apply a Standard Scaler: "
   ]
  },
  {
   "cell_type": "code",
   "execution_count": null,
   "metadata": {},
   "outputs": [],
   "source": [
    "df_new3 = df_new2.copy()"
   ]
  },
  {
   "cell_type": "code",
   "execution_count": null,
   "metadata": {},
   "outputs": [],
   "source": [
    "# 1. Prepare data: 'pitch_type' will be the target variable (y), and the rest will be the features (X)\n",
    "X = df_new3.drop(columns=['pitch_type'])  # All features except the target\n",
    "y = df_new3['pitch_type']  # Target variable"
   ]
  },
  {
   "cell_type": "code",
   "execution_count": null,
   "metadata": {},
   "outputs": [],
   "source": [
    "X_train, X_test, y_train, y_test = train_test_split(X, y, test_size=0.2, random_state=42)"
   ]
  },
  {
   "cell_type": "code",
   "execution_count": null,
   "metadata": {},
   "outputs": [],
   "source": [
    "# 3. Apply StandardScaler to the training data (fit on train, transform on both train and test)\n",
    "scaler = StandardScaler()\n",
    "\n",
    "# Fit on training data\n",
    "X_train_scaled = scaler.fit_transform(X_train)\n",
    "\n",
    "# Transform test data using the same scaler\n",
    "X_test_scaled = scaler.transform(X_test)"
   ]
  },
  {
   "cell_type": "markdown",
   "metadata": {},
   "source": [
    "Scaling values:"
   ]
  },
  {
   "cell_type": "code",
   "execution_count": null,
   "metadata": {},
   "outputs": [],
   "source": [
    "from sklearn.preprocessing import StandardScaler\n",
    "scale = StandardScaler()\n",
    "scaledX = scale.fit_transform(df_new3.select_dtypes(include=['int', 'float']))\n",
    "print(scaledX)"
   ]
  },
  {
   "cell_type": "markdown",
   "metadata": {},
   "source": []
  },
  {
   "cell_type": "code",
   "execution_count": null,
   "metadata": {},
   "outputs": [],
   "source": [
    "# 1. Select and one-hot encode the categorical columns\n",
    "selected_columns = ['pitch_type', 'pitch_des', 'pitch_id', 'two_plus_players_base', 'type']\n",
    "df_encoded = pd.get_dummies(df_new3[selected_columns])\n",
    "\n",
    "# 2. Select the numeric columns and apply standard scaling\n",
    "numerics = df_new3.select_dtypes(include=['int', 'float'])\n",
    "scale = StandardScaler()\n",
    "scaled_numeric = scale.fit_transform(numerics)\n",
    "\n",
    "# Convert scaled numeric data back to a DataFrame with appropriate column names\n",
    "df_scaled_numeric = pd.DataFrame(scaled_numeric, columns=numerics.columns, index=df_new3.index)\n",
    "\n",
    "# 3. Concatenate the scaled numeric data and one-hot encoded categorical data\n",
    "df_final = pd.concat([df_scaled_numeric, df_encoded], axis=1)\n",
    "\n",
    "# Display the first few rows of the final DataFrame\n",
    "df_final"
   ]
  },
  {
   "cell_type": "markdown",
   "metadata": {},
   "source": [
    "Selecting a subset of categorical variables to encode:"
   ]
  },
  {
   "cell_type": "code",
   "execution_count": null,
   "metadata": {},
   "outputs": [],
   "source": [
    "# Assuming df_new3 is your DataFrame, select only the specified categorical columns\n",
    "selected_columns = ['pitch_type', 'pitch_des', 'two_plus_players_base', 'type']\n",
    "\n",
    "# Filter the DataFrame to include only these columns\n",
    "df_selected = df_new3[selected_columns]\n",
    "\n",
    "# Apply One-Hot Encoding using pandas get_dummies\n",
    "df_encoded = pd.get_dummies(df_selected, columns=selected_columns)"
   ]
  },
  {
   "cell_type": "markdown",
   "metadata": {},
   "source": []
  },
  {
   "cell_type": "markdown",
   "metadata": {},
   "source": [
    "Standardizing Data - Data imbalance"
   ]
  },
  {
   "cell_type": "markdown",
   "metadata": {},
   "source": [
    "Look at the histograms for these features"
   ]
  },
  {
   "cell_type": "markdown",
   "metadata": {},
   "source": [
    "0. Remove Outliers if necesary - like in fastball in the speed boxplot (top 5% outlier)\n",
    "1. Figure out transformation to apply\n",
    "2. Apply a scaler to numerical features\n",
    "3. One hot encoding categorical features"
   ]
  },
  {
   "cell_type": "markdown",
   "metadata": {},
   "source": [
    "Do a transformation, standardization, and then take the one hot encoding for cat\n",
    "Create a function to check the skew of the mean. Check how much bigger the mean is from the median"
   ]
  },
  {
   "cell_type": "markdown",
   "metadata": {},
   "source": [
    "Transformation - numeric columns and look at the histograms; log transformation if right skew (mean bigger than median), left skew: square transf or exponential exp (feature) "
   ]
  },
  {
   "cell_type": "code",
   "execution_count": null,
   "metadata": {},
   "outputs": [],
   "source": []
  },
  {
   "cell_type": "markdown",
   "metadata": {},
   "source": [
    "Lasso  - bends linear regression by adjusting trajectory of the best fit"
   ]
  },
  {
   "cell_type": "code",
   "execution_count": null,
   "metadata": {},
   "outputs": [],
   "source": [
    "df_new = df.copy()"
   ]
  },
  {
   "cell_type": "code",
   "execution_count": null,
   "metadata": {},
   "outputs": [],
   "source": [
    "from sklearn.preprocessing import OneHotEncoder\n",
    "from sklearn.linear_model import Lasso\n",
    "\n",
    "encoder = OneHotEncoder()\n",
    "df_pitch_type = encoder.fit_transform(df_new[[\"pitch_type\"]]).toarray()\n",
    "encoded_df = pd.DataFrame(df_pitch_type, columns=encoder.get_feature_names_out([\"pitch_type\"]))\n",
    "df_encoded = pd.concat([df, encoded_df], axis=1)\n",
    "df_encoded"
   ]
  },
  {
   "cell_type": "markdown",
   "metadata": {},
   "source": [
    "Let's remove the NAs to fit the lasso"
   ]
  },
  {
   "cell_type": "code",
   "execution_count": null,
   "metadata": {},
   "outputs": [],
   "source": [
    "# Step 1: Drop all the rows where pitch type is not one of the values matching the MLB standards\n",
    "# Step 2: Filter out for the rows that don't make sense, group data based on the different uniqeu values on pitch, and do EDA based on pitch\n",
    "# pitch type values\n",
    "# Histogram of start_speed when == FF or CH\n",
    "# need to know which variables are useful to predict pitch type\n",
    "# Reverse engineerting to know which feature would be the i\n",
    "# Separate data on pitch type\n",
    "df[df['pitch_type']"
   ]
  },
  {
   "cell_type": "markdown",
   "metadata": {},
   "source": [
    "Some values are distributed across the data. Need to have a model predicting 14 different things"
   ]
  },
  {
   "cell_type": "markdown",
   "metadata": {},
   "source": [
    "Instead of the mean"
   ]
  },
  {
   "cell_type": "markdown",
   "metadata": {},
   "source": [
    "Find a pitch type with different distribution than data has on average"
   ]
  },
  {
   "cell_type": "markdown",
   "metadata": {},
   "source": [
    "Numeric features: can look at mean or median"
   ]
  },
  {
   "cell_type": "markdown",
   "metadata": {},
   "source": [
    "Histogram of feature 2, and now overlay the histogram with FF vs CH."
   ]
  },
  {
   "cell_type": "markdown",
   "metadata": {},
   "source": [
    "Reverse engineering"
   ]
  }
 ],
 "metadata": {
  "interpreter": {
   "hash": "945abb972e124003f4843088a0f1b1c9620bc30c2591a256c6685f4c82ba3924"
  },
  "kernelspec": {
   "display_name": "Python 3.9.7",
   "language": "python",
   "name": "python3"
  },
  "language_info": {
   "codemirror_mode": {
    "name": "ipython",
    "version": 3
   },
   "file_extension": ".py",
   "mimetype": "text/x-python",
   "name": "python",
   "nbconvert_exporter": "python",
   "pygments_lexer": "ipython3",
   "version": "3.9.7"
  },
  "orig_nbformat": 4
 },
 "nbformat": 4,
 "nbformat_minor": 2
}
